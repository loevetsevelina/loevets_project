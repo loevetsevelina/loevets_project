{
 "cells": [
  {
   "cell_type": "code",
   "execution_count": 413,
   "metadata": {},
   "outputs": [],
   "source": [
    "import numpy as np\n",
    "import sympy as sy\n",
    "import matplotlib.pyplot as plt\n",
    "from numpy import linalg as LA"
   ]
  },
  {
   "cell_type": "code",
   "execution_count": 414,
   "metadata": {},
   "outputs": [],
   "source": [
    "start, end = 0, 1\n",
    "A = np.array([[3, 2], [7, 1]])"
   ]
  },
  {
   "cell_type": "code",
   "execution_count": 415,
   "metadata": {},
   "outputs": [
    {
     "name": "stdout",
     "output_type": "stream",
     "text": [
      "[ 5.87298335 -1.87298335]\n"
     ]
    }
   ],
   "source": [
    "A = np.array([[3, 2], [7, 1]])\n",
    "w,v = LA.eig(A)\n",
    "print (w)"
   ]
  },
  {
   "cell_type": "code",
   "execution_count": 416,
   "metadata": {},
   "outputs": [],
   "source": [
    "def phi1(x): \n",
    "    return 2 * ((x + 1) ** 0.5 - 1)\n",
    "def phi2(x):\n",
    "    return np.log(x + 1)\n",
    "def der_phi1(x):\n",
    "    return (1 / (x + 1))\n",
    "def der_phi2(x):\n",
    "    return 1/(x+1)**0.5"
   ]
  },
  {
   "cell_type": "code",
   "execution_count": 417,
   "metadata": {},
   "outputs": [],
   "source": [
    "def RP(x):\n",
    "    f = np.empty(2)\n",
    "    f[0] = der_phi1(x) + A[0][0]*phi1(x) + A[0][1]*phi2(x)\n",
    "    f[1] = der_phi2(x) + A[1][0]*phi1(x) + A[1][1]*phi2(x)\n",
    "    return f"
   ]
  },
  {
   "cell_type": "code",
   "execution_count": 418,
   "metadata": {},
   "outputs": [],
   "source": [
    "def im_Euler(N,U0):\n",
    "    x = np.linspace(start, end, N + 1)\n",
    "    vecfunct = np.zeros((N + 1, 2))\n",
    "\n",
    "    vecfunct[0] = U0\n",
    "    tau = (end - start) / N\n",
    "    \n",
    "    def F(x,u):\n",
    "        f = np.empty(2)\n",
    "        f[0] = RP(x)[0] - A.dot(u)[0]\n",
    "        f[1] = RP(x)[1] - A.dot(u)[1]\n",
    "        return np.array(f)\n",
    "    \n",
    "    for i in range(0,N):\n",
    "         vecfunct[i+1] = vecfunct[i]+ tau/2 *(F(tau*i, vecfunct[i]) + F(tau*(i+1),vecfunct[i] + tau*F(tau*i, vecfunct[i])))\n",
    "        #vecfunct[i+1] = vecfunct[i]+ tau/2 *(F(x[i], vecfunct[i]) + F(x[i + 1],vecfunct[i] + tau*F(x[i], vecfunct[i])))\n",
    "                #f[i+1] = f[i]+ tau/2 *(funct_sin(tau*i,f[i]) + funct_sin(tau*(i+1),f[i] + tau*funct_sin(tau*i,f[i])))\n",
    "    return vecfunct"
   ]
  },
  {
   "cell_type": "code",
   "execution_count": 419,
   "metadata": {},
   "outputs": [],
   "source": [
    "def Adams(N,U0):\n",
    "    vecfunct = np.zeros((N + 1, 2))\n",
    "\n",
    "    vecfunct[0] = U0\n",
    "    tau = (end - start) / N\n",
    "    \n",
    "    def F(x,u):\n",
    "        f = np.empty(2)\n",
    "        f[0] = RP(x)[0] - A.dot(u)[0]\n",
    "        f[1] = RP(x)[1] - A.dot(u)[1]\n",
    "        return f\n",
    "    \n",
    "    for i in range(1, 4):\n",
    "            k_1 = tau * F(tau * (i - 1), vecfunct[i - 1])\n",
    "            k_2 = tau * F(tau * (i - 1) + tau/2,vecfunct[i - 1]+ k_1/2)\n",
    "            k_3 = tau * F(tau * (i - 1) + tau/2,vecfunct[i - 1] + k_2/2)\n",
    "            k_4 = tau * F(tau * (i - 1) + tau,vecfunct[i - 1] + k_3)\n",
    "            vecfunct[i] = vecfunct[i - 1] + (k_1 + 2 * k_2 + 2*k_3 + k_4) / 6\n",
    "            \n",
    "    for i in range(3,N):\n",
    "            vecfunct[i + 1] = vecfunct[i] + tau/24 * (55 * F(tau * i,vecfunct[i]) - 59*F(tau * (i - 1),vecfunct[i - 1]) + 37 * F(tau * (i - 2), vecfunct[i - 2]) - 9 * F(tau * (i - 3),vecfunct[i - 3]))\n",
    "                        \n",
    "    return vecfunct"
   ]
  },
  {
   "cell_type": "code",
   "execution_count": 420,
   "metadata": {},
   "outputs": [],
   "source": [
    "def err_E(U0):\n",
    "    plt.xlabel('x')\n",
    "    plt.ylabel('y')\n",
    "    t = np.linspace(start, end, 320)\n",
    "    plt.grid()\n",
    "    \n",
    "    count = 10\n",
    "    N = 5 \n",
    "    mas_error = np.zeros(count)\n",
    "    tau =(end - start) / N\n",
    "    \n",
    "    for i in range(count):\n",
    "        x_h = np.linspace(start, end, N + 1)\n",
    "        f = im_Euler(N, U0)\n",
    "        U = np.empty(N + 1)\n",
    "        error = np.empty(N + 1)\n",
    "        U = f[:,0]\n",
    "        \n",
    "#         for j in range(N + 1):\n",
    "#             error[j] = np.fabs(U[j] - phi1(x_h[j]))\n",
    "        error = np.fabs(U - phi1(x_h))\n",
    "        mas_error[i] = np.max(error)\n",
    "        \n",
    "        plt.plot(x_h, U, 'b')\n",
    "        N = 2 * N\n",
    "        \n",
    "    for i in range(count - 1):\n",
    "        print('order =', np.log2(mas_error[i] / mas_error[i + 1]))\n",
    "        \n",
    "    plt.plot(t, phi1(t), 'r')\n",
    "    plt.show()\n",
    "    return mas_error\n"
   ]
  },
  {
   "cell_type": "code",
   "execution_count": 421,
   "metadata": {},
   "outputs": [],
   "source": [
    "def err_A(U0):\n",
    "    plt.xlabel('x')\n",
    "    plt.ylabel('y')\n",
    "    t = np.linspace(start, end, 320)\n",
    "    plt.grid()\n",
    "    \n",
    "    count = 10\n",
    "    N = 5 \n",
    "    mas_error = np.zeros(count)\n",
    "    tau =(end - start) / N\n",
    "    \n",
    "    for i in range(count):\n",
    "        x_h = np.linspace(start, end, N + 1)\n",
    "        f = Adams(N, U0)\n",
    "        U = np.empty(N + 1)\n",
    "        error = np.empty(N + 1)\n",
    "        U = f[:, 1]\n",
    "        \n",
    "        for j in range(N + 1):\n",
    "            error[j] = np.fabs(U[j] - phi2(x_h[j]))\n",
    "        mas_error[i] = np.max(error)\n",
    "\n",
    "        plt.plot(x_h, U, 'b')\n",
    "        N = 2 * N\n",
    "        \n",
    "    for i in range(count - 1):\n",
    "        print('order =', np.log2(mas_error[i] / mas_error[i + 1]))\n",
    "    plt.plot(t, phi2(t), 'r')\n",
    "    plt.show()\n",
    "    return mas_error\n"
   ]
  },
  {
   "cell_type": "code",
   "execution_count": 424,
   "metadata": {},
   "outputs": [
    {
     "name": "stdout",
     "output_type": "stream",
     "text": [
      "[[0.         0.        ]\n",
      " [0.17706471 0.18314241]\n",
      " [0.33054299 0.37401061]\n",
      " [0.45954683 0.58230671]\n",
      " [0.56095985 0.82204934]\n",
      " [0.6288856  1.11292517]]\n"
     ]
    }
   ],
   "source": [
    "print(im_Euler(5, [0,0]))"
   ]
  },
  {
   "cell_type": "code",
   "execution_count": 425,
   "metadata": {},
   "outputs": [
    {
     "name": "stdout",
     "output_type": "stream",
     "text": [
      "order = -0.030279561993955293\n",
      "order = -0.014231296561655877\n",
      "order = -0.004102617538201137\n",
      "order = -0.0010881610429320742\n",
      "order = -0.00027967339736016683\n",
      "order = -7.086493738877464e-05\n",
      "order = -1.783418441929693e-05\n",
      "order = -4.473269381460441e-06\n",
      "order = -1.1201565566818023e-06\n"
     ]
    },
    {
     "data": {
      "image/png": "[encoded data removed]",
      "text/plain": [
       "<Figure size 432x288 with 1 Axes>"
      ]
     },
     "metadata": {
      "needs_background": "light"
     },
     "output_type": "display_data"
    }
   ],
   "source": [
    "U0 = [0, 0]\n",
    "errorEuler = err_E(U0)"
   ]
  },
  {
   "cell_type": "code",
   "execution_count": 426,
   "metadata": {},
   "outputs": [
    {
     "name": "stdout",
     "output_type": "stream",
     "text": [
      "order = 0.002034471427188258\n",
      "order = -0.0030891308585276668\n",
      "order = -4.713349290811272e-05\n",
      "order = -2.7544170476201712e-06\n",
      "order = -1.6768521814401294e-07\n",
      "order = -1.0248117803300988e-08\n",
      "order = -6.315888510010005e-10\n",
      "order = -3.91615686670185e-11\n",
      "order = -2.4523831599975948e-12\n"
     ]
    },
    {
     "data": {
      "image/png": "[encoded data removed]",
      "text/plain": [
       "<Figure size 432x288 with 1 Axes>"
      ]
     },
     "metadata": {
      "needs_background": "light"
     },
     "output_type": "display_data"
    }
   ],
   "source": [
    "U0 = [0, 0]\n",
    "errorAdams = err_A(U0)"
   ]
  }
 ],
 "metadata": {
  "kernelspec": {
   "display_name": "Python 3 (ipykernel)",
   "language": "python",
   "name": "python3"
  },
  "language_info": {
   "codemirror_mode": {
    "name": "ipython",
    "version": 3
   },
   "file_extension": ".py",
   "mimetype": "text/x-python",
   "name": "python",
   "nbconvert_exporter": "python",
   "pygments_lexer": "ipython3",
   "version": "3.10.1"
  }
 },
 "nbformat": 4,
 "nbformat_minor": 4
}

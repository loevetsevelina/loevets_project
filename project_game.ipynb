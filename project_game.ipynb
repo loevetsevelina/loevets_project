{
 "cells": [
  {
   "cell_type": "markdown",
   "metadata": {},
   "source": [
    "# **Описание проекта**\n",
    "\n",
    "Вы работаете в интернет-магазине «Стримчик», который продаёт по всему миру компьютерные игры. Из открытых источников доступны исторические данные о продажах игр, оценки пользователей и экспертов, жанры и платформы (например, Xbox или PlayStation). Вам нужно выявить определяющие успешность игры закономерности. Это позволит сделать ставку на потенциально популярный продукт и спланировать рекламные кампании.\n",
    "Перед вами данные до 2016 года. Представим, что сейчас декабрь 2016 г., и вы планируете кампанию на 2017-й. Нужно отработать принцип работы с данными. Неважно, прогнозируете ли вы продажи на 2017 год по данным 2016-го или же 2027-й — по данным 2026 года.\n",
    "\n",
    "В наборе данных попадается аббревиатура ESRB (Entertainment Software Rating Board) — это ассоциация, определяющая возрастной рейтинг компьютерных игр. ESRB оценивает игровой контент и присваивает ему подходящую возрастную категорию, например, «Для взрослых», «Для детей младшего возраста» или «Для подростков»."
   ]
  },
  {
   "cell_type": "code",
   "execution_count": 2,
   "metadata": {},
   "outputs": [],
   "source": [
    "import pandas as pd\n",
    "import matplotlib.pyplot as plt\n",
    "from scipy import stats as st"
   ]
  },
  {
   "cell_type": "code",
   "execution_count": 4,
   "metadata": {},
   "outputs": [],
   "source": [
    "data = pd.read_csv('/datasets/games.csv')"
   ]
  },
  {
   "cell_type": "code",
   "execution_count": null,
   "metadata": {},
   "outputs": [],
   "source": [
    "display(data.head(5))\n",
    "data.info()\n",
    "data.isna().sum()"
   ]
  },
  {
   "cell_type": "markdown",
   "metadata": {},
   "source": [
    "**Предварительный анализ данных**\n",
    "\n",
    "Исходя из первых пяти строк таблицы и информации, которую нам дал метод info(), можно заметить, что :\n",
    "* Видны пропущенные знаения в столбцах name, year_of_release, critic_score, user_score и rating, и в последних трех пропуски составляют значительную часть данных, поэтому исключить строки с пропущенными значениями в этих столбцах нельзя.\n",
    "* в столбце user_score присутствует нетипичное значение \"tbd\", которое явно не может являться оценкой пользователей, поэтому нужно будет перезаписать или удалить строки с этим значением.\n",
    "* Столбцы таблицы нужно будет превести к нижнему регистру, чтобы с ними быо удобнее работать\n",
    "* Если посмотреть на медианы и средние стобцов с продажами по регионам, то можно заметить, что медианные значения в разы меньше средних, это может свидетельствовать о наличии выбросов в значениях этих столбцов"
   ]
  },
  {
   "cell_type": "code",
   "execution_count": 36,
   "metadata": {},
   "outputs": [],
   "source": [
    "data.columns = data.columns.str.lower()"
   ]
  },
  {
   "cell_type": "code",
   "execution_count": 37,
   "metadata": {},
   "outputs": [
    {
     "name": "stdout",
     "output_type": "stream",
     "text": [
      "<class 'pandas.core.frame.DataFrame'>\n",
      "RangeIndex: 16715 entries, 0 to 16714\n",
      "Data columns (total 11 columns):\n",
      " #   Column           Non-Null Count  Dtype  \n",
      "---  ------           --------------  -----  \n",
      " 0   name             16713 non-null  object \n",
      " 1   platform         16715 non-null  object \n",
      " 2   year_of_release  16446 non-null  float64\n",
      " 3   genre            16713 non-null  object \n",
      " 4   na_sales         16715 non-null  float64\n",
      " 5   eu_sales         16715 non-null  float64\n",
      " 6   jp_sales         16715 non-null  float64\n",
      " 7   other_sales      16715 non-null  float64\n",
      " 8   critic_score     8137 non-null   float64\n",
      " 9   user_score       7590 non-null   float64\n",
      " 10  rating           9949 non-null   object \n",
      "dtypes: float64(7), object(4)\n",
      "memory usage: 1.4+ MB\n"
     ]
    }
   ],
   "source": [
    "data['year_of_release'] = pd.DatetimeIndex(pd.to_datetime(data['year_of_release'],format='%Y')).year\n",
    "data['user_score'] = pd.to_numeric(data['user_score'],errors ='coerce')\n",
    "data.info()"
   ]
  },
  {
   "cell_type": "code",
   "execution_count": 38,
   "metadata": {},
   "outputs": [
    {
     "data": {
      "text/plain": [
       "name                  2\n",
       "platform              0\n",
       "year_of_release     269\n",
       "genre                 2\n",
       "na_sales              0\n",
       "eu_sales              0\n",
       "jp_sales              0\n",
       "other_sales           0\n",
       "critic_score       8578\n",
       "user_score         9125\n",
       "rating             6766\n",
       "dtype: int64"
      ]
     },
     "execution_count": 38,
     "metadata": {},
     "output_type": "execute_result"
    }
   ],
   "source": [
    "data.isna().sum()"
   ]
  },
  {
   "cell_type": "code",
   "execution_count": 39,
   "metadata": {},
   "outputs": [],
   "source": [
    "data = data.dropna(subset=['name','year_of_release']).reset_index(drop = True)\n",
    "data['critic_score'] = data['critic_score'].fillna(0)\n",
    "data['user_score'] = data['user_score'].fillna(0)\n",
    "data['rating'] = data['rating'].fillna('unknown')\n",
    "data['total_sales'] = data['na_sales'] + data['eu_sales'] + data['jp_sales'] + data['other_sales']"
   ]
  },
  {
   "cell_type": "markdown",
   "metadata": {},
   "source": [
    "# **Подготовка данных:**\n",
    "\n",
    "В процессе подготовки данных я изменила типы значений некоторых столбцов: столбец year_of_release привела к типу инт, чтобы удобнее было работать с годом выпуска ( это всегда целое значение), user_score к типу float, так как это дробные числовые значения. Также я оценила, какой процент от всех значений в столбцах составляют пропуски, поэтому я удалила те строки, где пропуски составляли менее 1% (столбцы name, year_of_release), а остальные пропуски в столбцах critic_score, user_score и rating заменила на 0 и 'unknown', так как информация о количестве пропусков может в дальнейшем повлиять на исследование. Причиной пропущенных значений может послужить либо человеческий фактор ( невнимательное заполнение и др.), либо отсутствие\\неоднозначность информации в открытых источниках, так как именно оттуда брались данные для базы данных.\n",
    "\n"
   ]
  },
  {
   "cell_type": "code",
   "execution_count": 5,
   "metadata": {},
   "outputs": [],
   "source": [
    "data.groupby(by = 'year_of_release')['name'].count()"
   ]
  },
  {
   "cell_type": "markdown",
   "metadata": {},
   "source": [
    "**Мы видим, что в период с 2006г. по 2011г. выпускалось более 1000 игр в год, а в период с 1980г. по 1993г.  - меньше ста, в некоторые года даже меньше 20. Поэтому данные по самым ранним играм сильного влияния на общую картину не окажут.**"
   ]
  },
  {
   "cell_type": "markdown",
   "metadata": {},
   "source": [
    "# Анализ продаж по платформам и прогноз на 2017 год"
   ]
  },
  {
   "cell_type": "code",
   "execution_count": 41,
   "metadata": {
    "scrolled": true
   },
   "outputs": [
    {
     "data": {
      "text/plain": [
       "platform\n",
       "PS2     1233.56\n",
       "X360     961.24\n",
       "PS3      931.34\n",
       "Wii      891.18\n",
       "DS       802.78\n",
       "PS       727.58\n",
       "PS4      314.14\n",
       "GBA      312.88\n",
       "PSP      289.53\n",
       "3DS      257.81\n",
       "Name: total_sales, dtype: float64"
      ]
     },
     "execution_count": 41,
     "metadata": {},
     "output_type": "execute_result"
    }
   ],
   "source": [
    "data.groupby(by = 'platform')['total_sales'].sum().sort_values(ascending = False).head(10)"
   ]
  },
  {
   "cell_type": "code",
   "execution_count": 42,
   "metadata": {},
   "outputs": [
    {
     "data": {
      "image/png": "[encoded data removed]",
      "text/plain": [
       "<Figure size 1152x720 with 1 Axes>"
      ]
     },
     "metadata": {
      "needs_background": "light"
     },
     "output_type": "display_data"
    },
    {
     "data": {
      "image/png": "[encoded data removed]",
      "text/plain": [
       "<Figure size 1152x720 with 1 Axes>"
      ]
     },
     "metadata": {
      "needs_background": "light"
     },
     "output_type": "display_data"
    },
    {
     "data": {
      "image/png": "[encoded data removed]",
      "text/plain": [
       "<Figure size 1152x720 with 1 Axes>"
      ]
     },
     "metadata": {
      "needs_background": "light"
     },
     "output_type": "display_data"
    },
    {
     "data": {
      "image/png": "[encoded data removed]",
      "text/plain": [
       "<Figure size 1152x720 with 1 Axes>"
      ]
     },
     "metadata": {
      "needs_background": "light"
     },
     "output_type": "display_data"
    },
    {
     "data": {
      "image/png": "[encoded data removed]",
      "text/plain": [
       "<Figure size 1152x720 with 1 Axes>"
      ]
     },
     "metadata": {
      "needs_background": "light"
     },
     "output_type": "display_data"
    },
    {
     "data": {
      "image/png": "[encoded data removed]",
      "text/plain": [
       "<Figure size 1152x720 with 1 Axes>"
      ]
     },
     "metadata": {
      "needs_background": "light"
     },
     "output_type": "display_data"
    }
   ],
   "source": [
    "top_platform = ['PS2','X360','PS3','Wii','DS','PS']\n",
    "for p in top_platform:\n",
    "    (\n",
    "    data.loc[(data['platform'] == p)&(data['year_of_release']<2999)]\n",
    "    .pivot_table(index = 'year_of_release',values = 'total_sales',aggfunc = 'sum')\n",
    "    .plot(kind = 'bar',grid = True,legend = False,figsize = (16,10))\n",
    "    )\n",
    "    plt.title(p)\n",
    "    plt.ylabel('Суммарные продажи')\n",
    "    plt.xlabel('Период')\n",
    "    plt.show()"
   ]
  },
  {
   "cell_type": "markdown",
   "metadata": {},
   "source": [
    "**Можно увидеть, что за 10 лет платформа появляется, развивается и выходит из оборота**"
   ]
  },
  {
   "cell_type": "code",
   "execution_count": 43,
   "metadata": {},
   "outputs": [
    {
     "data": {
      "text/plain": [
       "platform\n",
       "PS4     314.14\n",
       "PS3     288.79\n",
       "X360    236.54\n",
       "3DS     194.61\n",
       "XOne    159.32\n",
       "WiiU     82.19\n",
       "PC       62.65\n",
       "PSV      49.18\n",
       "Wii      35.37\n",
       "DS       12.55\n",
       "PSP      11.19\n",
       "Name: total_sales, dtype: float64"
      ]
     },
     "execution_count": 43,
     "metadata": {},
     "output_type": "execute_result"
    }
   ],
   "source": [
    "df = data[data['year_of_release']>2011]\n",
    "df.groupby(by = 'platform')['total_sales'].sum().sort_values(ascending = False)"
   ]
  },
  {
   "cell_type": "markdown",
   "metadata": {},
   "source": [
    "**Я выбрала период 2012-2016 год, так как исходя из предыдущего вывода, что за 10 лет происходит полноценное развитие платформы, и взяв данные за последние пять лет, можно составить примерный прогноз как минимум на следующие 5 лет, в том числе и на 2017 год.** "
   ]
  },
  {
   "cell_type": "code",
   "execution_count": 44,
   "metadata": {},
   "outputs": [
    {
     "data": {
      "image/png": "[encoded data removed]",
      "text/plain": [
       "<Figure size 576x360 with 1 Axes>"
      ]
     },
     "metadata": {
      "needs_background": "light"
     },
     "output_type": "display_data"
    },
    {
     "data": {
      "image/png": "[encoded data removed]",
      "text/plain": [
       "<Figure size 576x360 with 1 Axes>"
      ]
     },
     "metadata": {
      "needs_background": "light"
     },
     "output_type": "display_data"
    },
    {
     "data": {
      "image/png": "[encoded data removed]",
      "text/plain": [
       "<Figure size 576x360 with 1 Axes>"
      ]
     },
     "metadata": {
      "needs_background": "light"
     },
     "output_type": "display_data"
    },
    {
     "data": {
      "image/png": "[encoded data removed]",
      "text/plain": [
       "<Figure size 576x360 with 1 Axes>"
      ]
     },
     "metadata": {
      "needs_background": "light"
     },
     "output_type": "display_data"
    },
    {
     "data": {
      "image/png": "[encoded data removed]",
      "text/plain": [
       "<Figure size 576x360 with 1 Axes>"
      ]
     },
     "metadata": {
      "needs_background": "light"
     },
     "output_type": "display_data"
    },
    {
     "data": {
      "image/png": "[encoded data removed]",
      "text/plain": [
       "<Figure size 576x360 with 1 Axes>"
      ]
     },
     "metadata": {
      "needs_background": "light"
     },
     "output_type": "display_data"
    },
    {
     "data": {
      "image/png": "[encoded data removed]",
      "text/plain": [
       "<Figure size 576x360 with 1 Axes>"
      ]
     },
     "metadata": {
      "needs_background": "light"
     },
     "output_type": "display_data"
    },
    {
     "data": {
      "image/png": "[encoded data removed]",
      "text/plain": [
       "<Figure size 576x360 with 1 Axes>"
      ]
     },
     "metadata": {
      "needs_background": "light"
     },
     "output_type": "display_data"
    },
    {
     "data": {
      "image/png": "[encoded data removed]",
      "text/plain": [
       "<Figure size 576x360 with 1 Axes>"
      ]
     },
     "metadata": {
      "needs_background": "light"
     },
     "output_type": "display_data"
    },
    {
     "data": {
      "image/png": "[encoded data removed]",
      "text/plain": [
       "<Figure size 576x360 with 1 Axes>"
      ]
     },
     "metadata": {
      "needs_background": "light"
     },
     "output_type": "display_data"
    },
    {
     "data": {
      "image/png": "[encoded data removed]",
      "text/plain": [
       "<Figure size 576x360 with 1 Axes>"
      ]
     },
     "metadata": {
      "needs_background": "light"
     },
     "output_type": "display_data"
    }
   ],
   "source": [
    "top_now_platforms = df['platform'].unique()\n",
    "\n",
    "for p in top_now_platforms:\n",
    "    (\n",
    "    df.loc[df['platform'] == p]\n",
    "    .pivot_table(index = 'year_of_release',values = 'total_sales',aggfunc = 'sum')\n",
    "    .plot(kind = 'bar',grid = True,legend = False,figsize = (8,5))\n",
    "    )\n",
    "    plt.title(p)\n",
    "    plt.ylabel('Суммарные продажи')\n",
    "    plt.xlabel('Период')\n",
    "    plt.show()"
   ]
  },
  {
   "cell_type": "markdown",
   "metadata": {},
   "source": [
    "**По графикам видно, что платформa PS4 сейчас находится на пике своей популярности,а продажи XOne и 3DS, хоть и снижаются, все равно довольно высоки по сравнению с остальными, поэтому я бы выделила их в потенциально прибыльные в 2017 году. У остальных платформ наблюдается спад продаж, поэтому в 2017 году, скорее всего, они не будут популярны.**"
   ]
  },
  {
   "cell_type": "markdown",
   "metadata": {},
   "source": [
    "# График «ящик с усами» по глобальным продажам игр в разбивке по платформам"
   ]
  },
  {
   "cell_type": "code",
   "execution_count": 56,
   "metadata": {},
   "outputs": [
    {
     "data": {
      "image/png": "[encoded data removed]",
      "text/plain": [
       "<Figure size 936x576 with 1 Axes>"
      ]
     },
     "metadata": {
      "needs_background": "light"
     },
     "output_type": "display_data"
    }
   ],
   "source": [
    "import seaborn as sns\n",
    "\n",
    "data_actual_platforms = data.query('platform in[\"PS4\",\"XOne\",\"3DS\"]')\n",
    "\n",
    "plt.figure(figsize=(13, 8))\n",
    "box = sns.boxplot(x=\"platform\", y=\"total_sales\", data = data_actual_platforms).set(title = 'График «ящик с усами» по глобальным продажам игр в разбивке по платформам', xlabel = 'Платформы', ylabel = 'Общие продажи', ylim=(0, 3))\n"
   ]
  },
  {
   "cell_type": "code",
   "execution_count": 57,
   "metadata": {},
   "outputs": [
    {
     "data": {
      "text/plain": [
       "count    392.000000\n",
       "mean       0.801378\n",
       "std        1.609456\n",
       "min        0.010000\n",
       "25%        0.060000\n",
       "50%        0.200000\n",
       "75%        0.730000\n",
       "max       14.630000\n",
       "Name: total_sales, dtype: float64"
      ]
     },
     "metadata": {},
     "output_type": "display_data"
    }
   ],
   "source": [
    "display(data.query('platform == \"PS4\"')['total_sales'].describe())\n",
    "plt.show()"
   ]
  },
  {
   "cell_type": "code",
   "execution_count": 58,
   "metadata": {},
   "outputs": [
    {
     "data": {
      "text/plain": [
       "count    247.000000\n",
       "mean       0.645020\n",
       "std        1.036139\n",
       "min        0.010000\n",
       "25%        0.060000\n",
       "50%        0.220000\n",
       "75%        0.685000\n",
       "max        7.390000\n",
       "Name: total_sales, dtype: float64"
      ]
     },
     "metadata": {},
     "output_type": "display_data"
    }
   ],
   "source": [
    "display(data.query('platform == \"XOne\"')['total_sales'].describe())\n",
    "plt.show()"
   ]
  },
  {
   "cell_type": "code",
   "execution_count": 59,
   "metadata": {
    "scrolled": true
   },
   "outputs": [
    {
     "data": {
      "text/plain": [
       "count    512.000000\n",
       "mean       0.503535\n",
       "std        1.441271\n",
       "min        0.010000\n",
       "25%        0.050000\n",
       "50%        0.120000\n",
       "75%        0.332500\n",
       "max       14.600000\n",
       "Name: total_sales, dtype: float64"
      ]
     },
     "metadata": {},
     "output_type": "display_data"
    }
   ],
   "source": [
    "display(data.query('platform == \"3DS\"')['total_sales'].describe())\n",
    "plt.show()"
   ]
  },
  {
   "cell_type": "markdown",
   "metadata": {},
   "source": [
    "**Результат:**\n",
    "На всех платформах есть выбросы с нетипично большими продажами по определенным играм, которые превышают среднее в 10-20 раз. У всех платформ среднее меньше единицы, среднеквадратичное отклонение - больше единицы, но меньше двух (продажи даны в миллионах копий)."
   ]
  },
  {
   "cell_type": "markdown",
   "metadata": {},
   "source": [
    "# Построение диаграммы рассеивания и рассчет корреляции между отзывами и продажами"
   ]
  },
  {
   "cell_type": "code",
   "execution_count": 62,
   "metadata": {
    "scrolled": true
   },
   "outputs": [
    {
     "name": "stdout",
     "output_type": "stream",
     "text": [
      "-0.031957110204556376\n"
     ]
    },
    {
     "data": {
      "text/plain": [
       "<AxesSubplot:xlabel='user_score', ylabel='total_sales'>"
      ]
     },
     "execution_count": 62,
     "metadata": {},
     "output_type": "execute_result"
    },
    {
     "data": {
      "image/png": "[encoded data removed]",
      "text/plain": [
       "<Figure size 432x288 with 1 Axes>"
      ]
     },
     "metadata": {
      "needs_background": "light"
     },
     "output_type": "display_data"
    }
   ],
   "source": [
    "data_PS4 = data[(data['platform'] == 'PS4')&(data['user_score']!=0)]\n",
    "print(data_PS4['total_sales'].corr(data_PS4['user_score']))\n",
    "data_PS4.plot(x='user_score', y='total_sales', kind='scatter')"
   ]
  },
  {
   "cell_type": "code",
   "execution_count": 63,
   "metadata": {},
   "outputs": [
    {
     "name": "stdout",
     "output_type": "stream",
     "text": [
      "0.08810965475792913\n"
     ]
    },
    {
     "data": {
      "text/plain": [
       "<AxesSubplot:xlabel='user_score', ylabel='total_sales'>"
      ]
     },
     "execution_count": 63,
     "metadata": {},
     "output_type": "execute_result"
    },
    {
     "data": {
      "image/png": "[encoded data removed]",
      "text/plain": [
       "<Figure size 432x288 with 1 Axes>"
      ]
     },
     "metadata": {
      "needs_background": "light"
     },
     "output_type": "display_data"
    }
   ],
   "source": [
    "data1 = data[data['user_score']!=0]\n",
    "print(data1['total_sales'].corr(data1['user_score']))\n",
    "data1.plot(x='user_score', y='total_sales', kind='scatter')"
   ]
  },
  {
   "cell_type": "code",
   "execution_count": 64,
   "metadata": {},
   "outputs": [
    {
     "name": "stdout",
     "output_type": "stream",
     "text": [
      "0.2453488454741138\n"
     ]
    },
    {
     "data": {
      "text/plain": [
       "<AxesSubplot:xlabel='critic_score', ylabel='total_sales'>"
      ]
     },
     "execution_count": 64,
     "metadata": {},
     "output_type": "execute_result"
    },
    {
     "data": {
      "image/png": "[encoded data removed]",
      "text/plain": [
       "<Figure size 432x288 with 1 Axes>"
      ]
     },
     "metadata": {
      "needs_background": "light"
     },
     "output_type": "display_data"
    }
   ],
   "source": [
    "data2 = data[data['critic_score']!=0]\n",
    "print(data2['total_sales'].corr(data2['critic_score']))\n",
    "data2.plot(x='critic_score', y='total_sales', kind='scatter')"
   ]
  },
  {
   "cell_type": "markdown",
   "metadata": {},
   "source": [
    "**Как и в случае самой популярной платформы PS4, так и в целом, корреляция между рейтингом пользователей и критиков и общими продажами достаточно мала, но в случае с PS4 значение коэффициента корреляции со знаком минус, то есть наблюдается очень слабая обратная связь. Наибольшее значение коэффициента корреляции наблюдается у общих продаж и оценкой критиков, коэффициент равен почти 0.25.**"
   ]
  },
  {
   "cell_type": "markdown",
   "metadata": {},
   "source": [
    "# Распределение игр по жанрам"
   ]
  },
  {
   "cell_type": "code",
   "execution_count": 19,
   "metadata": {},
   "outputs": [
    {
     "name": "stdout",
     "output_type": "stream",
     "text": [
      "genre\n",
      "Action          3307\n",
      "Sports          2306\n",
      "Misc            1721\n",
      "Role-Playing    1481\n",
      "Shooter         1296\n",
      "Adventure       1293\n",
      "Racing          1226\n",
      "Platform         878\n",
      "Simulation       857\n",
      "Fighting         837\n",
      "Strategy         673\n",
      "Puzzle           569\n",
      "Name: total_sales, dtype: int64\n"
     ]
    },
    {
     "data": {
      "image/png": "[encoded data removed]",
      "text/plain": [
       "<Figure size 576x360 with 1 Axes>"
      ]
     },
     "metadata": {
      "needs_background": "light"
     },
     "output_type": "display_data"
    }
   ],
   "source": [
    "print(data.groupby(by = 'genre')['total_sales'].count().sort_values(ascending = False))\n",
    "data.pivot_table(index = 'genre',values = 'total_sales',aggfunc = 'sum').plot(kind = 'bar',grid = True,legend = False,figsize = (8,5))\n",
    "plt.ylabel('Суммарные продажи')\n",
    "plt.xlabel('Жанр')\n",
    "plt.show() "
   ]
  },
  {
   "cell_type": "code",
   "execution_count": null,
   "metadata": {},
   "outputs": [],
   "source": [
    "Посмотрите на общее распределение игр по жанрам. Что можно сказать о самых прибыльных жанрах?\n",
    "Выделяются ли жанры с высокими и низкими продажами?"
   ]
  },
  {
   "cell_type": "code",
   "execution_count": 99,
   "metadata": {},
   "outputs": [
    {
     "name": "stdout",
     "output_type": "stream",
     "text": [
      "Среднее значение продаж для жанра Sports 0.567940156114484\n",
      "Медианное значение продаж для жанра Sports 0.22000000000000003\n",
      "\n",
      "Среднее значение продаж для жанра Platform 0.9402619589977221\n",
      "Медианное значение продаж для жанра Platform 0.27\n",
      "\n",
      "Среднее значение продаж для жанра Racing 0.5901223491027733\n",
      "Медианное значение продаж для жанра Racing 0.19\n",
      "\n",
      "Среднее значение продаж для жанра Role-Playing 0.628683322079676\n",
      "Медианное значение продаж для жанра Role-Playing 0.18000000000000002\n",
      "\n",
      "Среднее значение продаж для жанра Puzzle 0.4215992970123023\n",
      "Медианное значение продаж для жанра Puzzle 0.09999999999999999\n",
      "\n",
      "Среднее значение продаж для жанра Misc 0.4592039511911679\n",
      "Медианное значение продаж для жанра Misc 0.16\n",
      "\n",
      "Среднее значение продаж для жанра Shooter 0.8035185185185184\n",
      "Медианное значение продаж для жанра Shooter 0.24\n",
      "\n",
      "Среднее значение продаж для жанра Simulation 0.4526954492415403\n",
      "Медианное значение продаж для жанра Simulation 0.15000000000000002\n",
      "\n",
      "Среднее значение продаж для жанра Action 0.5190565467190807\n",
      "Медианное значение продаж для жанра Action 0.19\n",
      "\n",
      "Среднее значение продаж для жанра Fighting 0.5288649940262843\n",
      "Медианное значение продаж для жанра Fighting 0.21\n",
      "\n",
      "Среднее значение продаж для жанра Adventure 0.18045630317092035\n",
      "Медианное значение продаж для жанра Adventure 0.05\n",
      "\n",
      "Среднее значение продаж для жанра Strategy 0.2564190193164933\n",
      "Медианное значение продаж для жанра Strategy 0.09999999999999999\n",
      "\n"
     ]
    },
    {
     "data": {
      "text/plain": [
       "<BarContainer object of 12 artists>"
      ]
     },
     "execution_count": 99,
     "metadata": {},
     "output_type": "execute_result"
    },
    {
     "data": {
      "image/png": "[encoded data removed]",
      "text/plain": [
       "<Figure size 936x576 with 1 Axes>"
      ]
     },
     "metadata": {
      "needs_background": "light"
     },
     "output_type": "display_data"
    }
   ],
   "source": [
    "genre = data['genre'].unique()\n",
    "median_genre = []\n",
    "mean_genre = []\n",
    "for g in genre:\n",
    "    data_g = data[data['genre'] == g]\n",
    "    median_genre.append(data_g['total_sales'].median())\n",
    "    mean_genre.append(data_g['total_sales'].mean())\n",
    "plt.figure(figsize=(13, 8))\n",
    "plt.bar(genre, median_genre)"
   ]
  },
  {
   "cell_type": "code",
   "execution_count": 100,
   "metadata": {},
   "outputs": [
    {
     "data": {
      "text/plain": [
       "<BarContainer object of 12 artists>"
      ]
     },
     "execution_count": 100,
     "metadata": {},
     "output_type": "execute_result"
    },
    {
     "data": {
      "image/png": "[encoded data removed]",
      "text/plain": [
       "<Figure size 936x576 with 1 Axes>"
      ]
     },
     "metadata": {
      "needs_background": "light"
     },
     "output_type": "display_data"
    }
   ],
   "source": [
    "plt.figure(figsize=(13, 8))\n",
    "plt.bar(genre, mean_genre)"
   ]
  },
  {
   "cell_type": "markdown",
   "metadata": {},
   "source": [
    "Исходя из данных в таблице видно, что  самые массовые жанры - это Action,Sports и Misc. Также по графику можно понять, что самые\n",
    "высокие продажи приносит Action, Sports и Shooter,а самые низкие - Strategy, Puzzle и Adventure. **Но если рассчитать медианное и среднее значение продаж для каждого жанра, то можно увидеть, что суммарные продажи некорректно отображают прибыльность жанра.**\n",
    "\n",
    "**На гистограммах видно, что наибольшая медиана и среднее у игр жанра Platform и Shooter,а наименьшее - Adventure,Strategy,Pazzl.**"
   ]
  },
  {
   "cell_type": "markdown",
   "metadata": {},
   "source": [
    "# **Европа**"
   ]
  },
  {
   "cell_type": "code",
   "execution_count": 103,
   "metadata": {},
   "outputs": [
    {
     "name": "stdout",
     "output_type": "stream",
     "text": [
      "platform\n",
      "PS2     332.63\n",
      "PS3     327.21\n",
      "X360    268.32\n",
      "Wii     258.32\n",
      "PS      212.39\n",
      "Name: eu_sales, dtype: float64\n",
      "Доля продаж в Европе PS2 составляет 0.26965044262135557\n",
      "Доля продаж в Европе PS3 составляет 0.35133248867223366\n",
      "Доля продаж в Европе X360 составляет 0.2791394448836893\n",
      "Доля продаж в Европе Wii составляет 0.28986287843084463\n",
      "Доля продаж в Европе PS составляет 0.29191291679265763\n"
     ]
    }
   ],
   "source": [
    "eu_top = data.groupby(by = 'platform')['eu_sales'].sum().sort_values(ascending = False)\n",
    "total_top = data.groupby(by = 'platform')['total_sales'].sum().sort_values(ascending = False)\n",
    "print(eu_top.head(5))\n",
    "index = eu_top.head(5).index.tolist()\n",
    "for i in index:\n",
    "    print('Доля продаж в Европе',i,'составляет',eu_top[i]/total_top[i])\n",
    "    \n"
   ]
  },
  {
   "cell_type": "code",
   "execution_count": 104,
   "metadata": {},
   "outputs": [
    {
     "data": {
      "image/png": "[encoded data removed]",
      "text/plain": [
       "<Figure size 432x288 with 1 Axes>"
      ]
     },
     "metadata": {},
     "output_type": "display_data"
    }
   ],
   "source": [
    "(\n",
    "    eu_top.head(5)\n",
    "    .plot(kind='pie', figsize=(6,4))\n",
    ")\n",
    "plt.title(\"Топ-5 платформ - Европа\")\n",
    "plt.ylabel(\"\")\n",
    "plt.show()"
   ]
  },
  {
   "cell_type": "code",
   "execution_count": 114,
   "metadata": {},
   "outputs": [
    {
     "data": {
      "text/plain": [
       "genre\n",
       "Action     510.99\n",
       "Sports     371.33\n",
       "Shooter    314.52\n",
       "Racing     234.49\n",
       "Misc       210.60\n",
       "Name: eu_sales, dtype: float64"
      ]
     },
     "execution_count": 114,
     "metadata": {},
     "output_type": "execute_result"
    }
   ],
   "source": [
    "genre_eu_top = data.groupby(by = 'genre')['eu_sales'].sum().sort_values(ascending = False)\n",
    "genre_eu_top.head(5)"
   ]
  },
  {
   "cell_type": "code",
   "execution_count": 116,
   "metadata": {},
   "outputs": [
    {
     "data": {
      "image/png": "[encoded data removed]",
      "text/plain": [
       "<Figure size 432x288 with 1 Axes>"
      ]
     },
     "metadata": {},
     "output_type": "display_data"
    }
   ],
   "source": [
    "(\n",
    "    genre_eu_top.head(5)\n",
    "    .plot(kind='pie', figsize=(6,4))\n",
    ")\n",
    "plt.title(\"Топ-5 жанров - Европа\")\n",
    "plt.ylabel(\"\")\n",
    "plt.show()"
   ]
  },
  {
   "cell_type": "code",
   "execution_count": 117,
   "metadata": {},
   "outputs": [],
   "source": [
    "rating_eu_top = data.groupby(by = 'rating')['eu_sales'].sum().sort_values(ascending = False)\n"
   ]
  },
  {
   "cell_type": "code",
   "execution_count": 119,
   "metadata": {},
   "outputs": [
    {
     "data": {
      "image/png": "[encoded data removed]",
      "text/plain": [
       "<Figure size 432x288 with 1 Axes>"
      ]
     },
     "metadata": {},
     "output_type": "display_data"
    }
   ],
   "source": [
    "(\n",
    "    rating_eu_top.head(5)\n",
    "    .plot(kind='pie', figsize=(6,4))\n",
    ")\n",
    "plt.title(\"Топ-5 рейтингов - Европа\")\n",
    "plt.ylabel(\"\")\n",
    "plt.show()"
   ]
  },
  {
   "cell_type": "markdown",
   "metadata": {},
   "source": [
    "**Вывод**\n",
    "Самыми популярными в Европе платформами являются PS2,PS3,X360. Доли продаж в Европе относительно всех продаж по каждой платформе - примерно 1\\3.\n",
    "Самыми популярными жанрами являются те же самые Action, Sports и Shooter, много продаж приносят игры с рейтингом Е,М,Т. "
   ]
  },
  {
   "cell_type": "markdown",
   "metadata": {},
   "source": [
    "# **Япония**"
   ]
  },
  {
   "cell_type": "code",
   "execution_count": 106,
   "metadata": {},
   "outputs": [
    {
     "name": "stdout",
     "output_type": "stream",
     "text": [
      "platform\n",
      "DS      175.02\n",
      "PS      139.78\n",
      "PS2     137.54\n",
      "SNES    116.55\n",
      "3DS     100.62\n",
      "Name: jp_sales, dtype: float64\n",
      "Доля продаж в Японии DS составляет 0.21801738957124453\n",
      "Доля продаж в Японии PS составляет 0.19211633085021693\n",
      "Доля продаж в Японии PS2 составляет 0.11149842731606222\n",
      "Доля продаж в Японии SNES составляет 0.5826334733053381\n",
      "Доля продаж в Японии 3DS составляет 0.3902874209689332\n"
     ]
    }
   ],
   "source": [
    "jp_top = data.groupby(by = 'platform')['jp_sales'].sum().sort_values(ascending = False)\n",
    "print(jp_top.head(5))\n",
    "index = jp_top.head(5).index.tolist()\n",
    "for i in index:\n",
    "    print('Доля продаж в Японии',i,'составляет',jp_top[i]/total_top[i])"
   ]
  },
  {
   "cell_type": "code",
   "execution_count": 108,
   "metadata": {},
   "outputs": [
    {
     "data": {
      "image/png": "[encoded data removed]",
      "text/plain": [
       "<Figure size 432x288 with 1 Axes>"
      ]
     },
     "metadata": {},
     "output_type": "display_data"
    }
   ],
   "source": [
    "(\n",
    "    jp_top.head(5)\n",
    "    .plot(kind='pie', figsize=(6,4))\n",
    ")\n",
    "plt.title(\"Топ-5 платформ - Япония\")\n",
    "plt.ylabel(\"\")\n",
    "plt.show()"
   ]
  },
  {
   "cell_type": "code",
   "execution_count": 120,
   "metadata": {},
   "outputs": [
    {
     "data": {
      "text/plain": [
       "genre\n",
       "Role-Playing    353.39\n",
       "Action          160.14\n",
       "Sports          134.93\n",
       "Platform        130.71\n",
       "Misc            107.02\n",
       "Name: jp_sales, dtype: float64"
      ]
     },
     "execution_count": 120,
     "metadata": {},
     "output_type": "execute_result"
    }
   ],
   "source": [
    "genre_jp_top = data.groupby(by = 'genre')['jp_sales'].sum().sort_values(ascending = False)\n",
    "genre_jp_top.head(5)"
   ]
  },
  {
   "cell_type": "code",
   "execution_count": 122,
   "metadata": {},
   "outputs": [
    {
     "data": {
      "image/png": "[encoded data removed]",
      "text/plain": [
       "<Figure size 432x288 with 1 Axes>"
      ]
     },
     "metadata": {},
     "output_type": "display_data"
    }
   ],
   "source": [
    "(\n",
    "    genre_jp_top.head(5)\n",
    "    .plot(kind='pie', figsize=(6,4))\n",
    ")\n",
    "plt.title(\"Топ-5 жанров - Япония\")\n",
    "plt.ylabel(\"\")\n",
    "plt.show()"
   ]
  },
  {
   "cell_type": "code",
   "execution_count": 126,
   "metadata": {},
   "outputs": [],
   "source": [
    "rating_jp_top = data.groupby(by = 'rating')['jp_sales'].sum().sort_values(ascending = False)"
   ]
  },
  {
   "cell_type": "code",
   "execution_count": 131,
   "metadata": {},
   "outputs": [
    {
     "data": {
      "image/png": "[encoded data removed]",
      "text/plain": [
       "<Figure size 432x288 with 1 Axes>"
      ]
     },
     "metadata": {},
     "output_type": "display_data"
    }
   ],
   "source": [
    "(\n",
    "    rating_jp_top.head(5)\n",
    "    .plot(kind='pie', figsize=(6,4))\n",
    ")\n",
    "plt.title(\"Топ-5 рейтингов - Япония\")\n",
    "plt.ylabel(\"\")\n",
    "plt.show()"
   ]
  },
  {
   "cell_type": "markdown",
   "metadata": {},
   "source": [
    "**Вывод**\n",
    "Самыми популярными в Японии платформами являются DS,PS,PS2. Доли продаж в Японии относительно всех продаж по каждой платформе -  у топ-3 платформы примерно 1\\5, у двух остальных - почти половина.\n",
    "Самыми популярными жанрами являются Action, Sports и Role-Playing , много продаж приносят игры с рейтингом Е,М,Т, но самое большое количество игр - больше половины игр в Японии - это игры без рейтинга ( на диаграмме 'unknown'). Возможно, причиной этому послужила специфика японского рынка (какие-то строгие ограничения по рейтингу, запрет продажи подросткам игр с рейтингом 18+ и тд.)."
   ]
  },
  {
   "cell_type": "markdown",
   "metadata": {},
   "source": [
    "# **Америка**"
   ]
  },
  {
   "cell_type": "code",
   "execution_count": 111,
   "metadata": {},
   "outputs": [
    {
     "name": "stdout",
     "output_type": "stream",
     "text": [
      "platform\n",
      "X360    595.74\n",
      "PS2     572.92\n",
      "Wii     486.87\n",
      "PS3     390.13\n",
      "DS      380.31\n",
      "Name: na_sales, dtype: float64\n",
      "Доля продаж в Америке X360 составляет 0.6197619741167667\n",
      "Доля продаж в Америке PS2 составляет 0.4644443723856142\n",
      "Доля продаж в Америке Wii составляет 0.5463206086312546\n",
      "Доля продаж в Америке PS3 составляет 0.41889106019284106\n",
      "Доля продаж в Америке DS составляет 0.4737412491591781\n"
     ]
    }
   ],
   "source": [
    "na_top = data.groupby(by = 'platform')['na_sales'].sum().sort_values(ascending = False)\n",
    "print(na_top.head(5))\n",
    "index = na_top.head(5).index.tolist()\n",
    "for i in index:\n",
    "    print('Доля продаж в Америке',i,'составляет',na_top[i]/total_top[i])"
   ]
  },
  {
   "cell_type": "code",
   "execution_count": 112,
   "metadata": {},
   "outputs": [
    {
     "data": {
      "image/png": "[encoded data removed]",
      "text/plain": [
       "<Figure size 432x288 with 1 Axes>"
      ]
     },
     "metadata": {},
     "output_type": "display_data"
    }
   ],
   "source": [
    "(\n",
    "    na_top.head(5)\n",
    "    .plot(kind='pie', figsize=(6,4))\n",
    ")\n",
    "plt.title(\"Топ-5 платформ - Сев.Америка\")\n",
    "plt.ylabel(\"\")\n",
    "plt.show()"
   ]
  },
  {
   "cell_type": "code",
   "execution_count": 110,
   "metadata": {},
   "outputs": [
    {
     "data": {
      "text/plain": [
       "genre\n",
       "Action      863.17\n",
       "Sports      671.20\n",
       "Shooter     584.83\n",
       "Platform    444.44\n",
       "Misc        399.57\n",
       "Name: na_sales, dtype: float64"
      ]
     },
     "execution_count": 110,
     "metadata": {},
     "output_type": "execute_result"
    }
   ],
   "source": [
    "genre_na_top = data.groupby(by = 'genre')['na_sales'].sum().sort_values(ascending = False)\n",
    "genre_na_top.head(5)"
   ]
  },
  {
   "cell_type": "code",
   "execution_count": 124,
   "metadata": {},
   "outputs": [
    {
     "data": {
      "image/png": "[encoded data removed]",
      "text/plain": [
       "<Figure size 432x288 with 1 Axes>"
      ]
     },
     "metadata": {},
     "output_type": "display_data"
    }
   ],
   "source": [
    "(\n",
    "    genre_na_top.head(5)\n",
    "    .plot(kind='pie', figsize=(6,4))\n",
    ")\n",
    "plt.title(\"Топ-5 жанров - Сев.Америка\")\n",
    "plt.ylabel(\"\")\n",
    "plt.show()"
   ]
  },
  {
   "cell_type": "code",
   "execution_count": 128,
   "metadata": {},
   "outputs": [],
   "source": [
    "rating_na_top = data.groupby(by = 'rating')['na_sales'].sum().sort_values(ascending = False)"
   ]
  },
  {
   "cell_type": "code",
   "execution_count": 130,
   "metadata": {},
   "outputs": [
    {
     "data": {
      "image/png": "[encoded data removed]",
      "text/plain": [
       "<Figure size 432x288 with 1 Axes>"
      ]
     },
     "metadata": {},
     "output_type": "display_data"
    }
   ],
   "source": [
    "(\n",
    "    rating_na_top.head(5)\n",
    "    .plot(kind='pie', figsize=(6,4))\n",
    ")\n",
    "plt.title(\"Топ-5 рейтингов - Сев.Америка\")\n",
    "plt.ylabel(\"\")\n",
    "plt.show()"
   ]
  },
  {
   "cell_type": "markdown",
   "metadata": {},
   "source": [
    "**Вывод**\n",
    "Самыми популярными в Америке платформами являются Х360,Wii,PS2. Доли продаж в Америке относительно всех продаж по каждой платформе - около половины, это достаточно много, учитывая большой рынок в Азии,Европе и других странах.\n",
    "Самыми популярными жанрами являются Action, Sports и Shooter, много продаж приносят игры с рейтингом Е,М,Т. "
   ]
  },
  {
   "cell_type": "markdown",
   "metadata": {},
   "source": [
    "**Общий вывод**\n",
    "По статистике, жанры Action и Sports являются самыми популярными И для Европы, и для Японии, и для Америки.Также можно сказать, что во всех регионах самый популярный рейтинг от организации ESRB - это Е, в тройку лидеров так же входят М и Т, то есть в отдельных регионах рейтинг не влияет на количество продаж."
   ]
  },
  {
   "cell_type": "markdown",
   "metadata": {},
   "source": [
    "# **Статистический анализ**\n",
    "\n",
    "Для сравнения средних значений двух независимых выборок с неизвестными дисперсиями я быбрала критерий Стьюдента  - ttest_ind c указанием параметра equal_var = False."
   ]
  },
  {
   "cell_type": "markdown",
   "metadata": {},
   "source": [
    "Нулевая гипотеза: средние пользовательские рейтинги платформ Xbox One и PC равны\n",
    "\n",
    "Альтернативная гипотеза: средние пользовательские рейтинги платформ Xbox One и PC не равны"
   ]
  },
  {
   "cell_type": "code",
   "execution_count": 133,
   "metadata": {},
   "outputs": [
    {
     "name": "stdout",
     "output_type": "stream",
     "text": [
      "4.5385802963771835e-06\n",
      "Отвергаем нулевую гипотезу \n"
     ]
    }
   ],
   "source": [
    "xone = data[(data['platform'] =='XOne')&(data['year_of_release']>2011)]['user_score']\n",
    "pc = data[data[('platform'] =='PC')&(data['year_of_release']>2011))]['user_score']\n",
    "\n",
    "xone = xone[xone != 0]\n",
    "pc = pc[pc != 0]\n",
    "\n",
    "results = st.ttest_ind(xone,pc,equal_var = False)\n",
    "alpha = 0.05\n",
    "print(results.pvalue)\n",
    "if results.pvalue<alpha:\n",
    "    print('Отвергаем нулевую гипотезу ')\n",
    "else:\n",
    "    print('Не получилось отвергнуть нулевую гипотезу ')"
   ]
  },
  {
   "cell_type": "markdown",
   "metadata": {},
   "source": [
    "Нулевая гипотеза: средние пользовательские рейтинги жанров Action и Sports не равны \n",
    "\n",
    "Альтернативная гипотеза: средние пользовательские рейтинги жанров Action и Sports равны"
   ]
  },
  {
   "cell_type": "code",
   "execution_count": 134,
   "metadata": {},
   "outputs": [
    {
     "name": "stdout",
     "output_type": "stream",
     "text": [
      "0.10412255479966635\n",
      "Отвергаем нулевую гипотезу \n"
     ]
    }
   ],
   "source": [
    "action = data[(data['genre'] =='Action')&(data['year_of_release']>2011)]['user_score']\n",
    "sports = data[(data['genre'] =='Sports')&(data['year_of_release']>2011))]['user_score']\n",
    "\n",
    "action = action[action != 0]\n",
    "sports = sports[sports != 0]\n",
    "\n",
    "results = st.ttest_ind(action,sports,equal_var = False)\n",
    "alpha = 0.05\n",
    "print(results.pvalue)\n",
    "if results.pvalue<alpha:\n",
    "    print('Не получилось отвергнуть нулевую гипотезу')\n",
    "else:\n",
    "    print('Отвергаем нулевую гипотезу ')"
   ]
  },
  {
   "cell_type": "markdown",
   "metadata": {},
   "source": [
    "# **Общий вывод**\n",
    "\n",
    "В проекте я выполнила несколько этапов работы с данными - первым из них была предобработка данных: \n",
    "* первоначальный просмотр таблицы и изучение подробной информации с помощью метода info()\n",
    "* удаление или замена пропусков\n",
    "* изменение формата некоторых столбцов,добавление новых полей\n",
    "\n",
    "Затем провела исследовательский анализ данных, где проанализировала платформы с наибольшим количеством продаж и составила прогноз на 2017 год, где выделила самые перспективные компании, такие как PS4, XOne и 3DS, так же изучила самые популярные жанры игр, выделила жанры с наибольшим и наименьшим количеством продаж (наибольшее медианное и среднее значения количества продаж у игр жанра Platform и Shooter,а наименьшее - Adventure,Strategy,Pazzl), а так же выявила слабую зависимость между количеством продаж и отзывами критиков, или отсутствие зависимости между пользовательским рейтингом и количеством продаж.\n",
    "\n",
    "В последнем этапе я проверила две гипотезы о равенстве и отличии средних значений пользовательских рейтингов у двух платформ (XBox и Pc) и двух жанров (Action и Sports), используя критерий Стьюдента, и оказалось, что средние пользовательские рейтинги платформ Xbox One и PC не равны, а средние пользовательские рейтинги жанров Action и Sports наоборот примерно одинаковы.\n",
    "\n",
    "Стоит обратить внимание на то, что иногда просмотр суммарных продаж дает неверное понятие о ситуации, поэтому я рекомендую проверять и другие метрики. Также стоит обратить внимание, что данные лучше анализировать на актуальном периоде, чтобы получить наиболее точную картину рынка игр и возможность ее спрогнозировать на ближайшее будущее. "
   ]
  }
 ],
 "metadata": {
  "ExecuteTimeLog": [
   {
    "duration": 1299,
    "start_time": "2023-03-10T09:12:30.177Z"
   },
   {
    "duration": 192,
    "start_time": "2023-03-10T09:12:31.478Z"
   },
   {
    "duration": 23,
    "start_time": "2023-03-10T09:12:31.672Z"
   },
   {
    "duration": 100,
    "start_time": "2023-03-10T09:15:13.267Z"
   },
   {
    "duration": 7,
    "start_time": "2023-03-10T09:15:23.799Z"
   },
   {
    "duration": 9,
    "start_time": "2023-03-10T09:20:39.398Z"
   },
   {
    "duration": 6,
    "start_time": "2023-03-10T09:21:15.736Z"
   },
   {
    "duration": 6,
    "start_time": "2023-03-10T09:23:17.121Z"
   },
   {
    "duration": 3,
    "start_time": "2023-03-10T09:25:09.228Z"
   },
   {
    "duration": 51,
    "start_time": "2023-03-10T09:25:09.232Z"
   },
   {
    "duration": 18,
    "start_time": "2023-03-10T09:25:09.284Z"
   },
   {
    "duration": 5,
    "start_time": "2023-03-10T09:25:09.810Z"
   },
   {
    "duration": 1782,
    "start_time": "2023-03-10T09:25:09.817Z"
   },
   {
    "duration": 4,
    "start_time": "2023-03-10T09:25:33.932Z"
   },
   {
    "duration": 8,
    "start_time": "2023-03-10T09:25:36.513Z"
   },
   {
    "duration": 15,
    "start_time": "2023-03-10T09:25:47.319Z"
   },
   {
    "duration": 24,
    "start_time": "2023-03-10T09:26:33.672Z"
   },
   {
    "duration": 892,
    "start_time": "2023-03-10T09:27:39.701Z"
   },
   {
    "duration": 17,
    "start_time": "2023-03-10T09:29:03.813Z"
   },
   {
    "duration": 14,
    "start_time": "2023-03-10T09:29:23.197Z"
   },
   {
    "duration": 24,
    "start_time": "2023-03-10T09:29:36.451Z"
   },
   {
    "duration": 10,
    "start_time": "2023-03-10T09:36:11.644Z"
   },
   {
    "duration": 14,
    "start_time": "2023-03-10T09:48:18.531Z"
   },
   {
    "duration": 22,
    "start_time": "2023-03-10T09:48:26.057Z"
   },
   {
    "duration": 8,
    "start_time": "2023-03-10T09:48:53.047Z"
   },
   {
    "duration": 8,
    "start_time": "2023-03-10T09:49:23.553Z"
   },
   {
    "duration": 8,
    "start_time": "2023-03-10T09:49:32.100Z"
   },
   {
    "duration": 15,
    "start_time": "2023-03-10T09:50:38.201Z"
   },
   {
    "duration": 16,
    "start_time": "2023-03-10T09:50:50.425Z"
   },
   {
    "duration": 14,
    "start_time": "2023-03-10T09:54:02.246Z"
   },
   {
    "duration": 11,
    "start_time": "2023-03-10T09:54:09.468Z"
   },
   {
    "duration": 15,
    "start_time": "2023-03-10T09:56:29.477Z"
   },
   {
    "duration": 22,
    "start_time": "2023-03-10T10:14:04.789Z"
   },
   {
    "duration": 22,
    "start_time": "2023-03-10T10:14:30.727Z"
   },
   {
    "duration": 24,
    "start_time": "2023-03-10T10:14:38.948Z"
   },
   {
    "duration": 21,
    "start_time": "2023-03-10T10:16:28.577Z"
   },
   {
    "duration": 21,
    "start_time": "2023-03-10T10:16:46.957Z"
   },
   {
    "duration": 7,
    "start_time": "2023-03-10T10:17:21.657Z"
   },
   {
    "duration": 7,
    "start_time": "2023-03-10T10:26:51.696Z"
   },
   {
    "duration": 8,
    "start_time": "2023-03-10T10:28:37.482Z"
   },
   {
    "duration": 8,
    "start_time": "2023-03-10T10:28:46.843Z"
   },
   {
    "duration": 64,
    "start_time": "2023-03-10T10:33:18.916Z"
   },
   {
    "duration": 403,
    "start_time": "2023-03-10T10:34:27.875Z"
   },
   {
    "duration": 960,
    "start_time": "2023-03-10T10:36:27.768Z"
   },
   {
    "duration": 406,
    "start_time": "2023-03-10T10:37:12.898Z"
   },
   {
    "duration": 437,
    "start_time": "2023-03-10T10:38:33.462Z"
   },
   {
    "duration": 651,
    "start_time": "2023-03-10T10:38:41.962Z"
   },
   {
    "duration": 576,
    "start_time": "2023-03-10T10:39:56.535Z"
   },
   {
    "duration": 238,
    "start_time": "2023-03-10T10:40:37.102Z"
   },
   {
    "duration": 155,
    "start_time": "2023-03-10T10:41:57.078Z"
   },
   {
    "duration": 265,
    "start_time": "2023-03-10T10:42:06.084Z"
   },
   {
    "duration": 405,
    "start_time": "2023-03-10T10:45:39.005Z"
   },
   {
    "duration": 20,
    "start_time": "2023-03-10T10:46:24.790Z"
   },
   {
    "duration": 16,
    "start_time": "2023-03-10T10:46:35.253Z"
   },
   {
    "duration": 6,
    "start_time": "2023-03-10T10:47:25.079Z"
   },
   {
    "duration": 3,
    "start_time": "2023-03-10T10:48:11.222Z"
   },
   {
    "duration": 54,
    "start_time": "2023-03-10T10:48:11.740Z"
   },
   {
    "duration": 18,
    "start_time": "2023-03-10T10:48:12.158Z"
   },
   {
    "duration": 3,
    "start_time": "2023-03-10T10:48:16.778Z"
   },
   {
    "duration": 14,
    "start_time": "2023-03-10T10:48:16.932Z"
   },
   {
    "duration": 8,
    "start_time": "2023-03-10T10:48:17.115Z"
   },
   {
    "duration": 17,
    "start_time": "2023-03-10T10:48:17.351Z"
   },
   {
    "duration": 8,
    "start_time": "2023-03-10T10:48:18.449Z"
   },
   {
    "duration": 25,
    "start_time": "2023-03-10T10:49:52.998Z"
   },
   {
    "duration": 18,
    "start_time": "2023-03-10T10:50:01.479Z"
   },
   {
    "duration": 10,
    "start_time": "2023-03-10T10:50:11.715Z"
   },
   {
    "duration": 18,
    "start_time": "2023-03-10T10:50:16.458Z"
   },
   {
    "duration": 7,
    "start_time": "2023-03-10T10:50:35.533Z"
   },
   {
    "duration": 9,
    "start_time": "2023-03-10T10:50:39.834Z"
   },
   {
    "duration": 394,
    "start_time": "2023-03-10T10:50:43.364Z"
   },
   {
    "duration": 383,
    "start_time": "2023-03-10T10:51:51.835Z"
   },
   {
    "duration": 406,
    "start_time": "2023-03-10T10:52:25.534Z"
   },
   {
    "duration": 443,
    "start_time": "2023-03-10T10:53:26.895Z"
   },
   {
    "duration": 365,
    "start_time": "2023-03-10T10:54:14.895Z"
   },
   {
    "duration": 3,
    "start_time": "2023-03-10T10:54:36.400Z"
   },
   {
    "duration": 71,
    "start_time": "2023-03-10T10:54:36.606Z"
   },
   {
    "duration": 20,
    "start_time": "2023-03-10T10:54:36.806Z"
   },
   {
    "duration": 4,
    "start_time": "2023-03-10T10:54:36.978Z"
   },
   {
    "duration": 23,
    "start_time": "2023-03-10T10:54:37.200Z"
   },
   {
    "duration": 14,
    "start_time": "2023-03-10T10:54:38.251Z"
   },
   {
    "duration": 17,
    "start_time": "2023-03-10T10:54:39.699Z"
   },
   {
    "duration": 8,
    "start_time": "2023-03-10T10:54:40.964Z"
   },
   {
    "duration": 24,
    "start_time": "2023-03-10T10:55:07.667Z"
   },
   {
    "duration": 11,
    "start_time": "2023-03-10T10:55:09.134Z"
   },
   {
    "duration": 19,
    "start_time": "2023-03-10T10:55:14.318Z"
   },
   {
    "duration": 10,
    "start_time": "2023-03-10T10:55:16.843Z"
   },
   {
    "duration": 21,
    "start_time": "2023-03-10T10:55:24.013Z"
   },
   {
    "duration": 7,
    "start_time": "2023-03-10T10:55:25.043Z"
   },
   {
    "duration": 9,
    "start_time": "2023-03-10T10:55:29.746Z"
   },
   {
    "duration": 399,
    "start_time": "2023-03-10T10:55:33.491Z"
   },
   {
    "duration": 547,
    "start_time": "2023-03-10T10:56:10.247Z"
   },
   {
    "duration": 225,
    "start_time": "2023-03-10T11:08:28.486Z"
   },
   {
    "duration": 1200,
    "start_time": "2023-03-10T11:08:44.405Z"
   },
   {
    "duration": 5,
    "start_time": "2023-03-10T11:13:40.110Z"
   },
   {
    "duration": 14,
    "start_time": "2023-03-10T11:14:01.441Z"
   },
   {
    "duration": 12,
    "start_time": "2023-03-10T11:15:30.188Z"
   },
   {
    "duration": 4,
    "start_time": "2023-03-10T11:15:55.225Z"
   },
   {
    "duration": 3,
    "start_time": "2023-03-10T11:16:21.938Z"
   },
   {
    "duration": 2031,
    "start_time": "2023-03-10T11:17:38.694Z"
   },
   {
    "duration": 1384,
    "start_time": "2023-03-10T11:18:01.947Z"
   },
   {
    "duration": 411,
    "start_time": "2023-03-10T11:33:44.091Z"
   },
   {
    "duration": 104,
    "start_time": "2023-03-10T11:34:47.684Z"
   },
   {
    "duration": 147,
    "start_time": "2023-03-10T11:35:20.361Z"
   },
   {
    "duration": 109,
    "start_time": "2023-03-10T11:35:44.757Z"
   },
   {
    "duration": 114,
    "start_time": "2023-03-10T11:36:06.781Z"
   },
   {
    "duration": 55,
    "start_time": "2023-03-10T16:18:01.715Z"
   },
   {
    "duration": 1267,
    "start_time": "2023-03-10T16:18:06.824Z"
   },
   {
    "duration": 226,
    "start_time": "2023-03-10T16:18:08.093Z"
   },
   {
    "duration": 24,
    "start_time": "2023-03-10T16:18:08.320Z"
   },
   {
    "duration": 21,
    "start_time": "2023-03-10T16:18:08.348Z"
   },
   {
    "duration": 22,
    "start_time": "2023-03-10T16:18:08.370Z"
   },
   {
    "duration": 9,
    "start_time": "2023-03-10T16:18:08.393Z"
   },
   {
    "duration": 26,
    "start_time": "2023-03-10T16:18:08.403Z"
   },
   {
    "duration": 6,
    "start_time": "2023-03-10T16:18:08.431Z"
   },
   {
    "duration": 7,
    "start_time": "2023-03-10T16:18:08.765Z"
   },
   {
    "duration": 1320,
    "start_time": "2023-03-10T16:18:08.954Z"
   },
   {
    "duration": 8,
    "start_time": "2023-03-10T16:18:10.276Z"
   },
   {
    "duration": 1487,
    "start_time": "2023-03-10T16:18:10.286Z"
   },
   {
    "duration": 127,
    "start_time": "2023-03-10T16:18:11.775Z"
   },
   {
    "duration": 124,
    "start_time": "2023-03-10T16:18:11.905Z"
   },
   {
    "duration": 232,
    "start_time": "2023-03-10T16:18:12.031Z"
   },
   {
    "duration": 438,
    "start_time": "2023-03-10T16:18:12.268Z"
   },
   {
    "duration": 0,
    "start_time": "2023-03-10T16:18:12.708Z"
   },
   {
    "duration": 3,
    "start_time": "2023-03-10T16:18:31.766Z"
   },
   {
    "duration": 51,
    "start_time": "2023-03-10T16:18:32.471Z"
   },
   {
    "duration": 23,
    "start_time": "2023-03-10T16:18:32.934Z"
   },
   {
    "duration": 4,
    "start_time": "2023-03-10T16:18:36.400Z"
   },
   {
    "duration": 22,
    "start_time": "2023-03-10T16:18:37.062Z"
   },
   {
    "duration": 8,
    "start_time": "2023-03-10T16:18:40.717Z"
   },
   {
    "duration": 17,
    "start_time": "2023-03-10T16:18:43.662Z"
   },
   {
    "duration": 25,
    "start_time": "2023-03-10T16:18:46.336Z"
   },
   {
    "duration": 23,
    "start_time": "2023-03-10T16:19:08.162Z"
   },
   {
    "duration": 9,
    "start_time": "2023-03-10T16:19:10.308Z"
   },
   {
    "duration": 15,
    "start_time": "2023-03-10T16:19:11.608Z"
   },
   {
    "duration": 22,
    "start_time": "2023-03-10T16:19:17.702Z"
   },
   {
    "duration": 14,
    "start_time": "2023-03-10T16:19:18.851Z"
   },
   {
    "duration": 14,
    "start_time": "2023-03-10T16:19:45.675Z"
   },
   {
    "duration": 10,
    "start_time": "2023-03-10T16:19:48.264Z"
   },
   {
    "duration": 14,
    "start_time": "2023-03-10T16:19:50.524Z"
   },
   {
    "duration": 6,
    "start_time": "2023-03-10T16:19:52.001Z"
   },
   {
    "duration": 9,
    "start_time": "2023-03-10T16:19:54.967Z"
   },
   {
    "duration": 1305,
    "start_time": "2023-03-10T16:19:56.137Z"
   },
   {
    "duration": 11,
    "start_time": "2023-03-10T16:19:57.664Z"
   },
   {
    "duration": 1487,
    "start_time": "2023-03-10T16:19:58.336Z"
   },
   {
    "duration": 145,
    "start_time": "2023-03-10T16:19:59.825Z"
   },
   {
    "duration": 112,
    "start_time": "2023-03-10T16:20:00.557Z"
   },
   {
    "duration": 117,
    "start_time": "2023-03-10T16:20:01.471Z"
   },
   {
    "duration": 406,
    "start_time": "2023-03-10T16:20:05.711Z"
   },
   {
    "duration": 375,
    "start_time": "2023-03-10T16:20:33.950Z"
   },
   {
    "duration": 355,
    "start_time": "2023-03-10T16:21:03.209Z"
   },
   {
    "duration": 9,
    "start_time": "2023-03-10T16:21:14.093Z"
   },
   {
    "duration": 11,
    "start_time": "2023-03-10T16:21:35.201Z"
   },
   {
    "duration": 9,
    "start_time": "2023-03-10T16:22:05.511Z"
   },
   {
    "duration": 13,
    "start_time": "2023-03-10T16:22:13.405Z"
   },
   {
    "duration": 25,
    "start_time": "2023-03-10T16:22:43.637Z"
   },
   {
    "duration": 2,
    "start_time": "2023-03-10T16:22:50.553Z"
   },
   {
    "duration": 59,
    "start_time": "2023-03-10T16:22:51.407Z"
   },
   {
    "duration": 24,
    "start_time": "2023-03-10T16:22:52.338Z"
   },
   {
    "duration": 3,
    "start_time": "2023-03-10T16:22:56.617Z"
   },
   {
    "duration": 19,
    "start_time": "2023-03-10T16:22:59.418Z"
   },
   {
    "duration": 8,
    "start_time": "2023-03-10T16:23:07.807Z"
   },
   {
    "duration": 24,
    "start_time": "2023-03-10T16:23:09.438Z"
   },
   {
    "duration": 8,
    "start_time": "2023-03-10T16:23:12.751Z"
   },
   {
    "duration": 5,
    "start_time": "2023-03-10T16:23:22.605Z"
   },
   {
    "duration": 66,
    "start_time": "2023-03-10T16:23:23.427Z"
   },
   {
    "duration": 17,
    "start_time": "2023-03-10T16:23:23.875Z"
   },
   {
    "duration": 3,
    "start_time": "2023-03-10T16:23:27.065Z"
   },
   {
    "duration": 24,
    "start_time": "2023-03-10T16:23:27.931Z"
   },
   {
    "duration": 9,
    "start_time": "2023-03-10T16:23:32.217Z"
   },
   {
    "duration": 22,
    "start_time": "2023-03-10T16:23:34.135Z"
   },
   {
    "duration": 9,
    "start_time": "2023-03-10T16:23:37.368Z"
   },
   {
    "duration": 2,
    "start_time": "2023-03-10T16:23:59.208Z"
   },
   {
    "duration": 48,
    "start_time": "2023-03-10T16:23:59.759Z"
   },
   {
    "duration": 19,
    "start_time": "2023-03-10T16:24:00.160Z"
   },
   {
    "duration": 7,
    "start_time": "2023-03-10T16:24:04.137Z"
   },
   {
    "duration": 30,
    "start_time": "2023-03-10T16:24:04.835Z"
   },
   {
    "duration": 16,
    "start_time": "2023-03-10T16:24:09.437Z"
   },
   {
    "duration": 22,
    "start_time": "2023-03-10T16:24:12.133Z"
   },
   {
    "duration": 8,
    "start_time": "2023-03-10T16:24:16.218Z"
   },
   {
    "duration": 7,
    "start_time": "2023-03-10T16:24:19.826Z"
   },
   {
    "duration": 14,
    "start_time": "2023-03-10T16:24:22.799Z"
   },
   {
    "duration": 11,
    "start_time": "2023-03-10T16:24:23.851Z"
   },
   {
    "duration": 8,
    "start_time": "2023-03-10T16:24:27.627Z"
   },
   {
    "duration": 1292,
    "start_time": "2023-03-10T16:24:28.634Z"
   },
   {
    "duration": 8,
    "start_time": "2023-03-10T16:24:30.267Z"
   },
   {
    "duration": 1483,
    "start_time": "2023-03-10T16:24:30.859Z"
   },
   {
    "duration": 127,
    "start_time": "2023-03-10T16:24:32.343Z"
   },
   {
    "duration": 143,
    "start_time": "2023-03-10T16:24:32.472Z"
   },
   {
    "duration": 151,
    "start_time": "2023-03-10T16:24:32.619Z"
   },
   {
    "duration": 15,
    "start_time": "2023-03-10T16:24:33.580Z"
   },
   {
    "duration": 114,
    "start_time": "2023-03-10T16:24:34.317Z"
   },
   {
    "duration": 3,
    "start_time": "2023-03-10T16:26:11.780Z"
   },
   {
    "duration": 59,
    "start_time": "2023-03-10T16:26:12.396Z"
   },
   {
    "duration": 18,
    "start_time": "2023-03-10T16:26:12.956Z"
   },
   {
    "duration": 4,
    "start_time": "2023-03-10T16:26:16.757Z"
   },
   {
    "duration": 21,
    "start_time": "2023-03-10T16:26:18.363Z"
   },
   {
    "duration": 8,
    "start_time": "2023-03-10T16:26:22.215Z"
   },
   {
    "duration": 17,
    "start_time": "2023-03-10T16:26:25.085Z"
   },
   {
    "duration": 8,
    "start_time": "2023-03-10T16:26:29.427Z"
   },
   {
    "duration": 2,
    "start_time": "2023-03-10T16:32:13.070Z"
   },
   {
    "duration": 61,
    "start_time": "2023-03-10T16:32:13.275Z"
   },
   {
    "duration": 19,
    "start_time": "2023-03-10T16:32:13.583Z"
   },
   {
    "duration": 3,
    "start_time": "2023-03-10T16:32:13.915Z"
   },
   {
    "duration": 20,
    "start_time": "2023-03-10T16:32:14.794Z"
   },
   {
    "duration": 9,
    "start_time": "2023-03-10T16:32:15.484Z"
   },
   {
    "duration": 13,
    "start_time": "2023-03-10T16:32:16.194Z"
   },
   {
    "duration": 7,
    "start_time": "2023-03-10T16:32:17.729Z"
   },
   {
    "duration": 24,
    "start_time": "2023-03-10T16:32:22.576Z"
   },
   {
    "duration": 7,
    "start_time": "2023-03-10T16:32:29.201Z"
   },
   {
    "duration": 11,
    "start_time": "2023-03-10T16:32:32.162Z"
   },
   {
    "duration": 1575,
    "start_time": "2023-03-10T16:32:32.374Z"
   },
   {
    "duration": 15,
    "start_time": "2023-03-10T16:32:33.956Z"
   },
   {
    "duration": 1566,
    "start_time": "2023-03-10T16:32:33.973Z"
   },
   {
    "duration": 137,
    "start_time": "2023-03-10T16:32:35.541Z"
   },
   {
    "duration": 138,
    "start_time": "2023-03-10T16:32:35.680Z"
   },
   {
    "duration": 112,
    "start_time": "2023-03-10T16:32:35.820Z"
   },
   {
    "duration": 22,
    "start_time": "2023-03-10T16:32:35.933Z"
   },
   {
    "duration": 120,
    "start_time": "2023-03-10T16:32:36.293Z"
   },
   {
    "duration": 222,
    "start_time": "2023-03-10T16:32:46.955Z"
   },
   {
    "duration": 145,
    "start_time": "2023-03-10T16:33:08.969Z"
   },
   {
    "duration": 129,
    "start_time": "2023-03-10T16:36:38.191Z"
   },
   {
    "duration": 1611,
    "start_time": "2023-03-10T16:40:01.613Z"
   },
   {
    "duration": 121,
    "start_time": "2023-03-10T16:42:25.671Z"
   },
   {
    "duration": 192,
    "start_time": "2023-03-10T16:42:38.263Z"
   },
   {
    "duration": 122,
    "start_time": "2023-03-10T16:42:47.954Z"
   },
   {
    "duration": 185,
    "start_time": "2023-03-10T16:42:54.662Z"
   },
   {
    "duration": 181,
    "start_time": "2023-03-10T16:43:56.121Z"
   },
   {
    "duration": 283,
    "start_time": "2023-03-10T16:44:06.370Z"
   },
   {
    "duration": 184,
    "start_time": "2023-03-10T16:44:37.765Z"
   },
   {
    "duration": 200,
    "start_time": "2023-03-10T16:45:10.263Z"
   },
   {
    "duration": 8,
    "start_time": "2023-03-10T16:47:25.293Z"
   },
   {
    "duration": 11,
    "start_time": "2023-03-10T16:48:03.731Z"
   },
   {
    "duration": 8,
    "start_time": "2023-03-10T16:48:38.065Z"
   },
   {
    "duration": 15,
    "start_time": "2023-03-10T16:48:53.639Z"
   },
   {
    "duration": 8,
    "start_time": "2023-03-10T16:49:19.703Z"
   },
   {
    "duration": 8,
    "start_time": "2023-03-10T16:51:37.128Z"
   },
   {
    "duration": 9,
    "start_time": "2023-03-10T16:51:46.524Z"
   },
   {
    "duration": 7,
    "start_time": "2023-03-10T16:52:41.013Z"
   },
   {
    "duration": 7,
    "start_time": "2023-03-10T16:52:44.593Z"
   },
   {
    "duration": 9,
    "start_time": "2023-03-10T16:52:53.871Z"
   },
   {
    "duration": 11,
    "start_time": "2023-03-10T16:53:36.901Z"
   },
   {
    "duration": 12,
    "start_time": "2023-03-10T16:53:47.494Z"
   },
   {
    "duration": 6,
    "start_time": "2023-03-10T16:54:04.631Z"
   },
   {
    "duration": 7,
    "start_time": "2023-03-10T16:54:18.665Z"
   },
   {
    "duration": 7,
    "start_time": "2023-03-10T16:55:26.193Z"
   },
   {
    "duration": 17,
    "start_time": "2023-03-10T16:58:13.731Z"
   },
   {
    "duration": 7,
    "start_time": "2023-03-10T16:59:28.330Z"
   },
   {
    "duration": 10,
    "start_time": "2023-03-10T16:59:42.573Z"
   },
   {
    "duration": 134,
    "start_time": "2023-03-10T17:01:54.051Z"
   },
   {
    "duration": 2009,
    "start_time": "2023-03-10T17:02:03.420Z"
   },
   {
    "duration": 2051,
    "start_time": "2023-03-10T17:02:34.364Z"
   },
   {
    "duration": 170,
    "start_time": "2023-03-10T17:03:14.359Z"
   },
   {
    "duration": 8,
    "start_time": "2023-03-10T17:04:02.902Z"
   },
   {
    "duration": 1974,
    "start_time": "2023-03-10T17:04:19.630Z"
   },
   {
    "duration": 2023,
    "start_time": "2023-03-10T17:04:45.538Z"
   },
   {
    "duration": 22,
    "start_time": "2023-03-10T17:05:04.968Z"
   },
   {
    "duration": 18,
    "start_time": "2023-03-10T17:05:44.803Z"
   },
   {
    "duration": 25,
    "start_time": "2023-03-10T17:06:09.544Z"
   },
   {
    "duration": 12,
    "start_time": "2023-03-10T17:06:31.767Z"
   },
   {
    "duration": 10,
    "start_time": "2023-03-10T17:08:01.867Z"
   },
   {
    "duration": 11,
    "start_time": "2023-03-10T17:08:57.055Z"
   },
   {
    "duration": 148,
    "start_time": "2023-03-10T17:10:48.771Z"
   },
   {
    "duration": 7,
    "start_time": "2023-03-10T17:12:39.362Z"
   },
   {
    "duration": 12,
    "start_time": "2023-03-10T17:12:51.449Z"
   },
   {
    "duration": 19,
    "start_time": "2023-03-10T17:13:19.070Z"
   },
   {
    "duration": 8,
    "start_time": "2023-03-10T17:13:43.579Z"
   },
   {
    "duration": 7,
    "start_time": "2023-03-10T17:14:02.278Z"
   },
   {
    "duration": 11,
    "start_time": "2023-03-10T17:19:21.943Z"
   },
   {
    "duration": 9,
    "start_time": "2023-03-10T17:20:02.609Z"
   },
   {
    "duration": 10,
    "start_time": "2023-03-10T17:20:15.567Z"
   },
   {
    "duration": 27,
    "start_time": "2023-03-10T17:52:30.821Z"
   },
   {
    "duration": 14,
    "start_time": "2023-03-10T17:56:26.721Z"
   },
   {
    "duration": 1359,
    "start_time": "2023-03-10T17:57:53.532Z"
   },
   {
    "duration": 14,
    "start_time": "2023-03-10T17:58:33.192Z"
   },
   {
    "duration": 20,
    "start_time": "2023-03-10T17:58:58.776Z"
   },
   {
    "duration": 18,
    "start_time": "2023-03-10T17:59:13.430Z"
   },
   {
    "duration": 11,
    "start_time": "2023-03-10T17:59:33.311Z"
   },
   {
    "duration": 14,
    "start_time": "2023-03-10T17:59:42.822Z"
   },
   {
    "duration": 18,
    "start_time": "2023-03-10T17:59:57.112Z"
   },
   {
    "duration": 9,
    "start_time": "2023-03-10T18:01:37.512Z"
   },
   {
    "duration": 10,
    "start_time": "2023-03-10T18:02:13.812Z"
   },
   {
    "duration": 11,
    "start_time": "2023-03-10T18:08:09.216Z"
   },
   {
    "duration": 10,
    "start_time": "2023-03-10T18:18:56.270Z"
   },
   {
    "duration": 172,
    "start_time": "2023-03-10T18:23:42.387Z"
   },
   {
    "duration": 172,
    "start_time": "2023-03-10T18:47:16.268Z"
   },
   {
    "duration": 124,
    "start_time": "2023-03-10T18:54:32.583Z"
   },
   {
    "duration": 1527,
    "start_time": "2023-03-11T10:25:39.573Z"
   },
   {
    "duration": 113,
    "start_time": "2023-03-11T10:25:41.103Z"
   },
   {
    "duration": 33,
    "start_time": "2023-03-11T10:25:41.218Z"
   },
   {
    "duration": 43,
    "start_time": "2023-03-11T10:25:41.254Z"
   },
   {
    "duration": 58,
    "start_time": "2023-03-11T10:25:41.300Z"
   },
   {
    "duration": 23,
    "start_time": "2023-03-11T10:25:41.360Z"
   },
   {
    "duration": 40,
    "start_time": "2023-03-11T10:25:41.385Z"
   },
   {
    "duration": 14,
    "start_time": "2023-03-11T10:25:41.427Z"
   },
   {
    "duration": 27,
    "start_time": "2023-03-11T10:25:41.444Z"
   },
   {
    "duration": 1545,
    "start_time": "2023-03-11T10:25:41.476Z"
   },
   {
    "duration": 11,
    "start_time": "2023-03-11T10:25:43.023Z"
   },
   {
    "duration": 1786,
    "start_time": "2023-03-11T10:25:43.037Z"
   },
   {
    "duration": 164,
    "start_time": "2023-03-11T10:25:44.825Z"
   },
   {
    "duration": 146,
    "start_time": "2023-03-11T10:25:44.991Z"
   },
   {
    "duration": 153,
    "start_time": "2023-03-11T10:25:45.138Z"
   },
   {
    "duration": 247,
    "start_time": "2023-03-11T10:25:45.293Z"
   },
   {
    "duration": 191,
    "start_time": "2023-03-11T10:25:45.543Z"
   },
   {
    "duration": 183,
    "start_time": "2023-03-11T10:25:45.736Z"
   },
   {
    "duration": 226,
    "start_time": "2023-03-11T10:25:45.921Z"
   },
   {
    "duration": 12,
    "start_time": "2023-03-11T10:25:46.149Z"
   },
   {
    "duration": 17,
    "start_time": "2023-03-11T10:25:46.173Z"
   },
   {
    "duration": 14,
    "start_time": "2023-03-11T10:25:46.192Z"
   },
   {
    "duration": 13,
    "start_time": "2023-03-11T10:25:46.208Z"
   },
   {
    "duration": 11,
    "start_time": "2023-03-11T10:25:46.222Z"
   },
   {
    "duration": 12,
    "start_time": "2023-03-11T10:25:46.235Z"
   },
   {
    "duration": 40,
    "start_time": "2023-03-11T10:25:46.249Z"
   },
   {
    "duration": 20,
    "start_time": "2023-03-11T10:25:46.292Z"
   },
   {
    "duration": 10,
    "start_time": "2023-03-11T10:25:46.317Z"
   },
   {
    "duration": 16,
    "start_time": "2023-03-11T10:25:46.329Z"
   },
   {
    "duration": 38,
    "start_time": "2023-03-11T10:25:46.347Z"
   },
   {
    "duration": 1237,
    "start_time": "2023-03-11T18:53:54.983Z"
   },
   {
    "duration": 207,
    "start_time": "2023-03-11T18:53:56.222Z"
   },
   {
    "duration": 21,
    "start_time": "2023-03-11T18:53:56.431Z"
   },
   {
    "duration": 3,
    "start_time": "2023-03-11T18:53:56.454Z"
   },
   {
    "duration": 23,
    "start_time": "2023-03-11T18:53:56.459Z"
   },
   {
    "duration": 9,
    "start_time": "2023-03-11T18:53:56.483Z"
   },
   {
    "duration": 17,
    "start_time": "2023-03-11T18:53:56.493Z"
   },
   {
    "duration": 29,
    "start_time": "2023-03-11T18:53:56.511Z"
   },
   {
    "duration": 8,
    "start_time": "2023-03-11T18:53:56.542Z"
   },
   {
    "duration": 1256,
    "start_time": "2023-03-11T18:53:56.552Z"
   },
   {
    "duration": 8,
    "start_time": "2023-03-11T18:53:57.810Z"
   },
   {
    "duration": 1444,
    "start_time": "2023-03-11T18:53:57.820Z"
   },
   {
    "duration": 119,
    "start_time": "2023-03-11T18:53:59.265Z"
   },
   {
    "duration": 110,
    "start_time": "2023-03-11T18:53:59.386Z"
   },
   {
    "duration": 118,
    "start_time": "2023-03-11T18:53:59.497Z"
   },
   {
    "duration": 194,
    "start_time": "2023-03-11T18:53:59.616Z"
   },
   {
    "duration": 139,
    "start_time": "2023-03-11T18:53:59.811Z"
   },
   {
    "duration": 143,
    "start_time": "2023-03-11T18:53:59.951Z"
   },
   {
    "duration": 184,
    "start_time": "2023-03-11T18:54:00.096Z"
   },
   {
    "duration": 11,
    "start_time": "2023-03-11T18:54:00.281Z"
   },
   {
    "duration": 18,
    "start_time": "2023-03-11T18:54:00.294Z"
   },
   {
    "duration": 27,
    "start_time": "2023-03-11T18:54:00.314Z"
   },
   {
    "duration": 16,
    "start_time": "2023-03-11T18:54:00.342Z"
   },
   {
    "duration": 22,
    "start_time": "2023-03-11T18:54:00.359Z"
   },
   {
    "duration": 25,
    "start_time": "2023-03-11T18:54:00.383Z"
   },
   {
    "duration": 14,
    "start_time": "2023-03-11T18:54:00.410Z"
   },
   {
    "duration": 13,
    "start_time": "2023-03-11T18:54:00.425Z"
   },
   {
    "duration": 32,
    "start_time": "2023-03-11T18:54:00.439Z"
   },
   {
    "duration": 27,
    "start_time": "2023-03-11T18:54:00.473Z"
   },
   {
    "duration": 17,
    "start_time": "2023-03-11T18:54:00.502Z"
   },
   {
    "duration": 29,
    "start_time": "2023-03-11T19:18:36.329Z"
   },
   {
    "duration": 47,
    "start_time": "2023-03-12T08:03:55.950Z"
   },
   {
    "duration": 1255,
    "start_time": "2023-03-12T08:04:03.950Z"
   },
   {
    "duration": 210,
    "start_time": "2023-03-12T08:04:07.061Z"
   },
   {
    "duration": 42,
    "start_time": "2023-03-12T08:04:07.575Z"
   },
   {
    "duration": 1719,
    "start_time": "2023-03-12T08:21:33.052Z"
   },
   {
    "duration": 1743,
    "start_time": "2023-03-12T08:21:48.568Z"
   },
   {
    "duration": 8,
    "start_time": "2023-03-12T08:22:00.936Z"
   },
   {
    "duration": 1172,
    "start_time": "2023-03-12T08:26:16.928Z"
   },
   {
    "duration": 1245,
    "start_time": "2023-03-12T08:26:33.576Z"
   },
   {
    "duration": 1113,
    "start_time": "2023-03-12T08:26:40.701Z"
   },
   {
    "duration": 1169,
    "start_time": "2023-03-12T08:26:49.192Z"
   },
   {
    "duration": 1342,
    "start_time": "2023-03-12T08:27:12.140Z"
   },
   {
    "duration": 1234,
    "start_time": "2023-03-12T08:29:36.290Z"
   },
   {
    "duration": 1244,
    "start_time": "2023-03-12T08:30:36.520Z"
   },
   {
    "duration": 1334,
    "start_time": "2023-03-12T08:31:04.200Z"
   },
   {
    "duration": 132,
    "start_time": "2023-03-12T08:33:18.598Z"
   },
   {
    "duration": 1165,
    "start_time": "2023-03-12T08:33:20.065Z"
   },
   {
    "duration": 126,
    "start_time": "2023-03-12T08:33:26.310Z"
   },
   {
    "duration": 143,
    "start_time": "2023-03-12T08:33:31.920Z"
   },
   {
    "duration": 152,
    "start_time": "2023-03-12T08:33:33.352Z"
   },
   {
    "duration": 186,
    "start_time": "2023-03-12T08:33:54.823Z"
   },
   {
    "duration": 118,
    "start_time": "2023-03-12T08:34:23.770Z"
   },
   {
    "duration": 144,
    "start_time": "2023-03-12T08:34:36.740Z"
   },
   {
    "duration": 130,
    "start_time": "2023-03-12T08:35:00.790Z"
   },
   {
    "duration": 171,
    "start_time": "2023-03-12T08:35:08.541Z"
   },
   {
    "duration": 138,
    "start_time": "2023-03-12T08:35:09.910Z"
   },
   {
    "duration": 254,
    "start_time": "2023-03-12T08:35:11.130Z"
   },
   {
    "duration": 141,
    "start_time": "2023-03-12T08:36:03.851Z"
   },
   {
    "duration": 196,
    "start_time": "2023-03-12T08:36:22.440Z"
   },
   {
    "duration": 160,
    "start_time": "2023-03-12T08:36:41.970Z"
   },
   {
    "duration": 70,
    "start_time": "2023-03-17T06:19:32.465Z"
   },
   {
    "duration": 1451,
    "start_time": "2023-03-17T06:19:38.621Z"
   },
   {
    "duration": 119,
    "start_time": "2023-03-17T06:19:40.075Z"
   },
   {
    "duration": 44,
    "start_time": "2023-03-17T06:19:40.196Z"
   },
   {
    "duration": 6,
    "start_time": "2023-03-17T06:19:40.536Z"
   },
   {
    "duration": 219,
    "start_time": "2023-03-17T06:19:42.424Z"
   },
   {
    "duration": 174,
    "start_time": "2023-03-17T06:20:32.019Z"
   },
   {
    "duration": 1565,
    "start_time": "2023-03-17T06:20:41.436Z"
   },
   {
    "duration": 1404,
    "start_time": "2023-03-17T06:21:04.948Z"
   },
   {
    "duration": 189,
    "start_time": "2023-03-17T06:21:21.231Z"
   },
   {
    "duration": 249,
    "start_time": "2023-03-17T06:22:29.379Z"
   },
   {
    "duration": 330,
    "start_time": "2023-03-17T06:23:25.097Z"
   },
   {
    "duration": 102,
    "start_time": "2023-03-17T06:23:45.527Z"
   },
   {
    "duration": 90,
    "start_time": "2023-03-17T06:24:03.620Z"
   },
   {
    "duration": 167,
    "start_time": "2023-03-17T06:24:07.534Z"
   },
   {
    "duration": 240,
    "start_time": "2023-03-17T06:24:13.394Z"
   },
   {
    "duration": 211,
    "start_time": "2023-03-17T06:24:57.346Z"
   },
   {
    "duration": 163,
    "start_time": "2023-03-17T06:25:57.237Z"
   },
   {
    "duration": 182,
    "start_time": "2023-03-17T06:26:02.472Z"
   },
   {
    "duration": 155,
    "start_time": "2023-03-17T06:26:04.856Z"
   },
   {
    "duration": 158,
    "start_time": "2023-03-17T06:26:05.906Z"
   },
   {
    "duration": 171,
    "start_time": "2023-03-17T06:26:11.476Z"
   },
   {
    "duration": 144,
    "start_time": "2023-03-17T06:42:40.882Z"
   },
   {
    "duration": 46,
    "start_time": "2023-03-17T06:42:59.663Z"
   },
   {
    "duration": 3,
    "start_time": "2023-03-17T06:43:10.527Z"
   },
   {
    "duration": 62,
    "start_time": "2023-03-17T06:43:10.750Z"
   },
   {
    "duration": 42,
    "start_time": "2023-03-17T06:43:11.431Z"
   },
   {
    "duration": 9,
    "start_time": "2023-03-17T06:43:12.333Z"
   },
   {
    "duration": 164,
    "start_time": "2023-03-17T06:43:13.044Z"
   },
   {
    "duration": 1512,
    "start_time": "2023-03-17T06:43:13.971Z"
   },
   {
    "duration": 222,
    "start_time": "2023-03-17T06:43:15.485Z"
   },
   {
    "duration": 168,
    "start_time": "2023-03-17T06:43:15.709Z"
   },
   {
    "duration": 193,
    "start_time": "2023-03-17T06:43:15.879Z"
   },
   {
    "duration": 183,
    "start_time": "2023-03-17T06:43:16.711Z"
   },
   {
    "duration": 156,
    "start_time": "2023-03-17T06:43:17.812Z"
   },
   {
    "duration": 4,
    "start_time": "2023-03-17T06:43:20.287Z"
   },
   {
    "duration": 33,
    "start_time": "2023-03-17T06:43:21.859Z"
   },
   {
    "duration": 15,
    "start_time": "2023-03-17T06:43:22.437Z"
   },
   {
    "duration": 16,
    "start_time": "2023-03-17T06:43:24.236Z"
   },
   {
    "duration": 9,
    "start_time": "2023-03-17T06:43:26.262Z"
   },
   {
    "duration": 8,
    "start_time": "2023-03-17T06:43:29.552Z"
   },
   {
    "duration": 1691,
    "start_time": "2023-03-17T06:43:30.253Z"
   },
   {
    "duration": 11,
    "start_time": "2023-03-17T06:43:33.292Z"
   },
   {
    "duration": 1903,
    "start_time": "2023-03-17T06:43:35.526Z"
   },
   {
    "duration": 18,
    "start_time": "2023-03-17T06:43:38.964Z"
   },
   {
    "duration": 30,
    "start_time": "2023-03-17T06:43:51.780Z"
   },
   {
    "duration": 18,
    "start_time": "2023-03-17T06:47:51.767Z"
   },
   {
    "duration": 17,
    "start_time": "2023-03-17T06:48:18.940Z"
   },
   {
    "duration": 17,
    "start_time": "2023-03-17T06:48:26.220Z"
   },
   {
    "duration": 130,
    "start_time": "2023-03-17T06:48:28.066Z"
   },
   {
    "duration": 25,
    "start_time": "2023-03-17T06:49:25.593Z"
   },
   {
    "duration": 23,
    "start_time": "2023-03-17T06:49:34.369Z"
   },
   {
    "duration": 205,
    "start_time": "2023-03-17T06:49:57.724Z"
   },
   {
    "duration": 204,
    "start_time": "2023-03-17T06:50:02.958Z"
   },
   {
    "duration": 246,
    "start_time": "2023-03-17T06:50:42.375Z"
   },
   {
    "duration": 185,
    "start_time": "2023-03-17T06:52:24.847Z"
   },
   {
    "duration": 16,
    "start_time": "2023-03-17T06:52:58.790Z"
   },
   {
    "duration": 11,
    "start_time": "2023-03-17T06:53:05.795Z"
   },
   {
    "duration": 12,
    "start_time": "2023-03-17T06:53:10.418Z"
   },
   {
    "duration": 95,
    "start_time": "2023-03-17T06:54:10.223Z"
   },
   {
    "duration": 96,
    "start_time": "2023-03-17T06:55:33.205Z"
   },
   {
    "duration": 157,
    "start_time": "2023-03-17T06:59:37.319Z"
   },
   {
    "duration": 165,
    "start_time": "2023-03-17T07:01:21.646Z"
   },
   {
    "duration": 154,
    "start_time": "2023-03-17T07:02:39.044Z"
   },
   {
    "duration": 93,
    "start_time": "2023-03-17T07:09:43.817Z"
   },
   {
    "duration": 5,
    "start_time": "2023-03-17T07:09:53.254Z"
   },
   {
    "duration": 9,
    "start_time": "2023-03-17T07:11:49.428Z"
   },
   {
    "duration": 53,
    "start_time": "2023-03-17T07:14:42.579Z"
   },
   {
    "duration": 50,
    "start_time": "2023-03-17T07:15:48.993Z"
   },
   {
    "duration": 63,
    "start_time": "2023-03-17T07:19:26.427Z"
   },
   {
    "duration": 74,
    "start_time": "2023-03-17T07:20:21.008Z"
   },
   {
    "duration": 71,
    "start_time": "2023-03-17T07:22:54.587Z"
   },
   {
    "duration": 226,
    "start_time": "2023-03-17T07:26:11.895Z"
   },
   {
    "duration": 224,
    "start_time": "2023-03-17T07:26:40.926Z"
   },
   {
    "duration": 17,
    "start_time": "2023-03-17T07:28:52.252Z"
   },
   {
    "duration": 60,
    "start_time": "2023-03-17T07:29:13.053Z"
   },
   {
    "duration": 53,
    "start_time": "2023-03-17T07:30:28.076Z"
   },
   {
    "duration": 59,
    "start_time": "2023-03-17T07:30:43.561Z"
   },
   {
    "duration": 239,
    "start_time": "2023-03-17T07:30:54.929Z"
   },
   {
    "duration": 342,
    "start_time": "2023-03-17T07:32:09.269Z"
   },
   {
    "duration": 195,
    "start_time": "2023-03-17T07:32:18.308Z"
   },
   {
    "duration": 208,
    "start_time": "2023-03-17T07:32:36.207Z"
   },
   {
    "duration": 212,
    "start_time": "2023-03-17T07:32:55.419Z"
   },
   {
    "duration": 52,
    "start_time": "2023-03-17T07:34:15.939Z"
   },
   {
    "duration": 221,
    "start_time": "2023-03-17T07:34:34.581Z"
   },
   {
    "duration": 70,
    "start_time": "2023-03-17T07:37:48.619Z"
   },
   {
    "duration": 200,
    "start_time": "2023-03-17T07:39:10.614Z"
   },
   {
    "duration": 260,
    "start_time": "2023-03-17T07:39:45.408Z"
   },
   {
    "duration": 55,
    "start_time": "2023-03-17T07:41:50.189Z"
   },
   {
    "duration": 250,
    "start_time": "2023-03-17T07:42:38.683Z"
   },
   {
    "duration": 54,
    "start_time": "2023-03-17T07:43:23.820Z"
   },
   {
    "duration": 50,
    "start_time": "2023-03-17T07:43:32.767Z"
   },
   {
    "duration": 50,
    "start_time": "2023-03-17T07:43:47.191Z"
   },
   {
    "duration": 213,
    "start_time": "2023-03-17T07:44:28.449Z"
   },
   {
    "duration": 159,
    "start_time": "2023-03-17T07:45:55.687Z"
   },
   {
    "duration": 223,
    "start_time": "2023-03-17T07:46:46.597Z"
   },
   {
    "duration": 228,
    "start_time": "2023-03-17T07:46:56.119Z"
   },
   {
    "duration": 246,
    "start_time": "2023-03-17T07:47:17.326Z"
   },
   {
    "duration": 354,
    "start_time": "2023-03-17T07:51:44.785Z"
   },
   {
    "duration": 188,
    "start_time": "2023-03-17T07:51:47.876Z"
   },
   {
    "duration": 78,
    "start_time": "2023-03-17T07:54:52.639Z"
   },
   {
    "duration": 9,
    "start_time": "2023-03-17T08:03:20.879Z"
   },
   {
    "duration": 13,
    "start_time": "2023-03-17T08:03:24.628Z"
   },
   {
    "duration": 109,
    "start_time": "2023-03-17T08:03:25.523Z"
   },
   {
    "duration": 14,
    "start_time": "2023-03-17T08:03:54.278Z"
   },
   {
    "duration": 13,
    "start_time": "2023-03-17T08:03:57.578Z"
   },
   {
    "duration": 13,
    "start_time": "2023-03-17T08:03:57.764Z"
   },
   {
    "duration": 102,
    "start_time": "2023-03-17T08:04:04.279Z"
   },
   {
    "duration": 11,
    "start_time": "2023-03-17T08:04:27.517Z"
   },
   {
    "duration": 8,
    "start_time": "2023-03-17T08:04:30.796Z"
   },
   {
    "duration": 10,
    "start_time": "2023-03-17T08:04:33.694Z"
   },
   {
    "duration": 83,
    "start_time": "2023-03-17T08:04:34.172Z"
   },
   {
    "duration": 11,
    "start_time": "2023-03-17T08:05:07.574Z"
   },
   {
    "duration": 10,
    "start_time": "2023-03-17T08:05:10.520Z"
   },
   {
    "duration": 94,
    "start_time": "2023-03-17T08:05:11.053Z"
   },
   {
    "duration": 101,
    "start_time": "2023-03-17T08:05:26.125Z"
   },
   {
    "duration": 6,
    "start_time": "2023-03-17T08:06:07.437Z"
   },
   {
    "duration": 91,
    "start_time": "2023-03-17T08:06:15.046Z"
   },
   {
    "duration": 105,
    "start_time": "2023-03-17T08:06:23.074Z"
   },
   {
    "duration": 10,
    "start_time": "2023-03-17T08:07:33.872Z"
   },
   {
    "duration": 94,
    "start_time": "2023-03-17T08:07:34.185Z"
   },
   {
    "duration": 94,
    "start_time": "2023-03-17T08:07:47.616Z"
   },
   {
    "duration": 83,
    "start_time": "2023-03-17T08:08:08.208Z"
   },
   {
    "duration": 92,
    "start_time": "2023-03-17T08:08:16.886Z"
   },
   {
    "duration": 8,
    "start_time": "2023-03-17T08:08:34.617Z"
   },
   {
    "duration": 6,
    "start_time": "2023-03-17T08:08:53.153Z"
   },
   {
    "duration": 92,
    "start_time": "2023-03-17T08:08:57.319Z"
   },
   {
    "duration": 5,
    "start_time": "2023-03-17T08:09:47.916Z"
   },
   {
    "duration": 92,
    "start_time": "2023-03-17T08:09:48.544Z"
   },
   {
    "duration": 88,
    "start_time": "2023-03-17T08:10:00.283Z"
   },
   {
    "duration": 95,
    "start_time": "2023-03-17T08:10:10.271Z"
   },
   {
    "duration": 139,
    "start_time": "2023-03-17T08:15:57.000Z"
   },
   {
    "duration": 13,
    "start_time": "2023-03-17T08:17:26.040Z"
   },
   {
    "duration": 13,
    "start_time": "2023-03-17T08:17:47.799Z"
   },
   {
    "duration": 228,
    "start_time": "2023-03-17T08:18:41.882Z"
   },
   {
    "duration": 291,
    "start_time": "2023-03-17T08:19:54.224Z"
   },
   {
    "duration": 183,
    "start_time": "2023-03-17T08:34:11.293Z"
   },
   {
    "duration": 350,
    "start_time": "2023-03-17T08:34:13.543Z"
   }
  ],
  "kernelspec": {
   "display_name": "Python 3 (ipykernel)",
   "language": "python",
   "name": "python3"
  },
  "language_info": {
   "codemirror_mode": {
    "name": "ipython",
    "version": 3
   },
   "file_extension": ".py",
   "mimetype": "text/x-python",
   "name": "python",
   "nbconvert_exporter": "python",
   "pygments_lexer": "ipython3",
   "version": "3.10.1"
  },
  "toc": {
   "base_numbering": 1,
   "nav_menu": {},
   "number_sections": true,
   "sideBar": true,
   "skip_h1_title": true,
   "title_cell": "Table of Contents",
   "title_sidebar": "Contents",
   "toc_cell": false,
   "toc_position": {},
   "toc_section_display": true,
   "toc_window_display": false
  }
 },
 "nbformat": 4,
 "nbformat_minor": 2
}

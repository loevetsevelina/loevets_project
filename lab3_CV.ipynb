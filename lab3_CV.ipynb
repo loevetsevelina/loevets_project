{
 "cells": [
  {
   "cell_type": "code",
   "execution_count": 636,
   "id": "318ffcf2",
   "metadata": {},
   "outputs": [],
   "source": [
    "import numpy as np\n",
    "import matplotlib.pyplot as plt"
   ]
  },
  {
   "cell_type": "code",
   "execution_count": 637,
   "id": "dd6d3147",
   "metadata": {},
   "outputs": [
    {
     "name": "stdout",
     "output_type": "stream",
     "text": [
      "2.886927876405352\n",
      "-1.8869278764053516\n"
     ]
    }
   ],
   "source": [
    "start, end, a, b, p = 0, 1, 1, np.exp(2), 3**(1/2)\n",
    "C2 = (b - p * np.exp(p) - (p ** 2) * np.exp(p) + p * a * np.exp(-p)) / (p * np.exp(-p) + p * np.exp(p))\n",
    "C1 = a - C2\n",
    "print (C1)\n",
    "print(C2)\n",
    "# a = C1 + C2\n",
    "# der(x) = -p*c1*np.exp(-p*x) + c2*p*np.exp(p*x) + p*np.exp(p*x) + p**2*x*np.exp(p*x)\n",
    "#der(1) = -p*(a - c2)*np.exp(-p) + c2*p*np.exp(p)+ p*np.exp(p) + p**2*np.exp(p) = b\n",
    "#c2 = (b -  p*np.exp(p) - p**2*np.exp(p) + p*a*np.exp(-p)) / (p*np.exp(-p) + p*np.exp(p))"
   ]
  },
  {
   "cell_type": "code",
   "execution_count": 638,
   "id": "420a34fa",
   "metadata": {},
   "outputs": [],
   "source": [
    "# def f(x):\n",
    "#     return np.exp(2 * p * x) * 2 * (p ** 2)\n",
    "# def solution(x):\n",
    "#     return C1 * np.exp(-p*x) + (C2 + p*x)*np.exp(p*x)\n",
    "# def f(x):\n",
    "#     return x ** 2 + x ** 3\n",
    "def solution(x):\n",
    "    return np.exp(2 * x)\n",
    "def f(x):\n",
    "    return np.exp(2 * x)\n",
    "    "
   ]
  },
  {
   "cell_type": "code",
   "execution_count": 639,
   "id": "24ff45f6",
   "metadata": {},
   "outputs": [],
   "source": [
    "# def SweepMethod(start, end, a, b, p, N):\n",
    "#     h = (end - start) / N\n",
    "#     u = np.empty(N + 1)\n",
    "    \n",
    "#     alpha = np.empty(N)\n",
    "#     beta = np.empty(N)\n",
    "    \n",
    "#     alpha[0], beta[0] = 0, a\n",
    "#     for i in range(1, N):\n",
    "#         alpha[i] = 1 / (2 + (p ** 2) * (h ** 2) - alpha[i - 1])\n",
    "#         beta[i] = (beta[i - 1] - (h ** 2) * f(start + i * h)) / ( 2 + (p ** 2) * (h ** 2) - alpha[i - 1])\n",
    "#     #u[N] = ( 1 /h * beta[N - 1] + b) / (1 / h - 1 / h * alpha[N - 1])   \n",
    "#     #u[N] = (beta[N - 1] + (h ** 2)* f(1) / 2 +  b * h) / ( 1 - (p ** 2) * (h ** 2) / 2 - alpha[N - 1])\n",
    "#     u[N] = ( 1 / h - b) / (h * alpha[N - 1])\n",
    "#     for i in range (N-1, -1, -1):\n",
    "#         u[i] = alpha[i] * u[i + 1] + beta[i]\n",
    "#     return u\n"
   ]
  },
  {
   "cell_type": "code",
   "execution_count": 640,
   "id": "71a6f742",
   "metadata": {},
   "outputs": [],
   "source": [
    "def TDMA_version( start, end, a, b, p, N):\n",
    "    h = (end - start) / N\n",
    "    u = np.empty(N + 1) \n",
    "    u[0] = a\n",
    "    u[N] = b\n",
    "    delta = np.empty(N + 1)\n",
    "    beta = np.empty(N + 1)\n",
    "    \n",
    "    for i in range (0, N + 1):\n",
    "        delta[i] = f(start + i * h)\n",
    "        beta[i] = - 2  / (h ** 2) - p ** 2\n",
    "        \n",
    "    delta[0] += - u[0] / (h ** 2)\n",
    "    delta[N] += - u[N] / ( h** 2)\n",
    "    c = 1 / (h ** 2)\n",
    "    a = 1 / (h ** 2)\n",
    "    \n",
    "    for i in range(1, N):\n",
    "        m = a / beta[i - 1]\n",
    "        beta[i] = beta[i] - m * c\n",
    "        delta[i] = delta[i] - m * delta[i - 1]\n",
    "    for i in range (N - 1, -1, -1):\n",
    "        u[i] = (delta[i] - c * u[i + 1]) / beta[i]\n",
    "    \n",
    "    return u\n",
    "    "
   ]
  },
  {
   "cell_type": "code",
   "execution_count": 641,
   "id": "182c9836",
   "metadata": {},
   "outputs": [],
   "source": [
    "# def SweepMethod(SegmentBegin, SegmentEnd, a, b, p , N):\n",
    "#     u = np.empty(N + 1)\n",
    "#     step = (SegmentEnd - SegmentBegin) / N\n",
    "    \n",
    "#     ksi = np.empty(N)\n",
    "#     eta = np.empty(N)\n",
    "    \n",
    "#     ksi[0], eta[0] = 0, a\n",
    "#     for i in range(1, N):\n",
    "#         ksi[i] = 1 / (2 + (p ** 2) * (step ** 2) - ksi[i - 1])\n",
    "#         eta[i] = (eta[i - 1] - (step ** 2) * f(SegmentBegin + i * step)) / (2 + (p ** 2) * (step ** 2) - ksi[i - 1])\n",
    "#     u[N] = ( 1 / step - 1) / (step * ksi[N - 1])\n",
    "#     #u[N] = ( 1 /step * eta[N - 1] + b) / (1 / step - 1 / step * ksi[N - 1])\n",
    "#     #u[N] = ( 1 /step + b) / (1 / step - 1 / step * ksi[N - 1])\n",
    "#     for i in range(N - 1, -1, -1):\n",
    "#         u[i] = ksi[i] * u[i + 1] + eta[i]\n",
    "#     print('a = ', ksi)\n",
    "#     print('b = ', eta)\n",
    "#     print('u = ', u)\n",
    "#     return u"
   ]
  },
  {
   "cell_type": "code",
   "execution_count": 642,
   "id": "82453a33",
   "metadata": {},
   "outputs": [],
   "source": [
    "def visual(start, end, a, b, p):\n",
    "    plt.xlabel('x')\n",
    "    plt.xlabel('y')\n",
    "    \n",
    "    x = np.linspace(start, end, 256)\n",
    "    y = solution(x)\n",
    "    plt.grid()\n",
    "    plt.plot(x, y, 'r')\n",
    "\n",
    "    N = 5\n",
    "    count = 10\n",
    "    error = np.empty(count)\n",
    "\n",
    "    for i in range(count):\n",
    "        x_h = np.linspace(start, end, N + 1)\n",
    "        err = np.empty(N + 1)\n",
    "        u = TDMA_version(start, end, a, b, p, N)\n",
    "        \n",
    "        err = np.fabs(solution(x_h) - u)\n",
    "        error[i] = np.max(err)\n",
    "\n",
    "        plt.plot(x_h, u , 'b')\n",
    "        N *= 2\n",
    "\n",
    "    for i in range(count - 1):\n",
    "        print('p =', np.log2(error[i] / error[i + 1]))\n",
    "    plt.show()\n",
    "    return error"
   ]
  },
  {
   "cell_type": "code",
   "execution_count": 643,
   "id": "d06fccfa",
   "metadata": {
    "scrolled": true
   },
   "outputs": [
    {
     "name": "stdout",
     "output_type": "stream",
     "text": [
      "p = 0.638495029165716\n",
      "p = 0.8059029926553918\n",
      "p = 0.9000489437628112\n",
      "p = 0.9493515788421011\n",
      "p = 0.9745139404063027\n",
      "p = 0.9872172873629288\n",
      "p = 0.9935988192032253\n",
      "p = 0.996796965432013\n",
      "p = 0.9983978731580084\n"
     ]
    },
    {
     "data": {
      "image/png": "[encoded data removed]",
      "text/plain": [
       "<Figure size 432x288 with 1 Axes>"
      ]
     },
     "metadata": {
      "needs_background": "light"
     },
     "output_type": "display_data"
    }
   ],
   "source": [
    "error_1 = visual(start, end, a, b, p)"
   ]
  },
  {
   "cell_type": "code",
   "execution_count": null,
   "id": "aed37cff",
   "metadata": {},
   "outputs": [],
   "source": [
    "def visual(u, start, end, T, N):\n",
    "    plt.xlabel('X')\n",
    "    plt.ylabel('Y')\n",
    "    x = np.linspace(start, end, N + 1)\n",
    "    \n",
    "    Table = main(start, end, 0.01, N)\n",
    "    U = (Table[0])[0:N + 1, Table[1]]\n",
    "    plt.plot(x, U, 'g')\n",
    "    \n",
    "     Table = main(start, end, 0.1, N)\n",
    "    U = (Table[0])[0:N + 1, Table[1]]\n",
    "    plt.plot(x, U, 'b')\n",
    "    \n",
    "     Table = main(start, end, 0.2, N)\n",
    "    U = (Table[0])[0:N + 1, Table[1]]\n",
    "    plt.plot(x, U, 'r')\n",
    "    \n",
    "    plt.show()"
   ]
  },
  {
   "cell_type": "code",
   "execution_count": null,
   "id": "28dabfa4",
   "metadata": {},
   "outputs": [],
   "source": []
  }
 ],
 "metadata": {
  "kernelspec": {
   "display_name": "Python 3 (ipykernel)",
   "language": "python",
   "name": "python3"
  },
  "language_info": {
   "codemirror_mode": {
    "name": "ipython",
    "version": 3
   },
   "file_extension": ".py",
   "mimetype": "text/x-python",
   "name": "python",
   "nbconvert_exporter": "python",
   "pygments_lexer": "ipython3",
   "version": "3.10.1"
  }
 },
 "nbformat": 4,
 "nbformat_minor": 5
}

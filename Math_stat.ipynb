{
 "cells": [
  {
   "cell_type": "code",
   "execution_count": 75,
   "id": "645950e2",
   "metadata": {},
   "outputs": [],
   "source": [
    "import numpy as np\n",
    "import math\n",
    "import scipy.stats as st\n",
    "import matplotlib.pyplot as plt\n",
    "import scipy.special as sc"
   ]
  },
  {
   "cell_type": "code",
   "execution_count": null,
   "id": "cfce22f1",
   "metadata": {},
   "outputs": [],
   "source": [
    "N = 50\n",
    "D = [-9.444592629563482,-10.103964599161293,-8.746979162444635,-10.944961467055592,-9.447188347628195,-9.060344688696855,-9.426115414313616,-9.02555566184701,-9.540732927053396,-11.392027091569773,-8.999455424709417,-11.820785273051301,-9.430324370148053,-9.92614734856855,-10.725679789912675,-7.697873092371246,-9.450613458646874,-11.058414746803724,-8.638717458509106,-9.371729714225125,-10.84462268890643,-10.608025111882215,-8.727914899558042,-9.514896558274827,-10.129694491565473,-9.348428556903906,-8.635812598376933,-9.958800611275548,-8.355993498975597,-10.95508350798931,-9.651978307652078,-9.484709943109472,-9.021378525957436,-9.625505024615329,-11.308348995476212,-8.409235384839777,-10.056906481340834,-10.209740159800557,-9.516607873533568,-10.22398148970632,-9.6084239630195,-9.712277315869278,-9.489347842731672,-11.973922171083858,-9.954189848858904,-11.539698898508025,-9.481137040410866,-11.021115533806897,-10.856734303667986,-9.798001359325163]\n",
    "D_h = sorted(D)\n",
    "s = 1\n",
    "a = -10\n",
    "\n",
    "eps_1 = 0.1\n",
    "eps_2 = 0.05\n",
    "eps_3 = 0.01"
   ]
  },
  {
   "cell_type": "code",
   "execution_count": 180,
   "id": "a79d0c7c",
   "metadata": {},
   "outputs": [
    {
     "name": "stdout",
     "output_type": "stream",
     "text": [
      "1.245130568924489\n",
      "0.0900271197673595\n",
      "KstestResult(statistic=0.176088053749834, pvalue=0.0900271197673595)\n"
     ]
    },
    {
     "data": {
      "text/plain": [
       "[<matplotlib.lines.Line2D at 0x1cdbd491450>]"
      ]
     },
     "execution_count": 180,
     "metadata": {},
     "output_type": "execute_result"
    },
    {
     "data": {
      "image/png": "[encoded data removed]",
      "text/plain": [
       "<Figure size 432x288 with 1 Axes>"
      ]
     },
     "metadata": {
      "needs_background": "light"
     },
     "output_type": "display_data"
    }
   ],
   "source": [
    "l = 1/N\n",
    "norm = np.zeros(N)\n",
    "\n",
    "#значение функции нормального распределения в точках выборки\n",
    "for i in range(0,N):\n",
    "    norm[i] = st.norm.cdf(D_h[i], loc = -10, scale = 1)\n",
    "\n",
    "#критерий Колмогорова\n",
    "def Crit_K(norm):\n",
    "    d = 0\n",
    "    for i in range(0, N-1):\n",
    "        d_0 = 0\n",
    "        d_under = abs(norm[i] - l*i)\n",
    "        d_above = abs(norm[i] - l*(i+1))\n",
    "        \n",
    "        if d_under > d_above: d_0 = d_under\n",
    "        else: d_0 = d_above\n",
    "        if d_0 > d: d = d_0\n",
    "    \n",
    "    d = np.sqrt(N) * d\n",
    "    return d\n",
    "\n",
    "ro = Crit_K(norm)\n",
    "print(ro)\n",
    "\n",
    "#по идее p-value\n",
    "print(sc.kolmogorov(ro))\n",
    "     \n",
    "#проверка на встроенном тесте\n",
    "print(st.kstest(D, \"norm\", args = (-10, 1), mode = 'asymp'))\n",
    "\n",
    "\n",
    "Hist = plt.hist(D,bins = 5,density=True,color = 'red')\n",
    "plt.plot(np.linspace(-12, -7.5, 100), st.norm.pdf(np.linspace(-12, -7, 100), loc = -10, scale = 1), 'b', lw=5, alpha=0.6)\n"
   ]
  },
  {
   "cell_type": "code",
   "execution_count": 164,
   "id": "554da421",
   "metadata": {},
   "outputs": [
    {
     "data": {
      "image/png": "[encoded data removed]",
      "text/plain": [
       "<Figure size 432x288 with 1 Axes>"
      ]
     },
     "metadata": {
      "needs_background": "light"
     },
     "output_type": "display_data"
    }
   ],
   "source": [
    "def plot_empirical_cdf(sample):\n",
    "    hist, edges = np.histogram(sample, bins=len(sample))\n",
    "    Y = hist.cumsum()\n",
    "    for i in range(len(Y)):\n",
    "        plt.plot([edges[i], edges[i+1]],[Y[i], Y[i]], c=\"blue\")\n",
    "    plt.show()\n",
    "plot_empirical_cdf(D)"
   ]
  },
  {
   "cell_type": "code",
   "execution_count": 219,
   "id": "4d49abb5",
   "metadata": {},
   "outputs": [
    {
     "name": "stdout",
     "output_type": "stream",
     "text": [
      "[ 2.  3.  7.  1.  8. 16.  6.  4.  2.  1.]\n",
      "-7.697873092371246\n"
     ]
    }
   ],
   "source": [
    "#считаем наблюдаемые чистоты\n",
    "\n",
    "#делим интервал выборки на 10 равных частей\n",
    "l = (abs(D_h[0]) - abs(D_h[N - 1]))/10\n",
    "d_min = D_h[0]\n",
    "count = 0\n",
    "help = np.zeros(10)\n",
    "num = np.zeros(10)\n",
    "n = np.zeros(10)\n",
    "\n",
    "#считаем сколько точек попадает в интервалы \n",
    "for i in range(1,11):\n",
    "    for j in range(0,N):\n",
    "        if (d_min + l*(i - 1) <= D[j]) and (D[j]<= d_min + l*i):\n",
    "            count = count + 1\n",
    "    help[i - 1] =  + count/N\n",
    "    num [i - 1] = count\n",
    "    count = 0\n",
    "for i in range (1,10):\n",
    "    help[i] = help[i - 1] + help[i]\n",
    "    \n",
    "print(num)\n",
    "print (D_h[49])"
   ]
  },
  {
   "cell_type": "code",
   "execution_count": 268,
   "id": "109ea208",
   "metadata": {},
   "outputs": [
    {
     "name": "stdout",
     "output_type": "stream",
     "text": [
      "[-10.84162123   0.15837877]\n",
      "[-10.2533471   0.7466529]\n",
      "[-9.7466529  1.2533471]\n",
      "[-9.15837877  1.84162123]\n"
     ]
    }
   ],
   "source": [
    "print(st.norm.ppf(0.2, (-10, 1 )))\n",
    "print(st.norm.ppf(0.4, (-10, 1 )))\n",
    "print(st.norm.ppf(0.6, (-10, 1 )))\n",
    "print(st.norm.ppf(0.8, (-10, 1 )))\n"
   ]
  },
  {
   "cell_type": "code",
   "execution_count": 261,
   "id": "d7eaf285",
   "metadata": {},
   "outputs": [
    {
     "name": "stdout",
     "output_type": "stream",
     "text": [
      "0.0205873727413155\n",
      "Power_divergenceResult(statistic=11.599999946154341, pvalue=0.02058737274131552)\n",
      "[10.00000005 10.00000001  9.99999988 10.00000001 10.00000005]\n"
     ]
    }
   ],
   "source": [
    "#Критерий хи 2\n",
    "part = [-np.inf,-10.84162123, -10.2533471, -9.7466529, -9.15837877, np.inf]\n",
    "p = np.zeros(len(part) - 1)\n",
    "hits = np.zeros(len(part) - 1)\n",
    "\n",
    "for i in range(0,len(part) - 1):\n",
    "    p[i] = (st.norm(loc = -10, scale = 1).cdf(part[i+1]) - st.norm(loc = -10, scale = 1).cdf(part[i]))\n",
    "    for k in range(0, N):\n",
    "            if (D[k] >= part[i] and D[k] < part[i + 1]):\n",
    "                hits[i] = hits[i] + 1\n",
    "d = 0\n",
    "for i in range(0 , len(part) - 1):\n",
    "    d = d + (hits[i] - N * p[i]) ** 2 / (N * p[i])\n",
    "\n",
    "#принятие критерия (квантиль)\n",
    "print(st.chi2.ppf(1 - eps_1, len(part) - 2))\n",
    "\n",
    "#p-value\n",
    "print(1 - st.chi2.cdf(d, len(part) - 2))\n",
    "\n",
    "#проверяем на встроенном тесте\n",
    "print(st.chisquare(hits, N*p))\n",
    "print(N*p)"
   ]
  },
  {
   "cell_type": "code",
   "execution_count": 269,
   "id": "b326ce24",
   "metadata": {},
   "outputs": [
    {
     "name": "stdout",
     "output_type": "stream",
     "text": [
      "1.3032731324382107\n",
      "0.6711716913843315\n",
      "\n",
      "1.2689390016301194\n",
      "0.6534899820993669\n",
      "\n",
      "-10.078111743801376\n",
      "-9.612876882330706\n",
      "\n",
      "-10.058950766889094\n",
      "-9.632037859242988\n",
      "\n"
     ]
    }
   ],
   "source": [
    "s = 1\n",
    "a = -10\n",
    "\n",
    "eps_1 = 0.1\n",
    "eps_2 = 0.05\n",
    "eps_3 = 0.01\n",
    "x_mean = 0\n",
    "\n",
    "#среднее\n",
    "for i in range (0,N):\n",
    "    x_mean = x_mean + D[i]\n",
    "x_mean = x_mean/N\n",
    "\n",
    "#выборочная дисперсия\n",
    "S = 0\n",
    "S1 = 0\n",
    "for i in range (0,N):\n",
    "    S = S + (D[i] - a)**2\n",
    "    S1 = S1 + (D[i] - x_mean)**2\n",
    "S = S/N\n",
    "S1 = S1/N\n",
    "\n",
    "def C_intervals(eps):\n",
    "# ищем сигма, а известно\n",
    "    sigma_p = N*S/st.chi2(N).ppf(eps/2)\n",
    "    sigma_m = N*S/st.chi2(N).ppf(1 - eps/2)\n",
    "    print(sigma_p)\n",
    "    print(sigma_m)\n",
    "    print()\n",
    "    \n",
    "# ищем сигма, а неизвестно\n",
    "    sigma_p_u = N*S1/st.chi2(N).ppf(eps/2)\n",
    "    sigma_m_u = N*S1/st.chi2(N).ppf(1 - eps/2)\n",
    "    print(sigma_p_u)\n",
    "    print(sigma_m_u)\n",
    "    print()\n",
    "\n",
    "# ищем a,сигма известно\n",
    "    a_m = x_mean - s*st.norm(loc= 0, scale= 1).ppf(1 - eps/2)/math.sqrt(N)\n",
    "    a_p = x_mean + s*st.norm(loc= 0, scale= 1).ppf(1 - eps/2)/math.sqrt(N)\n",
    "    print(a_m)\n",
    "    print(a_p)\n",
    "    print()\n",
    "\n",
    "# ищем а, сигма неизвестно\n",
    "    a_p_u = x_mean - N*S1*st.t(N - 1).ppf(eps/2)/(math.sqrt(N)*(N - 1))\n",
    "    a_m_u = x_mean + N*S1*st.t(N - 1).ppf(eps/2)/(math.sqrt(N)*(N - 1))\n",
    "    print(a_m_u)\n",
    "    print(a_p_u)\n",
    "    print()\n",
    "\n",
    "m = C_intervals(eps_1)"
   ]
  },
  {
   "cell_type": "code",
   "execution_count": 214,
   "id": "1fcda7c6",
   "metadata": {},
   "outputs": [
    {
     "name": "stdout",
     "output_type": "stream",
     "text": [
      "0.4193798683865846\n",
      "(1.0761172269663437, 0.4814141058955075, 1.9581455228412208)\n",
      "\n",
      "0.13379266601438775\n",
      "1.6772241953450393\n",
      "\n",
      "0.4470629578578631\n"
     ]
    }
   ],
   "source": [
    "#случай с двумя выборками\n",
    "# Критерий Фишера и Стьюдента\n",
    "N_1 = 20\n",
    "N_2 = 30\n",
    "H_1 = np.zeros(20)\n",
    "H_2 = np.zeros(30)\n",
    "\n",
    "for i in range(0,20):\n",
    "    H_1[i] = D[i]\n",
    "for i in range(20,50):\n",
    "    H_2[i - 20] = D[i]\n",
    "    \n",
    "def mean(H,N):\n",
    "    x_mean = 0\n",
    "    for i in range (0,N):\n",
    "        x_mean = x_mean + H[i]\n",
    "        x_mean = x_mean/N\n",
    "    return x_mean\n",
    "\n",
    "def S_2(H,N,x_m):\n",
    "    S = 0\n",
    "    for i in range (0,N):\n",
    "        S = S + (D[i] - x_m)**2\n",
    "        S = S/N\n",
    "    return S\n",
    "\n",
    "x_1 = mean(H_1,N_1)\n",
    "x_2 = mean(H_2,N_2)\n",
    "S_H_1 = S_2(H_1,N_1,x_1)\n",
    "S_H_2 = S_2(H_2,N_2,x_2)\n",
    "\n",
    "#print(S_H_1)\n",
    "#print(S_H_2)\n",
    "\n",
    "#Критерий Фишера \n",
    "def F_crit(S_H_1,S_H_2,N_1,N_2,eps):\n",
    "    d = S_H_1 / S_H_2\n",
    "    f1 = st.f.ppf(eps/2, N_1 - 1, N_2 - 1)\n",
    "    f2 = st.f.ppf(1 - eps/2, N_1 - 1, N_2 - 1)\n",
    "    return d,f1,f2\n",
    "\n",
    "t1,t2,t3 = F_crit(S_H_1,S_H_2,N_1,N_2,eps_1)\n",
    "\n",
    "#p - value\n",
    "print( 1 - st.f(N_1 - 1,N_2 - 1).cdf(t1))\n",
    "\n",
    "print (F_crit(S_H_1,S_H_2,N_1,N_2,eps_1))\n",
    "\n",
    "print()\n",
    "#Критерий Стьюдента \n",
    "t = (x_2 - x_1)/(math.sqrt((N_1 - 1)*S_H_1**2 + (N_2 - 1)*S_H_2**2))*math.sqrt(N_1*N_2*(N_1 + N_2 - 2)/(N_1 + N_2))\n",
    "print(t)\n",
    "\n",
    "c = st.t(N_1 + N_2 - 2).ppf(1 - eps_1/2)\n",
    "print(c)\n",
    "print()\n",
    "\n",
    "#p - value\n",
    "print(1 - st.t(N_1 + N_2 - 2).cdf(abs(t)))"
   ]
  },
  {
   "cell_type": "code",
   "execution_count": 191,
   "id": "614321fa",
   "metadata": {},
   "outputs": [],
   "source": [
    "#st.ttest_ind(H_1,H_2)\n",
    "#st.t.isf(eps_1, df=48)\n",
    "\n",
    "#принятие критерия Колмогорова\n",
    "#print(sc.kolmogi(1 - eps_1))\n"
   ]
  },
  {
   "cell_type": "code",
   "execution_count": null,
   "id": "bab50d72",
   "metadata": {},
   "outputs": [],
   "source": []
  }
 ],
 "metadata": {
  "kernelspec": {
   "display_name": "Python 3 (ipykernel)",
   "language": "python",
   "name": "python3"
  },
  "language_info": {
   "codemirror_mode": {
    "name": "ipython",
    "version": 3
   },
   "file_extension": ".py",
   "mimetype": "text/x-python",
   "name": "python",
   "nbconvert_exporter": "python",
   "pygments_lexer": "ipython3",
   "version": "3.10.1"
  }
 },
 "nbformat": 4,
 "nbformat_minor": 5
}

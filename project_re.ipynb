{
 "cells": [
  {
   "cell_type": "markdown",
   "metadata": {},
   "source": [
    "# Исследование объявлений о продаже квартир\n",
    "\n",
    "В вашем распоряжении данные сервиса Яндекс.Недвижимость — архив объявлений о продаже квартир в Санкт-Петербурге и соседних населённых пунктов за несколько лет. Нужно научиться определять рыночную стоимость объектов недвижимости. Ваша задача — установить параметры. Это позволит построить автоматизированную систему: она отследит аномалии и мошенническую деятельность. \n",
    "\n",
    "По каждой квартире на продажу доступны два вида данных. Первые вписаны пользователем, вторые — получены автоматически на основе картографических данных. Например, расстояние до центра, аэропорта, ближайшего парка и водоёма. "
   ]
  },
  {
   "cell_type": "code",
   "execution_count": 1,
   "metadata": {},
   "outputs": [
    {
     "name": "stdout",
     "output_type": "stream",
     "text": [
      "<class 'pandas.core.frame.DataFrame'>\n",
      "RangeIndex: 23699 entries, 0 to 23698\n",
      "Data columns (total 22 columns):\n",
      " #   Column                Non-Null Count  Dtype  \n",
      "---  ------                --------------  -----  \n",
      " 0   total_images          23699 non-null  int64  \n",
      " 1   last_price            23699 non-null  float64\n",
      " 2   total_area            23699 non-null  float64\n",
      " 3   first_day_exposition  23699 non-null  object \n",
      " 4   rooms                 23699 non-null  int64  \n",
      " 5   ceiling_height        14504 non-null  float64\n",
      " 6   floors_total          23613 non-null  float64\n",
      " 7   living_area           21796 non-null  float64\n",
      " 8   floor                 23699 non-null  int64  \n",
      " 9   is_apartment          2775 non-null   object \n",
      " 10  studio                23699 non-null  bool   \n",
      " 11  open_plan             23699 non-null  bool   \n",
      " 12  kitchen_area          21421 non-null  float64\n",
      " 13  balcony               12180 non-null  float64\n",
      " 14  locality_name         23650 non-null  object \n",
      " 15  airports_nearest      18157 non-null  float64\n",
      " 16  cityCenters_nearest   18180 non-null  float64\n",
      " 17  parks_around3000      18181 non-null  float64\n",
      " 18  parks_nearest         8079 non-null   float64\n",
      " 19  ponds_around3000      18181 non-null  float64\n",
      " 20  ponds_nearest         9110 non-null   float64\n",
      " 21  days_exposition       20518 non-null  float64\n",
      "dtypes: bool(2), float64(14), int64(3), object(3)\n",
      "memory usage: 3.7+ MB\n"
     ]
    }
   ],
   "source": [
    "import pandas as pd\n",
    "import matplotlib.pyplot as plt\n",
    "data = pd.read_csv('/datasets/real_estate_data.csv', sep = '\\t')\n",
    "data.info()"
   ]
  },
  {
   "cell_type": "code",
   "execution_count": 2,
   "metadata": {},
   "outputs": [
    {
     "name": "stdout",
     "output_type": "stream",
     "text": [
      "   total_images  last_price  total_area first_day_exposition  rooms  \\\n",
      "0            20  13000000.0       108.0  2019-03-07T00:00:00      3   \n",
      "1             7   3350000.0        40.4  2018-12-04T00:00:00      1   \n",
      "2            10   5196000.0        56.0  2015-08-20T00:00:00      2   \n",
      "3             0  64900000.0       159.0  2015-07-24T00:00:00      3   \n",
      "4             2  10000000.0       100.0  2018-06-19T00:00:00      2   \n",
      "\n",
      "   ceiling_height  floors_total  living_area  floor is_apartment  ...  \\\n",
      "0            2.70          16.0         51.0      8          NaN  ...   \n",
      "1             NaN          11.0         18.6      1          NaN  ...   \n",
      "2             NaN           5.0         34.3      4          NaN  ...   \n",
      "3             NaN          14.0          NaN      9          NaN  ...   \n",
      "4            3.03          14.0         32.0     13          NaN  ...   \n",
      "\n",
      "   kitchen_area  balcony    locality_name  airports_nearest  \\\n",
      "0          25.0      NaN  Санкт-Петербург           18863.0   \n",
      "1          11.0      2.0   посёлок Шушары           12817.0   \n",
      "2           8.3      0.0  Санкт-Петербург           21741.0   \n",
      "3           NaN      0.0  Санкт-Петербург           28098.0   \n",
      "4          41.0      NaN  Санкт-Петербург           31856.0   \n",
      "\n",
      "  cityCenters_nearest  parks_around3000  parks_nearest  ponds_around3000  \\\n",
      "0             16028.0               1.0          482.0               2.0   \n",
      "1             18603.0               0.0            NaN               0.0   \n",
      "2             13933.0               1.0           90.0               2.0   \n",
      "3              6800.0               2.0           84.0               3.0   \n",
      "4              8098.0               2.0          112.0               1.0   \n",
      "\n",
      "   ponds_nearest  days_exposition  \n",
      "0          755.0              NaN  \n",
      "1            NaN             81.0  \n",
      "2          574.0            558.0  \n",
      "3          234.0            424.0  \n",
      "4           48.0            121.0  \n",
      "\n",
      "[5 rows x 22 columns]\n"
     ]
    }
   ],
   "source": [
    "print(data.head(5))"
   ]
  },
  {
   "cell_type": "code",
   "execution_count": 3,
   "metadata": {},
   "outputs": [
    {
     "data": {
      "text/plain": [
       "array([[<AxesSubplot:title={'center':'total_images'}>,\n",
       "        <AxesSubplot:title={'center':'last_price'}>,\n",
       "        <AxesSubplot:title={'center':'total_area'}>,\n",
       "        <AxesSubplot:title={'center':'rooms'}>],\n",
       "       [<AxesSubplot:title={'center':'ceiling_height'}>,\n",
       "        <AxesSubplot:title={'center':'floors_total'}>,\n",
       "        <AxesSubplot:title={'center':'living_area'}>,\n",
       "        <AxesSubplot:title={'center':'floor'}>],\n",
       "       [<AxesSubplot:title={'center':'kitchen_area'}>,\n",
       "        <AxesSubplot:title={'center':'balcony'}>,\n",
       "        <AxesSubplot:title={'center':'airports_nearest'}>,\n",
       "        <AxesSubplot:title={'center':'cityCenters_nearest'}>],\n",
       "       [<AxesSubplot:title={'center':'parks_around3000'}>,\n",
       "        <AxesSubplot:title={'center':'parks_nearest'}>,\n",
       "        <AxesSubplot:title={'center':'ponds_around3000'}>,\n",
       "        <AxesSubplot:title={'center':'ponds_nearest'}>],\n",
       "       [<AxesSubplot:title={'center':'days_exposition'}>, <AxesSubplot:>,\n",
       "        <AxesSubplot:>, <AxesSubplot:>]], dtype=object)"
      ]
     },
     "execution_count": 3,
     "metadata": {},
     "output_type": "execute_result"
    },
    {
     "data": {
      "image/png": "[encoded data removed]",
      "text/plain": [
       "<Figure size 1080x1440 with 20 Axes>"
      ]
     },
     "metadata": {
      "needs_background": "light"
     },
     "output_type": "display_data"
    }
   ],
   "source": [
    "data.hist(figsize=(15, 20))"
   ]
  },
  {
   "cell_type": "markdown",
   "metadata": {},
   "source": [
    "### Предобработка данных"
   ]
  },
  {
   "cell_type": "code",
   "execution_count": 4,
   "metadata": {},
   "outputs": [
    {
     "data": {
      "text/plain": [
       "total_images                0\n",
       "last_price                  0\n",
       "total_area                  0\n",
       "first_day_exposition        0\n",
       "rooms                       0\n",
       "ceiling_height           9195\n",
       "floors_total               86\n",
       "living_area              1903\n",
       "floor                       0\n",
       "is_apartment            20924\n",
       "studio                      0\n",
       "open_plan                   0\n",
       "kitchen_area             2278\n",
       "balcony                 11519\n",
       "locality_name              49\n",
       "airports_nearest         5542\n",
       "cityCenters_nearest      5519\n",
       "parks_around3000         5518\n",
       "parks_nearest           15620\n",
       "ponds_around3000         5518\n",
       "ponds_nearest           14589\n",
       "days_exposition          3181\n",
       "dtype: int64"
      ]
     },
     "execution_count": 4,
     "metadata": {},
     "output_type": "execute_result"
    }
   ],
   "source": [
    "data.isnull().sum()"
   ]
  },
  {
   "cell_type": "code",
   "execution_count": 5,
   "metadata": {},
   "outputs": [],
   "source": [
    "data['ceiling_height'] =  data['ceiling_height'].fillna(data['ceiling_height'].median()) \n",
    "data['balcony'] = data['balcony'].fillna(0)\n",
    "data['parks_around3000'] = data['parks_around3000'].fillna(0)\n",
    "data['ponds_around3000'] = data['ponds_around3000'].fillna(0)"
   ]
  },
  {
   "cell_type": "code",
   "execution_count": 6,
   "metadata": {},
   "outputs": [],
   "source": [
    "median_la = data['living_area'].median()\n",
    "median_ta = data['total_area'].median()\n",
    "ratio = median_la/median_ta\n",
    "data['living_area'] = data['living_area'].fillna(ratio*data['total_area'])\n",
    "\n",
    "median_ka = data['kitchen_area'].median()\n",
    "ratio = median_ka/median_ta\n",
    "data['kitchen_area'] = data['kitchen_area'].fillna(ratio*data['total_area'])"
   ]
  },
  {
   "cell_type": "markdown",
   "metadata": {},
   "source": [
    "**Возможные причины**\n",
    "Если продавец не указал число балконов, то, скорее всего, в его квартире их нет; по этой же логике я заменила пропущенные значения в столбцах parks_around3000 и ponds_around3000 на 0. Так же я заменила пропущенные значения в столбце ceiling_height на медианное значение, так как в большинстве случаев высота потолков стандартная и составляет 2.5 - 2.7 м.\n",
    "\n",
    "Так же я сомневалась насчет столбца is_apartment, так как апартаменты отличаются от квартиры лишь тем, что эта площадь не зарегистрирована как жилая, то есть там нельзя будет прописаться и тд. Решила оставить, как есть, так как нельзя точно сказать, что большинство пропусков в этом столбце - это однозначно ДА или однозначно НЕТ.\n",
    "\n",
    "Пропуски в других столбцах я решила не заменять, так как нельзя заменить на логичное подходящее значение. Пропуски могли появляться из-за невнимательности заполнения анкеты, из-за незнания территории (сколько метров до парка или есть ли они вообще) или из-за отсутствия подходящего ответа(например, объявление опубликовали, но квартиру еще не сняли, поэтому не совсем понятно, что писать в графе days_exposition)"
   ]
  },
  {
   "cell_type": "code",
   "execution_count": 7,
   "metadata": {},
   "outputs": [],
   "source": [
    "data['is_apartment'] = data['is_apartment'].astype('bool')\n",
    "data['balcony'] = data['balcony'].astype('int')\n",
    "#data['days_exposition'] = data['days_exposition'].astype('int')\n",
    "data['first_day_exposition'] = pd.to_datetime(data['first_day_exposition'],format='%Y-%m-%dT%H:%M:%S')"
   ]
  },
  {
   "cell_type": "markdown",
   "metadata": {},
   "source": [
    "Столбец is_apartment должен иметь тип bool, так как значения столбца должны давать ответ на вопрос \"Является ли объект апартаментами?\", то есть подразумевается ответ Да\\Нет.Столбец balcony должен иметь тип int, так как количество балконов - это целое число. Столбец  first_day_exposition я перевела в дату, чтобы была возможность использовать отдельные части даты и времени."
   ]
  },
  {
   "cell_type": "code",
   "execution_count": 8,
   "metadata": {},
   "outputs": [
    {
     "data": {
      "text/plain": [
       "array(['Санкт-Петербург', 'посёлок Шушары', 'городской посёлок Янино-1',\n",
       "       'посёлок Парголово', 'посёлок Мурино', 'Ломоносов', 'Сертолово',\n",
       "       'Петергоф', 'Пушкин', 'деревня Кудрово', 'Коммунар', 'Колпино',\n",
       "       'поселок городского типа Красный Бор', 'Гатчина', 'поселок Мурино',\n",
       "       'деревня Фёдоровское', 'Выборг', 'Кронштадт', 'Кировск',\n",
       "       'деревня Новое Девяткино', 'посёлок Металлострой',\n",
       "       'посёлок городского типа Лебяжье',\n",
       "       'посёлок городского типа Сиверский', 'поселок Молодцово',\n",
       "       'поселок городского типа Кузьмоловский',\n",
       "       'садовое товарищество Новая Ропша', 'Павловск',\n",
       "       'деревня Пикколово', 'Всеволожск', 'Волхов', 'Кингисепп',\n",
       "       'Приозерск', 'Сестрорецк', 'деревня Куттузи', 'посёлок Аннино',\n",
       "       'поселок городского типа Ефимовский', 'посёлок Плодовое',\n",
       "       'деревня Заклинье', 'поселок Торковичи', 'поселок Первомайское',\n",
       "       'Красное Село', 'посёлок Понтонный', 'Сясьстрой', 'деревня Старая',\n",
       "       'деревня Лесколово', 'посёлок Новый Свет', 'Сланцы',\n",
       "       'село Путилово', 'Ивангород', 'Мурино', 'Шлиссельбург',\n",
       "       'Никольское', 'Зеленогорск', 'Сосновый Бор', 'поселок Новый Свет',\n",
       "       'деревня Оржицы', 'деревня Кальтино', 'Кудрово',\n",
       "       'поселок Романовка', 'посёлок Бугры', 'поселок Бугры',\n",
       "       'поселок городского типа Рощино', 'Кириши', 'Луга', 'Волосово',\n",
       "       'Отрадное', 'село Павлово', 'поселок Оредеж', 'село Копорье',\n",
       "       'посёлок городского типа Красный Бор', 'посёлок Молодёжное',\n",
       "       'Тихвин', 'посёлок Победа', 'деревня Нурма',\n",
       "       'поселок городского типа Синявино', 'Тосно',\n",
       "       'посёлок городского типа Кузьмоловский', 'посёлок Стрельна',\n",
       "       'Бокситогорск', 'посёлок Александровская', 'деревня Лопухинка',\n",
       "       'Пикалёво', 'поселок Терволово',\n",
       "       'поселок городского типа Советский', 'Подпорожье',\n",
       "       'посёлок Петровское', 'посёлок городского типа Токсово',\n",
       "       'поселок Сельцо', 'посёлок городского типа Вырица',\n",
       "       'деревня Кипень', 'деревня Келози', 'деревня Вартемяги',\n",
       "       'посёлок Тельмана', 'поселок Севастьяново',\n",
       "       'городской поселок Большая Ижора', nan,\n",
       "       'городской посёлок Павлово', 'деревня Агалатово',\n",
       "       'посёлок Новогорелово', 'городской посёлок Лесогорский',\n",
       "       'деревня Лаголово', 'поселок Цвелодубово',\n",
       "       'поселок городского типа Рахья', 'поселок городского типа Вырица',\n",
       "       'деревня Белогорка', 'поселок Заводской',\n",
       "       'городской посёлок Новоселье', 'деревня Большие Колпаны',\n",
       "       'деревня Горбунки', 'деревня Батово', 'деревня Заневка',\n",
       "       'деревня Иссад', 'Приморск', 'городской посёлок Фёдоровское',\n",
       "       'деревня Мистолово', 'Новая Ладога', 'поселок Зимитицы',\n",
       "       'поселок Барышево', 'деревня Разметелево',\n",
       "       'поселок городского типа имени Свердлова', 'деревня Пеники',\n",
       "       'поселок Рябово', 'деревня Пудомяги', 'поселок станции Корнево',\n",
       "       'деревня Низино', 'деревня Бегуницы', 'посёлок Поляны',\n",
       "       'городской посёлок Мга', 'поселок Елизаветино',\n",
       "       'посёлок городского типа Кузнечное', 'деревня Колтуши',\n",
       "       'поселок Запорожское', 'посёлок городского типа Рощино',\n",
       "       'деревня Гостилицы', 'деревня Малое Карлино',\n",
       "       'посёлок Мичуринское', 'посёлок городского типа имени Морозова',\n",
       "       'посёлок Песочный', 'посёлок Сосново', 'деревня Аро',\n",
       "       'поселок Ильичёво', 'посёлок городского типа Тайцы',\n",
       "       'деревня Малое Верево', 'деревня Извара', 'поселок станции Вещево',\n",
       "       'село Паша', 'деревня Калитино',\n",
       "       'посёлок городского типа Ульяновка', 'деревня Чудской Бор',\n",
       "       'поселок городского типа Дубровка', 'деревня Мины',\n",
       "       'поселок Войсковицы', 'посёлок городского типа имени Свердлова',\n",
       "       'деревня Коркино', 'посёлок Ропша',\n",
       "       'поселок городского типа Приладожский', 'посёлок Щеглово',\n",
       "       'посёлок Гаврилово', 'Лодейное Поле', 'деревня Рабитицы',\n",
       "       'поселок городского типа Никольский', 'деревня Кузьмолово',\n",
       "       'деревня Малые Колпаны', 'поселок Тельмана',\n",
       "       'посёлок Петро-Славянка', 'городской посёлок Назия',\n",
       "       'посёлок Репино', 'посёлок Ильичёво', 'поселок Углово',\n",
       "       'поселок Старая Малукса', 'садовое товарищество Рахья',\n",
       "       'поселок Аннино', 'поселок Победа', 'деревня Меньково',\n",
       "       'деревня Старые Бегуницы', 'посёлок Сапёрный', 'поселок Семрино',\n",
       "       'поселок Гаврилово', 'поселок Глажево', 'поселок Кобринское',\n",
       "       'деревня Гарболово', 'деревня Юкки',\n",
       "       'поселок станции Приветнинское', 'деревня Мануйлово',\n",
       "       'деревня Пчева', 'поселок Поляны', 'поселок Цвылёво',\n",
       "       'поселок Мельниково', 'посёлок Пудость', 'посёлок Усть-Луга',\n",
       "       'Светогорск', 'Любань', 'поселок Селезнёво',\n",
       "       'поселок городского типа Рябово', 'Каменногорск', 'деревня Кривко',\n",
       "       'поселок Глебычево', 'деревня Парицы', 'поселок Жилпосёлок',\n",
       "       'посёлок городского типа Мга', 'городской поселок Янино-1',\n",
       "       'посёлок Войскорово', 'село Никольское', 'посёлок Терволово',\n",
       "       'поселок Стеклянный', 'посёлок городского типа Важины',\n",
       "       'посёлок Мыза-Ивановка', 'село Русско-Высоцкое',\n",
       "       'поселок городского типа Лебяжье',\n",
       "       'поселок городского типа Форносово', 'село Старая Ладога',\n",
       "       'поселок Житково', 'городской посёлок Виллози', 'деревня Лампово',\n",
       "       'деревня Шпаньково', 'деревня Лаврики', 'посёлок Сумино',\n",
       "       'посёлок Возрождение', 'деревня Старосиверская',\n",
       "       'посёлок Кикерино', 'поселок Возрождение',\n",
       "       'деревня Старое Хинколово', 'посёлок Пригородный',\n",
       "       'посёлок Торфяное', 'городской посёлок Будогощь',\n",
       "       'поселок Суходолье', 'поселок Красная Долина', 'деревня Хапо-Ое',\n",
       "       'поселок городского типа Дружная Горка', 'поселок Лисий Нос',\n",
       "       'деревня Яльгелево', 'посёлок Стеклянный', 'село Рождествено',\n",
       "       'деревня Старополье', 'посёлок Левашово', 'деревня Сяськелево',\n",
       "       'деревня Камышовка',\n",
       "       'садоводческое некоммерческое товарищество Лесная Поляна',\n",
       "       'деревня Хязельки', 'поселок Жилгородок',\n",
       "       'посёлок городского типа Павлово', 'деревня Ялгино',\n",
       "       'поселок Новый Учхоз', 'городской посёлок Рощино',\n",
       "       'поселок Гончарово', 'поселок Почап', 'посёлок Сапёрное',\n",
       "       'посёлок Платформа 69-й километр', 'поселок Каложицы',\n",
       "       'деревня Фалилеево', 'деревня Пельгора',\n",
       "       'поселок городского типа Лесогорский', 'деревня Торошковичи',\n",
       "       'посёлок Белоостров', 'посёлок Алексеевка', 'поселок Серебрянский',\n",
       "       'поселок Лукаши', 'поселок Петровское', 'деревня Щеглово',\n",
       "       'поселок Мичуринское', 'деревня Тарасово', 'поселок Кингисеппский',\n",
       "       'посёлок при железнодорожной станции Вещево', 'поселок Ушаки',\n",
       "       'деревня Котлы', 'деревня Сижно', 'деревня Торосово',\n",
       "       'посёлок Форт Красная Горка', 'поселок городского типа Токсово',\n",
       "       'деревня Новолисино', 'посёлок станции Громово', 'деревня Глинка',\n",
       "       'посёлок Мельниково', 'поселок городского типа Назия',\n",
       "       'деревня Старая Пустошь', 'поселок Коммунары', 'поселок Починок',\n",
       "       'посёлок городского типа Вознесенье', 'деревня Разбегаево',\n",
       "       'посёлок городского типа Рябово', 'поселок Гладкое',\n",
       "       'посёлок при железнодорожной станции Приветнинское',\n",
       "       'поселок Тёсово-4', 'посёлок Жилгородок', 'деревня Бор',\n",
       "       'посёлок Коробицыно', 'деревня Большая Вруда', 'деревня Курковицы',\n",
       "       'посёлок Лисий Нос', 'городской посёлок Советский',\n",
       "       'посёлок Кобралово', 'деревня Суоранда', 'поселок Кобралово',\n",
       "       'поселок городского типа Кондратьево',\n",
       "       'коттеджный поселок Счастье', 'поселок Любань', 'деревня Реброво',\n",
       "       'деревня Зимитицы', 'деревня Тойворово', 'поселок Семиозерье',\n",
       "       'поселок Лесное', 'поселок Совхозный', 'поселок Усть-Луга',\n",
       "       'посёлок Ленинское', 'посёлок Суйда',\n",
       "       'посёлок городского типа Форносово', 'деревня Нижние Осельки',\n",
       "       'посёлок станции Свирь', 'поселок Перово', 'Высоцк',\n",
       "       'поселок Гарболово', 'село Шум', 'поселок Котельский',\n",
       "       'поселок станции Лужайка', 'деревня Большая Пустомержа',\n",
       "       'поселок Красносельское', 'деревня Вахнова Кара', 'деревня Пижма',\n",
       "       'коттеджный поселок Кивеннапа Север', 'поселок Коробицыно',\n",
       "       'поселок Ромашки', 'посёлок Перово', 'деревня Каськово',\n",
       "       'деревня Куровицы', 'посёлок Плоское', 'поселок Сумино',\n",
       "       'поселок городского типа Большая Ижора', 'поселок Кирпичное',\n",
       "       'деревня Ям-Тесово', 'деревня Раздолье', 'деревня Терпилицы',\n",
       "       'посёлок Шугозеро', 'деревня Ваганово', 'поселок Пушное',\n",
       "       'садовое товарищество Садко', 'посёлок Усть-Ижора',\n",
       "       'деревня Выскатка', 'городской посёлок Свирьстрой',\n",
       "       'поселок Громово', 'деревня Кисельня', 'посёлок Старая Малукса',\n",
       "       'деревня Трубников Бор', 'поселок Калитино',\n",
       "       'посёлок Высокоключевой', 'садовое товарищество Приладожский',\n",
       "       'посёлок Пансионат Зелёный Бор', 'деревня Ненимяки',\n",
       "       'поселок Пансионат Зелёный Бор', 'деревня Снегирёвка',\n",
       "       'деревня Рапполово', 'деревня Пустынка', 'поселок Рабитицы',\n",
       "       'деревня Большой Сабск', 'деревня Русско', 'деревня Лупполово',\n",
       "       'деревня Большое Рейзино', 'деревня Малая Романовка',\n",
       "       'поселок Дружноселье', 'поселок Пчевжа', 'поселок Володарское',\n",
       "       'деревня Нижняя', 'коттеджный посёлок Лесное', 'деревня Тихковицы',\n",
       "       'деревня Борисова Грива', 'посёлок Дзержинского'], dtype=object)"
      ]
     },
     "execution_count": 8,
     "metadata": {},
     "output_type": "execute_result"
    }
   ],
   "source": [
    "data['locality_name'].value_counts()\n",
    "data['locality_name'].unique()"
   ]
  },
  {
   "cell_type": "code",
   "execution_count": 9,
   "metadata": {},
   "outputs": [],
   "source": [
    "def name(row):\n",
    "    try: \n",
    "        if 'посёлок' in row:\n",
    "            row1 = row.replace('посёлок','поселок')\n",
    "            return row1\n",
    "        else:\n",
    "            return row\n",
    "    except:\n",
    "            return row\n",
    "\n",
    "def name1(row):\n",
    "    try: \n",
    "        if 'городского типа' in row:\n",
    "            row1 = row.replace(' городского типа','')\n",
    "            return row1\n",
    "        elif 'городской поселок' in row:\n",
    "            row2 = row.replace(' городской поселок','')\n",
    "            return row2\n",
    "        else:\n",
    "            return row\n",
    "    except:\n",
    "            return row\n",
    "data['locality_name'] = data['locality_name'].apply(name)\n",
    "data['locality_name'] = data['locality_name'].apply(name1)"
   ]
  },
  {
   "cell_type": "code",
   "execution_count": 10,
   "metadata": {},
   "outputs": [],
   "source": [
    "def anomal_value_ceiling_height(row):\n",
    "    if (row > 5) & (row <20):\n",
    "        row = None\n",
    "        return row\n",
    "    elif row > 20:\n",
    "        row = row/10\n",
    "        return row\n",
    "    else:\n",
    "        return row\n",
    "data['ceiling_height'] = data['ceiling_height'].apply(anomal_value_ceiling_height)"
   ]
  },
  {
   "cell_type": "code",
   "execution_count": 11,
   "metadata": {},
   "outputs": [],
   "source": [
    "# Код ревьюера\n",
    "data.update(data[(data['ceiling_height'] >= 20) & (data['ceiling_height'] <= 36)]['ceiling_height']/10)"
   ]
  },
  {
   "cell_type": "code",
   "execution_count": 12,
   "metadata": {},
   "outputs": [
    {
     "name": "stdout",
     "output_type": "stream",
     "text": [
      "Empty DataFrame\n",
      "Columns: [total_images, last_price, total_area, first_day_exposition, rooms, ceiling_height, floors_total, living_area, floor, is_apartment, studio, open_plan, kitchen_area, balcony, locality_name, airports_nearest, cityCenters_nearest, parks_around3000, parks_nearest, ponds_around3000, ponds_nearest, days_exposition]\n",
      "Index: []\n",
      "\n",
      "[0 rows x 22 columns]\n"
     ]
    }
   ],
   "source": [
    "print(data[data['balcony'] > 5])"
   ]
  },
  {
   "cell_type": "code",
   "execution_count": 13,
   "metadata": {},
   "outputs": [
    {
     "name": "stdout",
     "output_type": "stream",
     "text": [
      "1580.0\n",
      "1.0\n",
      "95.0\n",
      "180.88863436982163\n"
     ]
    }
   ],
   "source": [
    "print(data['days_exposition'].max())\n",
    "print(data['days_exposition'].min())\n",
    "print(data['days_exposition'].median())\n",
    "print(data['days_exposition'].mean())\n",
    "anomal = data[data['days_exposition'] > 730]\n",
    "#print(anomal)"
   ]
  },
  {
   "cell_type": "code",
   "execution_count": 14,
   "metadata": {},
   "outputs": [
    {
     "name": "stdout",
     "output_type": "stream",
     "text": [
      "33\n",
      "1\n"
     ]
    }
   ],
   "source": [
    "print(data['floor'].max())\n",
    "print(data['floor'].min())"
   ]
  },
  {
   "cell_type": "code",
   "execution_count": 15,
   "metadata": {},
   "outputs": [
    {
     "name": "stdout",
     "output_type": "stream",
     "text": [
      "60.0\n",
      "1.0\n"
     ]
    }
   ],
   "source": [
    "print(data['floors_total'].max())\n",
    "print(data['floors_total'].min())"
   ]
  },
  {
   "cell_type": "code",
   "execution_count": 16,
   "metadata": {},
   "outputs": [
    {
     "name": "stdout",
     "output_type": "stream",
     "text": [
      "112.0\n",
      "1.3\n"
     ]
    }
   ],
   "source": [
    "print(data['kitchen_area'].max())\n",
    "print(data['kitchen_area'].min())\n",
    "#print(data[data['kitchen_area'] < 3])"
   ]
  },
  {
   "cell_type": "code",
   "execution_count": 17,
   "metadata": {},
   "outputs": [
    {
     "name": "stdout",
     "output_type": "stream",
     "text": [
      "409.7\n",
      "2.0\n"
     ]
    }
   ],
   "source": [
    "print(data['living_area'].max())\n",
    "print(data['living_area'].min())\n",
    "#print(data[data['living_area'] > 350])"
   ]
  },
  {
   "cell_type": "code",
   "execution_count": 18,
   "metadata": {},
   "outputs": [
    {
     "name": "stdout",
     "output_type": "stream",
     "text": [
      "50\n",
      "0\n"
     ]
    }
   ],
   "source": [
    "print(data['total_images'].max())\n",
    "print(data['total_images'].min())"
   ]
  },
  {
   "cell_type": "code",
   "execution_count": 19,
   "metadata": {},
   "outputs": [
    {
     "name": "stdout",
     "output_type": "stream",
     "text": [
      "430000.0\n"
     ]
    }
   ],
   "source": [
    "#print(data['last_price'].max())\n",
    "#print(data['last_price'].min())\n",
    "data.loc[8793,'last_price'] = None\n",
    "print(data['last_price'].min())"
   ]
  },
  {
   "cell_type": "markdown",
   "metadata": {},
   "source": [
    "**Вывод по аномальным значениям:**\n",
    "При анализе аномальных значений в столбце ceiling_height я удалила значения от 5 до 20 метров, так как потолки в жилых помещениях не могут быть такой высоты (высокими потолки считаются уже от 3м, а высота от 5 - это аномалия), а допустить ошибку ( не там поставить запятую в разряде) допустить не могли, так как получилось бы слишком маленькое значение. \n",
    "\n",
    "Также я проверила и другие столбцы, выводя максимальное и минимальное значения (оставила как пример не все). Например, в столбце days_exposition максимальное значение равно примерно 4.3 года, при среднем и медианном значениях 95 и 180 дней. Но я вывела все строки, у которых значение этого столбца > 730 ( больше 2-х лет), и там  получилось 72 строки, то есть, в целом, это вполне допустимое значение.  А вот в столбце last_price было одно аномальное значение - двухкомнатная квартира в Санкт-Петербурге за 12 000.Эту цену пришлось удалить, так как явно она не соответствует действительности.\n",
    "\n",
    "Аналогично я поступила и с другими столбцами, меня так же насторожили значения площади кухни 1.3м^2 и значение в living_area равное 409 м, но я так же проверила еще несколько строк с похожими показателями, и выяснила, что маленькие кухни встречаются в квартирах с 1 комнатой или студиях, а у квариты с показателем 409м 12 комнат, так что это тоже вполне допустимые значения."
   ]
  },
  {
   "cell_type": "markdown",
   "metadata": {},
   "source": [
    "### Посчитайте и добавьте в таблицу новые столбцы"
   ]
  },
  {
   "cell_type": "code",
   "execution_count": 20,
   "metadata": {},
   "outputs": [],
   "source": [
    "data['square_meter_price'] = round(data['last_price']/data['total_area'],2)\n",
    "\n",
    "# вычисление стоимости квадратного метра"
   ]
  },
  {
   "cell_type": "code",
   "execution_count": 21,
   "metadata": {},
   "outputs": [],
   "source": [
    "data['day_of_the_week'] = data['first_day_exposition'].dt.weekday\n",
    "\n",
    "# вычисление дня недели публикации"
   ]
  },
  {
   "cell_type": "code",
   "execution_count": 22,
   "metadata": {},
   "outputs": [],
   "source": [
    "data['year'] = pd.DatetimeIndex(data['first_day_exposition']).year\n",
    "data['month'] = pd.DatetimeIndex(data['first_day_exposition']).month\n",
    "\n",
    "# вычисление года и месяца публикации"
   ]
  },
  {
   "cell_type": "code",
   "execution_count": 29,
   "metadata": {},
   "outputs": [
    {
     "name": "stdout",
     "output_type": "stream",
     "text": [
      "[0 1 0 ... 1 0 0]\n"
     ]
    },
    {
     "data": {
      "text/plain": [
       "Timestamp('2014-11-27 00:00:00')"
      ]
     },
     "execution_count": 29,
     "metadata": {},
     "output_type": "execute_result"
    }
   ],
   "source": [
    "import numpy as np\n",
    "fg = np.where(pd.DatetimeIndex(data['first_day_exposition']).year == 2018,1,0)\n",
    "print(fg)\n",
    "data['first_day_exposition'].min()"
   ]
  },
  {
   "cell_type": "code",
   "execution_count": 23,
   "metadata": {},
   "outputs": [],
   "source": [
    "for i in range(data.count()[0]):\n",
    "    if data.loc[i,'floor'] == 1:\n",
    "        data.loc[i,'type_of_floor'] = 'первый'\n",
    "    elif data.loc[i,'floor'] == data.loc[i,'floors_total']:\n",
    "        data.loc[i,'type_of_floor'] = \"последний\"\n",
    "    else:\n",
    "        data.loc[i,'type_of_floor']  = 'другой'\n",
    "        \n",
    "# вычисление типа этажа квартиры"
   ]
  },
  {
   "cell_type": "code",
   "execution_count": 24,
   "metadata": {},
   "outputs": [],
   "source": [
    "data['cityCenters_nearest_km'] = round(data['cityCenters_nearest']/1000)\n",
    "\n",
    "# вычисление расстояния до центра в км"
   ]
  },
  {
   "cell_type": "markdown",
   "metadata": {},
   "source": [
    "### Проведите исследовательский анализ данных"
   ]
  },
  {
   "cell_type": "code",
   "execution_count": 25,
   "metadata": {},
   "outputs": [
    {
     "data": {
      "text/plain": [
       "Text(0.5, 1.0, 'total_area')"
      ]
     },
     "execution_count": 25,
     "metadata": {},
     "output_type": "execute_result"
    },
    {
     "data": {
      "image/png": "[encoded data removed]",
      "text/plain": [
       "<Figure size 432x288 with 1 Axes>"
      ]
     },
     "metadata": {
      "needs_background": "light"
     },
     "output_type": "display_data"
    }
   ],
   "source": [
    "data['total_area'].hist(bins = 20,range = (0,300))\n",
    "plt.title(label = 'total_area')"
   ]
  },
  {
   "cell_type": "code",
   "execution_count": 26,
   "metadata": {},
   "outputs": [
    {
     "data": {
      "text/plain": [
       "Text(0.5, 1.0, 'living_area')"
      ]
     },
     "execution_count": 26,
     "metadata": {},
     "output_type": "execute_result"
    },
    {
     "data": {
      "image/png": "[encoded data removed]",
      "text/plain": [
       "<Figure size 432x288 with 1 Axes>"
      ]
     },
     "metadata": {
      "needs_background": "light"
     },
     "output_type": "display_data"
    }
   ],
   "source": [
    "data['living_area'].hist(bins = 20,range = (0,200))\n",
    "plt.title(label = 'living_area')"
   ]
  },
  {
   "cell_type": "code",
   "execution_count": 27,
   "metadata": {},
   "outputs": [
    {
     "data": {
      "text/plain": [
       "Text(0.5, 1.0, 'kitchen_area')"
      ]
     },
     "execution_count": 27,
     "metadata": {},
     "output_type": "execute_result"
    },
    {
     "data": {
      "image/png": "[encoded data removed]",
      "text/plain": [
       "<Figure size 432x288 with 1 Axes>"
      ]
     },
     "metadata": {
      "needs_background": "light"
     },
     "output_type": "display_data"
    }
   ],
   "source": [
    "data['kitchen_area'].hist(bins = 20,range = (0,50))\n",
    "plt.title(label = 'kitchen_area')"
   ]
  },
  {
   "cell_type": "code",
   "execution_count": 28,
   "metadata": {},
   "outputs": [
    {
     "data": {
      "text/plain": [
       "Text(0.5, 1.0, 'last_price')"
      ]
     },
     "execution_count": 28,
     "metadata": {},
     "output_type": "execute_result"
    },
    {
     "data": {
      "image/png": "[encoded data removed]",
      "text/plain": [
       "<Figure size 432x288 with 1 Axes>"
      ]
     },
     "metadata": {
      "needs_background": "light"
     },
     "output_type": "display_data"
    }
   ],
   "source": [
    "data['last_price'].hist(bins = 20,range = (100000,10000000))\n",
    "plt.title(label = 'last_price')"
   ]
  },
  {
   "cell_type": "code",
   "execution_count": 29,
   "metadata": {},
   "outputs": [
    {
     "data": {
      "text/plain": [
       "Text(0.5, 1.0, 'rooms')"
      ]
     },
     "execution_count": 29,
     "metadata": {},
     "output_type": "execute_result"
    },
    {
     "data": {
      "image/png": "[encoded data removed]",
      "text/plain": [
       "<Figure size 432x288 with 1 Axes>"
      ]
     },
     "metadata": {
      "needs_background": "light"
     },
     "output_type": "display_data"
    }
   ],
   "source": [
    "data['rooms'].hist(bins = 20,range = (0,10))\n",
    "plt.title(label = 'rooms')"
   ]
  },
  {
   "cell_type": "code",
   "execution_count": 30,
   "metadata": {},
   "outputs": [
    {
     "data": {
      "text/plain": [
       "Text(0.5, 1.0, 'ceiling_height')"
      ]
     },
     "execution_count": 30,
     "metadata": {},
     "output_type": "execute_result"
    },
    {
     "data": {
      "image/png": "[encoded data removed]",
      "text/plain": [
       "<Figure size 432x288 with 1 Axes>"
      ]
     },
     "metadata": {
      "needs_background": "light"
     },
     "output_type": "display_data"
    }
   ],
   "source": [
    "data['ceiling_height'].hist(bins = 20,range = (2.5,4))\n",
    "plt.title(label = 'ceiling_height')"
   ]
  },
  {
   "cell_type": "code",
   "execution_count": 31,
   "metadata": {},
   "outputs": [
    {
     "data": {
      "text/plain": [
       "Text(0.5, 1.0, 'floor')"
      ]
     },
     "execution_count": 31,
     "metadata": {},
     "output_type": "execute_result"
    },
    {
     "data": {
      "image/png": "[encoded data removed]",
      "text/plain": [
       "<Figure size 432x288 with 1 Axes>"
      ]
     },
     "metadata": {
      "needs_background": "light"
     },
     "output_type": "display_data"
    }
   ],
   "source": [
    "data['floor'].hist(bins = 20,range = (0,30))\n",
    "plt.title(label = 'floor')"
   ]
  },
  {
   "cell_type": "code",
   "execution_count": 32,
   "metadata": {},
   "outputs": [
    {
     "data": {
      "text/plain": [
       "Text(0.5, 1.0, 'type_of_floor')"
      ]
     },
     "execution_count": 32,
     "metadata": {},
     "output_type": "execute_result"
    },
    {
     "data": {
      "image/png": "[encoded data removed]",
      "text/plain": [
       "<Figure size 432x288 with 1 Axes>"
      ]
     },
     "metadata": {
      "needs_background": "light"
     },
     "output_type": "display_data"
    }
   ],
   "source": [
    "data['type_of_floor'].hist(bins = 5)\n",
    "plt.title(label = 'type_of_floor')"
   ]
  },
  {
   "cell_type": "code",
   "execution_count": 33,
   "metadata": {
    "scrolled": true
   },
   "outputs": [
    {
     "data": {
      "text/plain": [
       "Text(0.5, 1.0, 'floors_total')"
      ]
     },
     "execution_count": 33,
     "metadata": {},
     "output_type": "execute_result"
    },
    {
     "data": {
      "image/png": "[encoded data removed]",
      "text/plain": [
       "<Figure size 432x288 with 1 Axes>"
      ]
     },
     "metadata": {
      "needs_background": "light"
     },
     "output_type": "display_data"
    }
   ],
   "source": [
    "data['floors_total'].hist(bins = 20,range = (0,30))\n",
    "plt.title(label = 'floors_total')"
   ]
  },
  {
   "cell_type": "code",
   "execution_count": 34,
   "metadata": {},
   "outputs": [
    {
     "data": {
      "text/plain": [
       "Text(0.5, 1.0, 'cityCenters_nearest')"
      ]
     },
     "execution_count": 34,
     "metadata": {},
     "output_type": "execute_result"
    },
    {
     "data": {
      "image/png": "[encoded data removed]",
      "text/plain": [
       "<Figure size 432x288 with 1 Axes>"
      ]
     },
     "metadata": {
      "needs_background": "light"
     },
     "output_type": "display_data"
    }
   ],
   "source": [
    "data['cityCenters_nearest'].hist(bins = 20)\n",
    "plt.title(label = 'cityCenters_nearest')"
   ]
  },
  {
   "cell_type": "code",
   "execution_count": 35,
   "metadata": {},
   "outputs": [
    {
     "data": {
      "text/plain": [
       "Text(0.5, 1.0, 'airports_nearest')"
      ]
     },
     "execution_count": 35,
     "metadata": {},
     "output_type": "execute_result"
    },
    {
     "data": {
      "image/png": "[encoded data removed]",
      "text/plain": [
       "<Figure size 432x288 with 1 Axes>"
      ]
     },
     "metadata": {
      "needs_background": "light"
     },
     "output_type": "display_data"
    }
   ],
   "source": [
    "data['airports_nearest'].hist(bins = 20)\n",
    "plt.title(label = 'airports_nearest')"
   ]
  },
  {
   "cell_type": "code",
   "execution_count": 36,
   "metadata": {
    "scrolled": true
   },
   "outputs": [
    {
     "data": {
      "text/plain": [
       "Text(0.5, 1.0, 'parks_nearest')"
      ]
     },
     "execution_count": 36,
     "metadata": {},
     "output_type": "execute_result"
    },
    {
     "data": {
      "image/png": "[encoded data removed]",
      "text/plain": [
       "<Figure size 432x288 with 1 Axes>"
      ]
     },
     "metadata": {
      "needs_background": "light"
     },
     "output_type": "display_data"
    }
   ],
   "source": [
    "data['parks_nearest'].hist(bins = 20)\n",
    "plt.title(label = 'parks_nearest')"
   ]
  },
  {
   "cell_type": "code",
   "execution_count": 37,
   "metadata": {},
   "outputs": [
    {
     "data": {
      "text/plain": [
       "Text(0.5, 1.0, 'month')"
      ]
     },
     "execution_count": 37,
     "metadata": {},
     "output_type": "execute_result"
    },
    {
     "data": {
      "image/png": "[encoded data removed]",
      "text/plain": [
       "<Figure size 432x288 with 1 Axes>"
      ]
     },
     "metadata": {
      "needs_background": "light"
     },
     "output_type": "display_data"
    }
   ],
   "source": [
    "data['month'].hist(bins = 20)\n",
    "plt.title(label = 'month')"
   ]
  },
  {
   "cell_type": "code",
   "execution_count": 38,
   "metadata": {},
   "outputs": [
    {
     "data": {
      "text/plain": [
       "Text(0.5, 1.0, 'day_of_the_week')"
      ]
     },
     "execution_count": 38,
     "metadata": {},
     "output_type": "execute_result"
    },
    {
     "data": {
      "image/png": "[encoded data removed]",
      "text/plain": [
       "<Figure size 432x288 with 1 Axes>"
      ]
     },
     "metadata": {
      "needs_background": "light"
     },
     "output_type": "display_data"
    }
   ],
   "source": [
    "data['day_of_the_week'].hist(bins = 20)\n",
    "plt.title(label = 'day_of_the_week')"
   ]
  },
  {
   "cell_type": "markdown",
   "metadata": {},
   "source": [
    "Общий комментарий:\n",
    "Мы видим, что большинство квартир имеют площадь 40-70 кв.м., и от 120 кв.м. идет маленький хвост, поэтому можно сказать, что доля квартир, с площадью более 120 кв.м. достаточно мала. Аналогичный вывод можно сделать и параметры living_area и kitchen_area, обычно жилая площадь имеет размер д0 60 кв.м, а кухня - до 20 кв.м.\n",
    "\n",
    "Самое большое количество квартир выставляется с ценой в промежутке от 2000000 до 6000000 руб.\n",
    "Больше всего квартир с 1, 2 или 3 комнатами, высотой потолков 2.7м, и до 5 этажа, когда этажей в доме либо около 5, либо около 10.\n",
    "Категория \"другой\" намного популярнее, чем \"первый\" и \"последний\". Расстояние от аэропорта чаще всего составляет от 20 до 40 км, расстояние до ближайшего парка около 250-600м. А вот на двух последних диаграммах можно увидеть, что срежи дней недели и среди месяцев нет какого-то определенного лидера."
   ]
  },
  {
   "cell_type": "code",
   "execution_count": 39,
   "metadata": {},
   "outputs": [
    {
     "name": "stdout",
     "output_type": "stream",
     "text": [
      "95.0\n"
     ]
    },
    {
     "data": {
      "text/plain": [
       "180.88863436982163"
      ]
     },
     "execution_count": 39,
     "metadata": {},
     "output_type": "execute_result"
    },
    {
     "data": {
      "image/png": "[encoded data removed]",
      "text/plain": [
       "<Figure size 432x288 with 1 Axes>"
      ]
     },
     "metadata": {
      "needs_background": "light"
     },
     "output_type": "display_data"
    }
   ],
   "source": [
    "data['days_exposition'].hist()\n",
    "print(data['days_exposition'].median())\n",
    "data['days_exposition'].mean()"
   ]
  },
  {
   "cell_type": "markdown",
   "metadata": {},
   "source": [
    "Медианное значение периода, за который продавались квартиры, составляет около 3-х месяце, среднее - полгода. Блягодаря гистограмме мы видим, что есть квартиры, которые продавались около 4-лет, но большинство квартир продалось менее, чем за год. Можно сказать, что быстро проданная квартира - та, у которой значение периода продажи лежит в интервале до 3-х месяцев, а долгие продажи начинаются примерно от 1 года."
   ]
  },
  {
   "cell_type": "code",
   "execution_count": 40,
   "metadata": {},
   "outputs": [
    {
     "name": "stdout",
     "output_type": "stream",
     "text": [
      "0.6537402377092495\n"
     ]
    },
    {
     "data": {
      "text/plain": [
       "<AxesSubplot:xlabel='total_area', ylabel='last_price'>"
      ]
     },
     "execution_count": 40,
     "metadata": {},
     "output_type": "execute_result"
    },
    {
     "data": {
      "image/png": "[encoded data removed]",
      "text/plain": [
       "<Figure size 432x288 with 1 Axes>"
      ]
     },
     "metadata": {
      "needs_background": "light"
     },
     "output_type": "display_data"
    }
   ],
   "source": [
    "print(data['last_price'].corr(data['total_area']))\n",
    "data.plot(x='total_area', y='last_price', kind='scatter')"
   ]
  },
  {
   "cell_type": "code",
   "execution_count": 41,
   "metadata": {},
   "outputs": [
    {
     "name": "stdout",
     "output_type": "stream",
     "text": [
      "0.5145168801495118\n"
     ]
    },
    {
     "data": {
      "text/plain": [
       "<AxesSubplot:xlabel='kitchen_area', ylabel='last_price'>"
      ]
     },
     "execution_count": 41,
     "metadata": {},
     "output_type": "execute_result"
    },
    {
     "data": {
      "image/png": "[encoded data removed]",
      "text/plain": [
       "<Figure size 432x288 with 1 Axes>"
      ]
     },
     "metadata": {
      "needs_background": "light"
     },
     "output_type": "display_data"
    }
   ],
   "source": [
    "print(data['last_price'].corr(data['kitchen_area']))\n",
    "data.plot(x='kitchen_area', y='last_price', kind='scatter')"
   ]
  },
  {
   "cell_type": "code",
   "execution_count": 42,
   "metadata": {},
   "outputs": [
    {
     "name": "stdout",
     "output_type": "stream",
     "text": [
      "0.5858924190461742\n"
     ]
    },
    {
     "data": {
      "text/plain": [
       "<AxesSubplot:xlabel='living_area', ylabel='last_price'>"
      ]
     },
     "execution_count": 42,
     "metadata": {},
     "output_type": "execute_result"
    },
    {
     "data": {
      "image/png": "[encoded data removed]",
      "text/plain": [
       "<Figure size 432x288 with 1 Axes>"
      ]
     },
     "metadata": {
      "needs_background": "light"
     },
     "output_type": "display_data"
    }
   ],
   "source": [
    "print(data['last_price'].corr(data['living_area']))\n",
    "data.plot(x='living_area', y='last_price', kind='scatter')"
   ]
  },
  {
   "cell_type": "code",
   "execution_count": 43,
   "metadata": {},
   "outputs": [
    {
     "name": "stdout",
     "output_type": "stream",
     "text": [
      "0.36334398266009404\n"
     ]
    },
    {
     "data": {
      "text/plain": [
       "<AxesSubplot:xlabel='rooms', ylabel='last_price'>"
      ]
     },
     "execution_count": 43,
     "metadata": {},
     "output_type": "execute_result"
    },
    {
     "data": {
      "image/png": "[encoded data removed]",
      "text/plain": [
       "<Figure size 432x288 with 1 Axes>"
      ]
     },
     "metadata": {
      "needs_background": "light"
     },
     "output_type": "display_data"
    }
   ],
   "source": [
    "print(data['last_price'].corr(data['rooms']))\n",
    "data.plot(x='rooms', y='last_price', kind='scatter')"
   ]
  },
  {
   "cell_type": "code",
   "execution_count": 44,
   "metadata": {},
   "outputs": [
    {
     "data": {
      "text/plain": [
       "<AxesSubplot:xlabel='type_of_floor', ylabel='last_price'>"
      ]
     },
     "execution_count": 44,
     "metadata": {},
     "output_type": "execute_result"
    },
    {
     "data": {
      "image/png": "[encoded data removed]",
      "text/plain": [
       "<Figure size 432x288 with 1 Axes>"
      ]
     },
     "metadata": {
      "needs_background": "light"
     },
     "output_type": "display_data"
    }
   ],
   "source": [
    "#print(data['last_price'].corr(data['type_of_floor']))\n",
    "data.plot(x='type_of_floor', y='last_price', kind='scatter')"
   ]
  },
  {
   "cell_type": "code",
   "execution_count": 45,
   "metadata": {},
   "outputs": [
    {
     "name": "stdout",
     "output_type": "stream",
     "text": [
      "0.0015421067200722702\n"
     ]
    },
    {
     "data": {
      "text/plain": [
       "<AxesSubplot:xlabel='day_of_the_week', ylabel='last_price'>"
      ]
     },
     "execution_count": 45,
     "metadata": {},
     "output_type": "execute_result"
    },
    {
     "data": {
      "image/png": "[encoded data removed]",
      "text/plain": [
       "<Figure size 432x288 with 1 Axes>"
      ]
     },
     "metadata": {
      "needs_background": "light"
     },
     "output_type": "display_data"
    }
   ],
   "source": [
    "print(data['last_price'].corr(data['day_of_the_week']))\n",
    "data.plot(x='day_of_the_week', y='last_price', kind='scatter')"
   ]
  },
  {
   "cell_type": "code",
   "execution_count": 46,
   "metadata": {},
   "outputs": [
    {
     "name": "stdout",
     "output_type": "stream",
     "text": [
      "0.0027545590999158557\n"
     ]
    },
    {
     "data": {
      "text/plain": [
       "<AxesSubplot:xlabel='month', ylabel='last_price'>"
      ]
     },
     "execution_count": 46,
     "metadata": {},
     "output_type": "execute_result"
    },
    {
     "data": {
      "image/png": "[encoded data removed]",
      "text/plain": [
       "<Figure size 432x288 with 1 Axes>"
      ]
     },
     "metadata": {
      "needs_background": "light"
     },
     "output_type": "display_data"
    }
   ],
   "source": [
    "print(data['last_price'].corr(data['month']))\n",
    "data.plot(x='month', y='last_price', kind='scatter')"
   ]
  },
  {
   "cell_type": "code",
   "execution_count": 51,
   "metadata": {
    "scrolled": true
   },
   "outputs": [
    {
     "name": "stdout",
     "output_type": "stream",
     "text": [
      "-0.04305185858515465\n"
     ]
    },
    {
     "data": {
      "text/plain": [
       "<AxesSubplot:xlabel='year', ylabel='last_price'>"
      ]
     },
     "execution_count": 51,
     "metadata": {},
     "output_type": "execute_result"
    },
    {
     "data": {
      "image/png": "[encoded data removed]",
      "text/plain": [
       "<Figure size 432x288 with 1 Axes>"
      ]
     },
     "metadata": {
      "needs_background": "light"
     },
     "output_type": "display_data"
    }
   ],
   "source": [
    "print(data['last_price'].corr(data['year']))\n",
    "data.plot(x='year', y='last_price', kind='scatter')"
   ]
  },
  {
   "cell_type": "markdown",
   "metadata": {},
   "source": [
    "Я изучила связь между ценой и некоторыми параметрами. Оказалось, существует хорошая линейная связь с ценой и площадью, с количеством комнат она чуть слабее, а с этажом, днем недели, месяцем и годом продажи связи почти нет."
   ]
  },
  {
   "cell_type": "code",
   "execution_count": 52,
   "metadata": {},
   "outputs": [
    {
     "name": "stdout",
     "output_type": "stream",
     "text": [
      "                 square_meter_price  count_publications\n",
      "locality_name                                          \n",
      "Санкт-Петербург       114856.307596             15721.0\n",
      "                            square_meter_price  count_publications\n",
      "locality_name                                                     \n",
      "коттеджный поселок Счастье            64583.33                 1.0\n"
     ]
    }
   ],
   "source": [
    "names  = pd.Series(data['locality_name'].unique()).sort_values()\n",
    "d = pd.pivot_table(data, index ='locality_name', values = 'square_meter_price' )\n",
    "for i in names:\n",
    "    d.loc[i,'count_publications'] = data[data['locality_name'] == i].count()[0]\n",
    "d = d[d['count_publications']!=0]\n",
    "print(d.sort_values(by = 'count_publications',ascending = False).head(1))\n",
    "print(d.sort_values(by = 'count_publications').head(1))"
   ]
  },
  {
   "cell_type": "code",
   "execution_count": 53,
   "metadata": {},
   "outputs": [
    {
     "name": "stdout",
     "output_type": "stream",
     "text": [
      "-0.20702013146777962\n",
      "    last_price  cityCenters_nearest_km    price_km\n",
      "0   13000000.0                    16.0   812500.00\n",
      "2    5196000.0                    14.0   371142.86\n",
      "3   64900000.0                     7.0  9271428.57\n",
      "4   10000000.0                     8.0  1250000.00\n",
      "7    7915000.0                    12.0   659583.33\n",
      "9    5400000.0                    15.0   360000.00\n",
      "10   5050000.0                    14.0   360714.29\n",
      "15   4650000.0                    14.0   332142.86\n",
      "16   6700000.0                    11.0   609090.91\n",
      "17   4180000.0                    15.0   278666.67\n"
     ]
    }
   ],
   "source": [
    "data['price_km'] = round(data['last_price']/data['cityCenters_nearest_km'],2)\n",
    "df = data[data['locality_name'] == 'Санкт-Петербург']\n",
    "print(data['last_price'].corr(data['cityCenters_nearest_km']))\n",
    "print(df[['last_price','cityCenters_nearest_km','price_km']].head(10))"
   ]
  },
  {
   "cell_type": "code",
   "execution_count": 63,
   "metadata": {},
   "outputs": [
    {
     "name": "stdout",
     "output_type": "stream",
     "text": [
      "-0.20702013146777962\n"
     ]
    },
    {
     "data": {
      "text/plain": [
       "<AxesSubplot:xlabel='cityCenters_nearest_km', ylabel='last_price'>"
      ]
     },
     "execution_count": 63,
     "metadata": {},
     "output_type": "execute_result"
    },
    {
     "data": {
      "image/png": "[encoded data removed]",
      "text/plain": [
       "<Figure size 432x288 with 1 Axes>"
      ]
     },
     "metadata": {
      "needs_background": "light"
     },
     "output_type": "display_data"
    },
    {
     "data": {
      "image/png": "[encoded data removed]",
      "text/plain": [
       "<Figure size 432x288 with 1 Axes>"
      ]
     },
     "metadata": {
      "needs_background": "light"
     },
     "output_type": "display_data"
    }
   ],
   "source": [
    "df = data[data['locality_name'] == 'Санкт-Петербург']\n",
    "d = pd.pivot_table(df,index = 'cityCenters_nearest_km',values = 'last_price')\n",
    "d = d.sort_values(by = 'last_price')\n",
    "print(data['last_price'].corr(data['cityCenters_nearest_km']))\n",
    "\n",
    "d.plot( y='last_price')\n",
    "df.plot( x = 'cityCenters_nearest_km',y = 'last_price',kind = 'scatter')"
   ]
  },
  {
   "cell_type": "markdown",
   "metadata": {},
   "source": [
    "Коэффицент корреляции отрицательный и не очень большой по модулю, поэтому можно сделать вывод, что связь есть, но не очень сильная (чем меньще расстояние, тем больше цена)."
   ]
  },
  {
   "cell_type": "markdown",
   "metadata": {},
   "source": [
    "### Общий вывод"
   ]
  },
  {
   "cell_type": "markdown",
   "metadata": {},
   "source": [
    "**ВЫВОД:**\n",
    "При выполнении проекта были сделаны следующие шаги: предобработка данных,корректировка значений и добавление новых столбцов, исследовательский анализ. \n",
    "\n",
    "На первом этапе я изучила общую информацию о данных, обработала пропуски (либо вставив медианное значение, либо логически подходящее), избавилась от неявных дубликатов, изменила некоторые типы данных на нужные и устранила аномальные значения - сделала все для корректной работы с данные в последующих шагах.\n",
    "\n",
    "На втором этапе я добавила в таблицу новые столбцы, которые могут быть удобны для обработки данных, а также которые лучше отражают какие-то конкретные характеристики.\n",
    "\n",
    "На третьем этапе я построила гистограммы для некоторых параметров, изучила связь между ценой и некоторыми из них. Оказалось, существует хорошая линейная связь с ценой и площадью, с количеством комнат она чуть слабее, а с этажом, днем недели, месяцем и годом продажи связи почти нет. Так же есть слабая связь с расстоянием до центра - чем меньще расстояние, тем больше цена.\n"
   ]
  }
 ],
 "metadata": {
  "ExecuteTimeLog": [
   {
    "duration": 587,
    "start_time": "2023-02-20T07:23:02.197Z"
   },
   {
    "duration": 97,
    "start_time": "2023-02-20T07:23:16.411Z"
   },
   {
    "duration": 91,
    "start_time": "2023-02-20T07:23:40.585Z"
   },
   {
    "duration": 137,
    "start_time": "2023-02-21T05:05:55.354Z"
   },
   {
    "duration": 106,
    "start_time": "2023-02-21T05:06:39.085Z"
   },
   {
    "duration": 511,
    "start_time": "2023-02-21T05:06:53.349Z"
   },
   {
    "duration": 105,
    "start_time": "2023-02-21T05:09:26.553Z"
   },
   {
    "duration": 106,
    "start_time": "2023-02-21T05:09:37.955Z"
   },
   {
    "duration": 86,
    "start_time": "2023-02-21T05:09:54.200Z"
   },
   {
    "duration": 321,
    "start_time": "2023-02-21T05:10:01.717Z"
   },
   {
    "duration": 100,
    "start_time": "2023-02-21T05:10:10.161Z"
   },
   {
    "duration": 447,
    "start_time": "2023-02-21T05:10:26.777Z"
   },
   {
    "duration": 83,
    "start_time": "2023-02-21T05:10:33.337Z"
   },
   {
    "duration": 115,
    "start_time": "2023-02-21T05:10:47.053Z"
   },
   {
    "duration": 103,
    "start_time": "2023-02-21T05:11:01.499Z"
   },
   {
    "duration": 2263,
    "start_time": "2023-02-21T05:12:26.545Z"
   },
   {
    "duration": 15,
    "start_time": "2023-02-21T05:12:48.308Z"
   },
   {
    "duration": 106,
    "start_time": "2023-02-21T05:12:52.318Z"
   },
   {
    "duration": 1877,
    "start_time": "2023-02-21T05:13:14.419Z"
   },
   {
    "duration": 9,
    "start_time": "2023-02-21T05:16:05.144Z"
   },
   {
    "duration": 13,
    "start_time": "2023-02-21T05:17:53.824Z"
   },
   {
    "duration": 13,
    "start_time": "2023-02-21T05:18:02.317Z"
   },
   {
    "duration": 15,
    "start_time": "2023-02-21T05:18:29.502Z"
   },
   {
    "duration": 17,
    "start_time": "2023-02-21T05:19:16.628Z"
   },
   {
    "duration": 9,
    "start_time": "2023-02-21T05:20:14.789Z"
   },
   {
    "duration": 9,
    "start_time": "2023-02-21T05:20:25.248Z"
   },
   {
    "duration": 12,
    "start_time": "2023-02-21T05:20:47.116Z"
   },
   {
    "duration": 8,
    "start_time": "2023-02-21T05:21:05.745Z"
   },
   {
    "duration": 9,
    "start_time": "2023-02-21T05:21:11.768Z"
   },
   {
    "duration": 19,
    "start_time": "2023-02-21T05:30:31.236Z"
   },
   {
    "duration": 97,
    "start_time": "2023-02-21T05:31:16.142Z"
   },
   {
    "duration": 5,
    "start_time": "2023-02-21T05:31:43.808Z"
   },
   {
    "duration": 7,
    "start_time": "2023-02-21T05:32:05.069Z"
   },
   {
    "duration": 7,
    "start_time": "2023-02-21T05:32:18.121Z"
   },
   {
    "duration": 5,
    "start_time": "2023-02-21T05:32:28.384Z"
   },
   {
    "duration": 7,
    "start_time": "2023-02-21T05:35:31.669Z"
   },
   {
    "duration": 4,
    "start_time": "2023-02-21T05:36:57.856Z"
   },
   {
    "duration": 6,
    "start_time": "2023-02-21T05:37:21.642Z"
   },
   {
    "duration": 13,
    "start_time": "2023-02-21T05:50:52.163Z"
   },
   {
    "duration": 14,
    "start_time": "2023-02-21T05:51:49.269Z"
   },
   {
    "duration": 13,
    "start_time": "2023-02-21T05:52:07.375Z"
   },
   {
    "duration": 5,
    "start_time": "2023-02-21T05:59:57.281Z"
   },
   {
    "duration": 6,
    "start_time": "2023-02-21T06:00:00.343Z"
   },
   {
    "duration": 8,
    "start_time": "2023-02-21T06:03:08.632Z"
   },
   {
    "duration": 24,
    "start_time": "2023-02-21T06:03:18.787Z"
   },
   {
    "duration": 14,
    "start_time": "2023-02-21T06:04:15.604Z"
   },
   {
    "duration": 6,
    "start_time": "2023-02-21T06:27:28.769Z"
   },
   {
    "duration": 32,
    "start_time": "2023-02-21T06:43:44.361Z"
   },
   {
    "duration": 8,
    "start_time": "2023-02-21T06:45:41.736Z"
   },
   {
    "duration": 8,
    "start_time": "2023-02-21T06:58:34.840Z"
   },
   {
    "duration": 45,
    "start_time": "2023-02-21T06:59:45.821Z"
   },
   {
    "duration": 35,
    "start_time": "2023-02-21T06:59:59.559Z"
   },
   {
    "duration": 30,
    "start_time": "2023-02-21T07:00:07.408Z"
   },
   {
    "duration": 12,
    "start_time": "2023-02-21T07:01:52.673Z"
   },
   {
    "duration": 6,
    "start_time": "2023-02-21T07:02:12.071Z"
   },
   {
    "duration": 8,
    "start_time": "2023-02-21T07:03:20.115Z"
   },
   {
    "duration": 6,
    "start_time": "2023-02-21T07:22:55.405Z"
   },
   {
    "duration": 9,
    "start_time": "2023-02-21T07:24:10.737Z"
   },
   {
    "duration": 474,
    "start_time": "2023-02-21T07:32:41.129Z"
   },
   {
    "duration": 4,
    "start_time": "2023-02-21T07:35:01.495Z"
   },
   {
    "duration": 3,
    "start_time": "2023-02-21T07:35:19.008Z"
   },
   {
    "duration": 12,
    "start_time": "2023-02-21T07:35:29.744Z"
   },
   {
    "duration": 9,
    "start_time": "2023-02-21T07:35:42.537Z"
   },
   {
    "duration": 14,
    "start_time": "2023-02-21T07:35:45.173Z"
   },
   {
    "duration": 8,
    "start_time": "2023-02-21T07:36:23.660Z"
   },
   {
    "duration": 7,
    "start_time": "2023-02-21T07:36:30.409Z"
   },
   {
    "duration": 7,
    "start_time": "2023-02-21T07:36:57.096Z"
   },
   {
    "duration": 10,
    "start_time": "2023-02-21T07:37:16.504Z"
   },
   {
    "duration": 7,
    "start_time": "2023-02-21T07:37:26.420Z"
   },
   {
    "duration": 11,
    "start_time": "2023-02-21T07:37:44.950Z"
   },
   {
    "duration": 6,
    "start_time": "2023-02-21T07:37:53.008Z"
   },
   {
    "duration": 101,
    "start_time": "2023-02-21T07:38:10.364Z"
   },
   {
    "duration": 563,
    "start_time": "2023-02-21T12:44:12.073Z"
   },
   {
    "duration": 24,
    "start_time": "2023-02-21T12:44:13.172Z"
   },
   {
    "duration": 2412,
    "start_time": "2023-02-21T12:44:14.253Z"
   },
   {
    "duration": 9,
    "start_time": "2023-02-21T12:44:18.524Z"
   },
   {
    "duration": 7,
    "start_time": "2023-02-21T12:44:20.421Z"
   },
   {
    "duration": 17,
    "start_time": "2023-02-21T12:44:23.742Z"
   },
   {
    "duration": 21,
    "start_time": "2023-02-21T12:44:45.509Z"
   },
   {
    "duration": 12,
    "start_time": "2023-02-21T12:45:03.121Z"
   },
   {
    "duration": 7,
    "start_time": "2023-02-21T12:45:15.117Z"
   },
   {
    "duration": 9,
    "start_time": "2023-02-21T12:55:05.863Z"
   },
   {
    "duration": 7,
    "start_time": "2023-02-21T12:55:41.637Z"
   },
   {
    "duration": 16,
    "start_time": "2023-02-21T12:55:55.071Z"
   },
   {
    "duration": 12,
    "start_time": "2023-02-21T13:01:12.521Z"
   },
   {
    "duration": 7,
    "start_time": "2023-02-21T13:01:20.852Z"
   },
   {
    "duration": 8,
    "start_time": "2023-02-21T13:01:32.718Z"
   },
   {
    "duration": 8,
    "start_time": "2023-02-21T13:01:33.017Z"
   },
   {
    "duration": 7,
    "start_time": "2023-02-21T13:01:56.220Z"
   },
   {
    "duration": 4,
    "start_time": "2023-02-21T13:04:42.312Z"
   },
   {
    "duration": 4,
    "start_time": "2023-02-21T13:05:06.368Z"
   },
   {
    "duration": 13,
    "start_time": "2023-02-21T13:05:29.117Z"
   },
   {
    "duration": 7,
    "start_time": "2023-02-21T13:05:31.856Z"
   },
   {
    "duration": 11,
    "start_time": "2023-02-21T13:05:53.156Z"
   },
   {
    "duration": 7,
    "start_time": "2023-02-21T13:06:03.820Z"
   },
   {
    "duration": 14,
    "start_time": "2023-02-21T13:06:45.754Z"
   },
   {
    "duration": 6,
    "start_time": "2023-02-21T13:06:46.554Z"
   },
   {
    "duration": 107,
    "start_time": "2023-02-21T13:07:27.844Z"
   },
   {
    "duration": 15,
    "start_time": "2023-02-21T13:07:28.011Z"
   },
   {
    "duration": 2103,
    "start_time": "2023-02-21T13:07:28.170Z"
   },
   {
    "duration": 19,
    "start_time": "2023-02-21T13:07:30.275Z"
   },
   {
    "duration": 28,
    "start_time": "2023-02-21T13:07:30.296Z"
   },
   {
    "duration": 35,
    "start_time": "2023-02-21T13:07:30.326Z"
   },
   {
    "duration": 30,
    "start_time": "2023-02-21T13:07:30.363Z"
   },
   {
    "duration": 66,
    "start_time": "2023-02-21T13:07:30.394Z"
   },
   {
    "duration": 6,
    "start_time": "2023-02-21T13:07:31.063Z"
   },
   {
    "duration": 96,
    "start_time": "2023-02-21T13:08:05.104Z"
   },
   {
    "duration": 15,
    "start_time": "2023-02-21T13:08:05.259Z"
   },
   {
    "duration": 2101,
    "start_time": "2023-02-21T13:08:05.421Z"
   },
   {
    "duration": 8,
    "start_time": "2023-02-21T13:08:07.524Z"
   },
   {
    "duration": 46,
    "start_time": "2023-02-21T13:08:07.533Z"
   },
   {
    "duration": 10,
    "start_time": "2023-02-21T13:08:10.257Z"
   },
   {
    "duration": 18,
    "start_time": "2023-02-21T13:08:11.481Z"
   },
   {
    "duration": 13,
    "start_time": "2023-02-21T13:08:17.159Z"
   },
   {
    "duration": 6,
    "start_time": "2023-02-21T13:08:19.437Z"
   },
   {
    "duration": 10,
    "start_time": "2023-02-21T13:08:30.514Z"
   },
   {
    "duration": 14,
    "start_time": "2023-02-21T13:10:32.047Z"
   },
   {
    "duration": 6,
    "start_time": "2023-02-21T13:10:35.339Z"
   },
   {
    "duration": 763,
    "start_time": "2023-02-22T05:13:26.152Z"
   },
   {
    "duration": 17,
    "start_time": "2023-02-22T05:13:26.917Z"
   },
   {
    "duration": 2330,
    "start_time": "2023-02-22T05:13:26.935Z"
   },
   {
    "duration": 12,
    "start_time": "2023-02-22T05:13:29.267Z"
   },
   {
    "duration": 12,
    "start_time": "2023-02-22T05:13:29.282Z"
   },
   {
    "duration": 13,
    "start_time": "2023-02-22T05:13:30.673Z"
   },
   {
    "duration": 10,
    "start_time": "2023-02-22T05:13:31.807Z"
   },
   {
    "duration": 15,
    "start_time": "2023-02-22T05:13:35.641Z"
   },
   {
    "duration": 6,
    "start_time": "2023-02-22T05:13:36.330Z"
   },
   {
    "duration": 9,
    "start_time": "2023-02-22T05:17:30.853Z"
   },
   {
    "duration": 10,
    "start_time": "2023-02-22T05:25:32.027Z"
   },
   {
    "duration": 11,
    "start_time": "2023-02-22T05:46:18.755Z"
   },
   {
    "duration": 15,
    "start_time": "2023-02-22T05:46:30.467Z"
   },
   {
    "duration": 20,
    "start_time": "2023-02-22T05:47:09.317Z"
   },
   {
    "duration": 22,
    "start_time": "2023-02-22T05:49:10.998Z"
   },
   {
    "duration": 8,
    "start_time": "2023-02-22T05:49:22.941Z"
   },
   {
    "duration": 11,
    "start_time": "2023-02-22T05:50:09.056Z"
   },
   {
    "duration": 9,
    "start_time": "2023-02-22T05:50:43.435Z"
   },
   {
    "duration": 15,
    "start_time": "2023-02-22T05:51:18.790Z"
   },
   {
    "duration": 6,
    "start_time": "2023-02-22T05:51:26.166Z"
   },
   {
    "duration": 5,
    "start_time": "2023-02-22T05:52:13.018Z"
   },
   {
    "duration": 5,
    "start_time": "2023-02-22T05:53:00.034Z"
   },
   {
    "duration": 4,
    "start_time": "2023-02-22T05:53:39.279Z"
   },
   {
    "duration": 9,
    "start_time": "2023-02-22T05:55:03.810Z"
   },
   {
    "duration": 29,
    "start_time": "2023-02-22T05:56:28.884Z"
   },
   {
    "duration": 31,
    "start_time": "2023-02-22T05:58:44.413Z"
   },
   {
    "duration": 4,
    "start_time": "2023-02-22T05:59:51.868Z"
   },
   {
    "duration": 12,
    "start_time": "2023-02-22T05:59:54.812Z"
   },
   {
    "duration": 7,
    "start_time": "2023-02-22T06:00:51.043Z"
   },
   {
    "duration": 11,
    "start_time": "2023-02-22T06:01:11.215Z"
   },
   {
    "duration": 12,
    "start_time": "2023-02-22T06:01:36.130Z"
   },
   {
    "duration": 7,
    "start_time": "2023-02-22T06:01:52.721Z"
   },
   {
    "duration": 13,
    "start_time": "2023-02-22T06:01:53.220Z"
   },
   {
    "duration": 4,
    "start_time": "2023-02-22T06:01:54.726Z"
   },
   {
    "duration": 5,
    "start_time": "2023-02-22T06:01:59.313Z"
   },
   {
    "duration": 6,
    "start_time": "2023-02-22T06:02:00.152Z"
   },
   {
    "duration": 9,
    "start_time": "2023-02-22T06:02:08.432Z"
   },
   {
    "duration": 6,
    "start_time": "2023-02-22T06:02:09.129Z"
   },
   {
    "duration": 5,
    "start_time": "2023-02-22T06:02:10.049Z"
   },
   {
    "duration": 15,
    "start_time": "2023-02-22T06:08:07.521Z"
   },
   {
    "duration": 9,
    "start_time": "2023-02-22T06:11:01.049Z"
   },
   {
    "duration": 25,
    "start_time": "2023-02-22T06:11:10.241Z"
   },
   {
    "duration": 9,
    "start_time": "2023-02-22T06:11:35.755Z"
   },
   {
    "duration": 5,
    "start_time": "2023-02-22T06:21:38.538Z"
   },
   {
    "duration": 7,
    "start_time": "2023-02-22T06:21:57.616Z"
   },
   {
    "duration": 6,
    "start_time": "2023-02-22T06:22:54.970Z"
   },
   {
    "duration": 6,
    "start_time": "2023-02-22T06:23:15.516Z"
   },
   {
    "duration": 5,
    "start_time": "2023-02-22T06:24:23.336Z"
   },
   {
    "duration": 27,
    "start_time": "2023-02-22T06:24:54.011Z"
   },
   {
    "duration": 16,
    "start_time": "2023-02-22T06:25:40.971Z"
   },
   {
    "duration": 14,
    "start_time": "2023-02-22T06:26:02.174Z"
   },
   {
    "duration": 18,
    "start_time": "2023-02-22T06:26:08.166Z"
   },
   {
    "duration": 20,
    "start_time": "2023-02-22T06:26:14.459Z"
   },
   {
    "duration": 29,
    "start_time": "2023-02-22T06:26:19.766Z"
   },
   {
    "duration": 14,
    "start_time": "2023-02-22T06:26:43.582Z"
   },
   {
    "duration": 104,
    "start_time": "2023-02-22T06:35:24.846Z"
   },
   {
    "duration": 17,
    "start_time": "2023-02-22T06:35:57.247Z"
   },
   {
    "duration": 5,
    "start_time": "2023-02-22T06:37:25.969Z"
   },
   {
    "duration": 5,
    "start_time": "2023-02-22T06:37:37.020Z"
   },
   {
    "duration": 3,
    "start_time": "2023-02-22T06:37:49.787Z"
   },
   {
    "duration": 6,
    "start_time": "2023-02-22T06:38:18.237Z"
   },
   {
    "duration": 6,
    "start_time": "2023-02-22T06:38:30.960Z"
   },
   {
    "duration": 16,
    "start_time": "2023-02-22T06:42:03.106Z"
   },
   {
    "duration": 5,
    "start_time": "2023-02-22T06:44:35.749Z"
   },
   {
    "duration": 9,
    "start_time": "2023-02-22T06:45:22.076Z"
   },
   {
    "duration": 13,
    "start_time": "2023-02-22T07:07:21.760Z"
   },
   {
    "duration": 8,
    "start_time": "2023-02-22T07:07:52.426Z"
   },
   {
    "duration": 9,
    "start_time": "2023-02-22T07:08:08.823Z"
   },
   {
    "duration": 18,
    "start_time": "2023-02-22T07:09:44.690Z"
   },
   {
    "duration": 773,
    "start_time": "2023-02-23T07:25:53.170Z"
   },
   {
    "duration": 20,
    "start_time": "2023-02-23T07:25:54.785Z"
   },
   {
    "duration": 2314,
    "start_time": "2023-02-23T07:25:55.510Z"
   },
   {
    "duration": 13,
    "start_time": "2023-02-23T07:25:57.826Z"
   },
   {
    "duration": 9,
    "start_time": "2023-02-23T07:25:57.841Z"
   },
   {
    "duration": 12,
    "start_time": "2023-02-23T07:25:58.751Z"
   },
   {
    "duration": 10,
    "start_time": "2023-02-23T07:26:00.140Z"
   },
   {
    "duration": 17,
    "start_time": "2023-02-23T07:26:00.873Z"
   },
   {
    "duration": 10,
    "start_time": "2023-02-23T07:26:01.622Z"
   },
   {
    "duration": 16,
    "start_time": "2023-02-23T07:26:02.263Z"
   },
   {
    "duration": 10,
    "start_time": "2023-02-23T07:26:03.056Z"
   },
   {
    "duration": 9,
    "start_time": "2023-02-23T07:26:05.719Z"
   },
   {
    "duration": 4,
    "start_time": "2023-02-23T07:26:06.272Z"
   },
   {
    "duration": 4,
    "start_time": "2023-02-23T07:26:06.490Z"
   },
   {
    "duration": 4,
    "start_time": "2023-02-23T07:26:06.903Z"
   },
   {
    "duration": 4,
    "start_time": "2023-02-23T07:26:07.406Z"
   },
   {
    "duration": 5,
    "start_time": "2023-02-23T07:26:08.033Z"
   },
   {
    "duration": 6,
    "start_time": "2023-02-23T07:26:08.707Z"
   },
   {
    "duration": 353,
    "start_time": "2023-02-23T07:26:11.282Z"
   },
   {
    "duration": 462,
    "start_time": "2023-02-23T07:35:59.605Z"
   },
   {
    "duration": 10352,
    "start_time": "2023-02-23T07:58:56.824Z"
   },
   {
    "duration": 11151,
    "start_time": "2023-02-23T08:01:52.983Z"
   },
   {
    "duration": 145,
    "start_time": "2023-02-23T08:29:10.049Z"
   },
   {
    "duration": 111,
    "start_time": "2023-02-23T08:30:45.856Z"
   },
   {
    "duration": 178,
    "start_time": "2023-02-23T08:31:05.892Z"
   },
   {
    "duration": 153,
    "start_time": "2023-02-23T08:31:14.840Z"
   },
   {
    "duration": 133,
    "start_time": "2023-02-23T08:31:20.931Z"
   },
   {
    "duration": 215,
    "start_time": "2023-02-23T08:31:26.673Z"
   },
   {
    "duration": 165,
    "start_time": "2023-02-23T08:31:32.608Z"
   },
   {
    "duration": 191,
    "start_time": "2023-02-23T08:31:42.201Z"
   },
   {
    "duration": 149,
    "start_time": "2023-02-23T08:31:51.588Z"
   },
   {
    "duration": 207,
    "start_time": "2023-02-23T08:31:57.775Z"
   },
   {
    "duration": 187,
    "start_time": "2023-02-23T08:32:16.436Z"
   },
   {
    "duration": 173,
    "start_time": "2023-02-23T08:32:22.490Z"
   },
   {
    "duration": 183,
    "start_time": "2023-02-23T08:32:32.446Z"
   },
   {
    "duration": 164,
    "start_time": "2023-02-23T08:32:49.198Z"
   },
   {
    "duration": 226,
    "start_time": "2023-02-23T08:32:56.365Z"
   },
   {
    "duration": 253,
    "start_time": "2023-02-23T08:33:40.840Z"
   },
   {
    "duration": 170,
    "start_time": "2023-02-23T08:33:49.389Z"
   },
   {
    "duration": 235,
    "start_time": "2023-02-23T08:35:49.558Z"
   },
   {
    "duration": 151,
    "start_time": "2023-02-23T08:36:02.899Z"
   },
   {
    "duration": 178,
    "start_time": "2023-02-23T08:36:14.179Z"
   },
   {
    "duration": 2649,
    "start_time": "2023-02-23T08:36:46.822Z"
   },
   {
    "duration": 129,
    "start_time": "2023-02-23T08:37:57.236Z"
   },
   {
    "duration": 144,
    "start_time": "2023-02-23T08:39:21.484Z"
   },
   {
    "duration": 137,
    "start_time": "2023-02-23T08:39:43.214Z"
   },
   {
    "duration": 9,
    "start_time": "2023-02-23T08:58:32.315Z"
   },
   {
    "duration": 13,
    "start_time": "2023-02-23T08:58:40.235Z"
   },
   {
    "duration": 15,
    "start_time": "2023-02-23T09:00:41.926Z"
   },
   {
    "duration": 1516,
    "start_time": "2023-02-23T09:00:49.888Z"
   },
   {
    "duration": 13,
    "start_time": "2023-02-23T09:02:30.773Z"
   },
   {
    "duration": 1297,
    "start_time": "2023-02-23T09:04:00.139Z"
   },
   {
    "duration": 17,
    "start_time": "2023-02-23T09:04:20.893Z"
   },
   {
    "duration": 12,
    "start_time": "2023-02-23T09:05:03.877Z"
   },
   {
    "duration": 163,
    "start_time": "2023-02-23T09:05:15.435Z"
   },
   {
    "duration": 9,
    "start_time": "2023-02-23T09:12:51.739Z"
   },
   {
    "duration": 155,
    "start_time": "2023-02-23T09:12:57.138Z"
   },
   {
    "duration": 288,
    "start_time": "2023-02-23T09:13:06.812Z"
   },
   {
    "duration": 110,
    "start_time": "2023-02-23T09:13:16.784Z"
   },
   {
    "duration": 140,
    "start_time": "2023-02-23T09:13:25.398Z"
   },
   {
    "duration": 133,
    "start_time": "2023-02-23T09:14:29.273Z"
   },
   {
    "duration": 127,
    "start_time": "2023-02-23T09:14:48.601Z"
   },
   {
    "duration": 211,
    "start_time": "2023-02-23T09:15:33.039Z"
   },
   {
    "duration": 174,
    "start_time": "2023-02-23T09:15:39.409Z"
   },
   {
    "duration": 140,
    "start_time": "2023-02-23T09:16:03.103Z"
   },
   {
    "duration": 159,
    "start_time": "2023-02-23T09:16:14.684Z"
   },
   {
    "duration": 144,
    "start_time": "2023-02-23T09:16:51.338Z"
   },
   {
    "duration": 153,
    "start_time": "2023-02-23T09:17:00.025Z"
   },
   {
    "duration": 154,
    "start_time": "2023-02-23T09:17:09.674Z"
   },
   {
    "duration": 174,
    "start_time": "2023-02-23T09:17:16.759Z"
   },
   {
    "duration": 159,
    "start_time": "2023-02-23T09:18:13.656Z"
   },
   {
    "duration": 143,
    "start_time": "2023-02-23T09:18:23.661Z"
   },
   {
    "duration": 127,
    "start_time": "2023-02-23T09:18:31.336Z"
   },
   {
    "duration": 156,
    "start_time": "2023-02-23T09:19:26.507Z"
   },
   {
    "duration": 136,
    "start_time": "2023-02-23T09:19:36.767Z"
   },
   {
    "duration": 2702,
    "start_time": "2023-02-23T09:19:47.266Z"
   },
   {
    "duration": 2926,
    "start_time": "2023-02-23T09:20:39.552Z"
   },
   {
    "duration": 361,
    "start_time": "2023-02-23T09:20:48.953Z"
   },
   {
    "duration": 367,
    "start_time": "2023-02-23T09:20:55.333Z"
   },
   {
    "duration": 138,
    "start_time": "2023-02-23T09:21:01.709Z"
   },
   {
    "duration": 141,
    "start_time": "2023-02-23T09:21:26.683Z"
   },
   {
    "duration": 194,
    "start_time": "2023-02-23T09:21:36.356Z"
   },
   {
    "duration": 158,
    "start_time": "2023-02-23T09:22:21.569Z"
   },
   {
    "duration": 141,
    "start_time": "2023-02-23T09:22:33.733Z"
   },
   {
    "duration": 147,
    "start_time": "2023-02-23T09:22:35.799Z"
   },
   {
    "duration": 153,
    "start_time": "2023-02-23T09:22:45.815Z"
   },
   {
    "duration": 160,
    "start_time": "2023-02-23T09:22:55.875Z"
   },
   {
    "duration": 144,
    "start_time": "2023-02-23T09:23:04.586Z"
   },
   {
    "duration": 135,
    "start_time": "2023-02-23T09:23:41.641Z"
   },
   {
    "duration": 148,
    "start_time": "2023-02-23T09:23:50.776Z"
   },
   {
    "duration": 167,
    "start_time": "2023-02-23T09:24:21.416Z"
   },
   {
    "duration": 104,
    "start_time": "2023-02-23T09:24:26.703Z"
   },
   {
    "duration": 121,
    "start_time": "2023-02-23T09:24:34.852Z"
   },
   {
    "duration": 139,
    "start_time": "2023-02-23T09:24:55.895Z"
   },
   {
    "duration": 143,
    "start_time": "2023-02-23T09:25:03.271Z"
   },
   {
    "duration": 129,
    "start_time": "2023-02-23T09:25:52.679Z"
   },
   {
    "duration": 117,
    "start_time": "2023-02-23T09:26:19.650Z"
   },
   {
    "duration": 144,
    "start_time": "2023-02-23T09:26:57.494Z"
   },
   {
    "duration": 143,
    "start_time": "2023-02-23T09:28:02.855Z"
   },
   {
    "duration": 157,
    "start_time": "2023-02-23T09:28:10.995Z"
   },
   {
    "duration": 129,
    "start_time": "2023-02-23T09:28:22.037Z"
   },
   {
    "duration": 1206,
    "start_time": "2023-02-23T09:29:08.419Z"
   },
   {
    "duration": 479,
    "start_time": "2023-02-23T09:29:21.915Z"
   },
   {
    "duration": 8,
    "start_time": "2023-02-23T09:32:44.449Z"
   },
   {
    "duration": 145,
    "start_time": "2023-02-23T09:33:00.351Z"
   },
   {
    "duration": 146,
    "start_time": "2023-02-23T09:33:09.280Z"
   },
   {
    "duration": 18,
    "start_time": "2023-02-23T09:33:26.414Z"
   },
   {
    "duration": 16,
    "start_time": "2023-02-23T09:34:05.929Z"
   },
   {
    "duration": 16,
    "start_time": "2023-02-23T09:34:10.775Z"
   },
   {
    "duration": 177,
    "start_time": "2023-02-23T09:35:07.293Z"
   },
   {
    "duration": 216,
    "start_time": "2023-02-23T09:35:42.756Z"
   },
   {
    "duration": 193,
    "start_time": "2023-02-23T09:35:51.789Z"
   },
   {
    "duration": 175,
    "start_time": "2023-02-23T09:36:00.271Z"
   },
   {
    "duration": 226,
    "start_time": "2023-02-23T09:37:19.292Z"
   },
   {
    "duration": 233,
    "start_time": "2023-02-23T09:37:29.546Z"
   },
   {
    "duration": 185,
    "start_time": "2023-02-23T09:38:54.542Z"
   },
   {
    "duration": 675,
    "start_time": "2023-02-24T08:02:01.079Z"
   },
   {
    "duration": 23,
    "start_time": "2023-02-24T08:02:01.756Z"
   },
   {
    "duration": 2692,
    "start_time": "2023-02-24T08:02:01.781Z"
   },
   {
    "duration": 12,
    "start_time": "2023-02-24T08:02:04.475Z"
   },
   {
    "duration": 16,
    "start_time": "2023-02-24T08:02:04.489Z"
   },
   {
    "duration": 21,
    "start_time": "2023-02-24T08:02:04.507Z"
   },
   {
    "duration": 12,
    "start_time": "2023-02-24T08:02:04.530Z"
   },
   {
    "duration": 20,
    "start_time": "2023-02-24T08:02:04.545Z"
   },
   {
    "duration": 21,
    "start_time": "2023-02-24T08:02:04.567Z"
   },
   {
    "duration": 16,
    "start_time": "2023-02-24T08:02:04.591Z"
   },
   {
    "duration": 36,
    "start_time": "2023-02-24T08:02:04.610Z"
   },
   {
    "duration": 6,
    "start_time": "2023-02-24T08:02:04.648Z"
   },
   {
    "duration": 14,
    "start_time": "2023-02-24T08:02:04.656Z"
   },
   {
    "duration": 5,
    "start_time": "2023-02-24T08:02:04.673Z"
   },
   {
    "duration": 6,
    "start_time": "2023-02-24T08:02:04.681Z"
   },
   {
    "duration": 5,
    "start_time": "2023-02-24T08:02:04.689Z"
   },
   {
    "duration": 44,
    "start_time": "2023-02-24T08:02:04.696Z"
   },
   {
    "duration": 6,
    "start_time": "2023-02-24T08:02:04.999Z"
   },
   {
    "duration": 8,
    "start_time": "2023-02-24T08:02:05.179Z"
   },
   {
    "duration": 12,
    "start_time": "2023-02-24T08:02:05.364Z"
   },
   {
    "duration": 13598,
    "start_time": "2023-02-24T08:02:05.566Z"
   },
   {
    "duration": 6,
    "start_time": "2023-02-24T08:02:19.167Z"
   },
   {
    "duration": 192,
    "start_time": "2023-02-24T08:02:19.370Z"
   },
   {
    "duration": 169,
    "start_time": "2023-02-24T08:02:19.564Z"
   },
   {
    "duration": 168,
    "start_time": "2023-02-24T08:02:19.735Z"
   },
   {
    "duration": 259,
    "start_time": "2023-02-24T08:02:19.904Z"
   },
   {
    "duration": 177,
    "start_time": "2023-02-24T08:02:20.165Z"
   },
   {
    "duration": 180,
    "start_time": "2023-02-24T08:02:20.343Z"
   },
   {
    "duration": 170,
    "start_time": "2023-02-24T08:02:20.526Z"
   },
   {
    "duration": 150,
    "start_time": "2023-02-24T08:02:20.698Z"
   },
   {
    "duration": 132,
    "start_time": "2023-02-24T08:02:20.850Z"
   },
   {
    "duration": 158,
    "start_time": "2023-02-24T08:02:20.984Z"
   },
   {
    "duration": 162,
    "start_time": "2023-02-24T08:02:21.144Z"
   },
   {
    "duration": 204,
    "start_time": "2023-02-24T08:02:21.308Z"
   },
   {
    "duration": 192,
    "start_time": "2023-02-24T08:02:21.515Z"
   },
   {
    "duration": 178,
    "start_time": "2023-02-24T08:02:21.709Z"
   },
   {
    "duration": 348,
    "start_time": "2023-02-24T08:02:21.889Z"
   },
   {
    "duration": 193,
    "start_time": "2023-02-24T08:02:22.239Z"
   },
   {
    "duration": 199,
    "start_time": "2023-02-24T08:02:22.433Z"
   },
   {
    "duration": 12,
    "start_time": "2023-02-24T08:02:26.105Z"
   },
   {
    "duration": 6,
    "start_time": "2023-02-24T08:02:27.432Z"
   },
   {
    "duration": 20,
    "start_time": "2023-02-24T08:02:28.749Z"
   },
   {
    "duration": 11,
    "start_time": "2023-02-24T08:02:30.031Z"
   },
   {
    "duration": 15,
    "start_time": "2023-02-24T08:02:30.554Z"
   },
   {
    "duration": 17,
    "start_time": "2023-02-24T08:02:31.124Z"
   },
   {
    "duration": 18,
    "start_time": "2023-02-24T08:02:32.063Z"
   },
   {
    "duration": 12,
    "start_time": "2023-02-24T08:02:32.868Z"
   },
   {
    "duration": 6,
    "start_time": "2023-02-24T08:02:33.600Z"
   },
   {
    "duration": 5,
    "start_time": "2023-02-24T08:02:34.200Z"
   },
   {
    "duration": 6,
    "start_time": "2023-02-24T08:02:34.631Z"
   },
   {
    "duration": 6,
    "start_time": "2023-02-24T08:02:34.950Z"
   },
   {
    "duration": 6,
    "start_time": "2023-02-24T08:02:35.218Z"
   },
   {
    "duration": 5,
    "start_time": "2023-02-24T08:02:35.531Z"
   },
   {
    "duration": 5,
    "start_time": "2023-02-24T08:02:36.823Z"
   },
   {
    "duration": 6,
    "start_time": "2023-02-24T08:02:38.655Z"
   },
   {
    "duration": 10,
    "start_time": "2023-02-24T08:02:39.940Z"
   },
   {
    "duration": 13082,
    "start_time": "2023-02-24T08:02:40.560Z"
   },
   {
    "duration": 5,
    "start_time": "2023-02-24T08:02:53.644Z"
   },
   {
    "duration": 203,
    "start_time": "2023-02-24T08:02:53.650Z"
   },
   {
    "duration": 207,
    "start_time": "2023-02-24T08:02:53.857Z"
   },
   {
    "duration": 176,
    "start_time": "2023-02-24T08:02:54.066Z"
   },
   {
    "duration": 170,
    "start_time": "2023-02-24T08:02:54.243Z"
   },
   {
    "duration": 172,
    "start_time": "2023-02-24T08:02:54.416Z"
   },
   {
    "duration": 184,
    "start_time": "2023-02-24T08:02:54.590Z"
   },
   {
    "duration": 171,
    "start_time": "2023-02-24T08:02:54.777Z"
   },
   {
    "duration": 180,
    "start_time": "2023-02-24T08:02:54.952Z"
   },
   {
    "duration": 281,
    "start_time": "2023-02-24T08:02:55.135Z"
   },
   {
    "duration": 145,
    "start_time": "2023-02-24T08:02:55.419Z"
   },
   {
    "duration": 186,
    "start_time": "2023-02-24T08:02:55.566Z"
   },
   {
    "duration": 175,
    "start_time": "2023-02-24T08:02:55.754Z"
   },
   {
    "duration": 176,
    "start_time": "2023-02-24T08:02:55.931Z"
   },
   {
    "duration": 191,
    "start_time": "2023-02-24T08:02:56.109Z"
   },
   {
    "duration": 168,
    "start_time": "2023-02-24T08:02:56.301Z"
   },
   {
    "duration": 166,
    "start_time": "2023-02-24T08:02:56.471Z"
   },
   {
    "duration": 182,
    "start_time": "2023-02-24T08:02:56.640Z"
   },
   {
    "duration": 221,
    "start_time": "2023-02-24T08:02:56.824Z"
   },
   {
    "duration": 190,
    "start_time": "2023-02-24T08:07:12.478Z"
   },
   {
    "duration": 214,
    "start_time": "2023-02-24T08:07:39.550Z"
   },
   {
    "duration": 211,
    "start_time": "2023-02-24T08:08:00.584Z"
   },
   {
    "duration": 258,
    "start_time": "2023-02-24T08:08:26.400Z"
   },
   {
    "duration": 198,
    "start_time": "2023-02-24T08:09:24.012Z"
   },
   {
    "duration": 243,
    "start_time": "2023-02-24T08:09:27.036Z"
   },
   {
    "duration": 235,
    "start_time": "2023-02-24T08:09:48.111Z"
   },
   {
    "duration": 74,
    "start_time": "2023-02-24T08:13:55.221Z"
   },
   {
    "duration": 10,
    "start_time": "2023-02-24T08:14:14.755Z"
   },
   {
    "duration": 12,
    "start_time": "2023-02-24T08:14:18.756Z"
   },
   {
    "duration": 19,
    "start_time": "2023-02-24T08:14:41.689Z"
   },
   {
    "duration": 19,
    "start_time": "2023-02-24T08:16:51.256Z"
   },
   {
    "duration": 17,
    "start_time": "2023-02-24T08:17:07.551Z"
   },
   {
    "duration": 14,
    "start_time": "2023-02-24T08:17:16.122Z"
   },
   {
    "duration": 19,
    "start_time": "2023-02-24T08:17:50.876Z"
   },
   {
    "duration": 18,
    "start_time": "2023-02-24T08:18:04.940Z"
   },
   {
    "duration": 16,
    "start_time": "2023-02-24T08:19:55.564Z"
   },
   {
    "duration": 4,
    "start_time": "2023-02-24T08:20:04.453Z"
   },
   {
    "duration": 5,
    "start_time": "2023-02-24T08:20:16.011Z"
   },
   {
    "duration": 15,
    "start_time": "2023-02-24T08:22:07.596Z"
   },
   {
    "duration": 1634,
    "start_time": "2023-02-24T08:24:39.420Z"
   },
   {
    "duration": 19,
    "start_time": "2023-02-24T08:24:47.578Z"
   },
   {
    "duration": 16,
    "start_time": "2023-02-24T08:24:53.999Z"
   },
   {
    "duration": 15,
    "start_time": "2023-02-24T08:25:59.190Z"
   },
   {
    "duration": 1650,
    "start_time": "2023-02-24T08:26:38.453Z"
   },
   {
    "duration": 37,
    "start_time": "2023-02-24T08:27:43.413Z"
   },
   {
    "duration": 31,
    "start_time": "2023-02-24T08:27:53.790Z"
   },
   {
    "duration": 102,
    "start_time": "2023-02-24T08:28:10.354Z"
   },
   {
    "duration": 22,
    "start_time": "2023-02-24T08:28:42.216Z"
   },
   {
    "duration": 21,
    "start_time": "2023-02-24T08:31:48.390Z"
   },
   {
    "duration": 21,
    "start_time": "2023-02-24T08:31:54.392Z"
   },
   {
    "duration": 23,
    "start_time": "2023-02-24T08:32:18.430Z"
   },
   {
    "duration": 1396,
    "start_time": "2023-02-24T08:33:58.268Z"
   },
   {
    "duration": 1235,
    "start_time": "2023-02-24T08:34:06.396Z"
   },
   {
    "duration": 100,
    "start_time": "2023-02-24T08:34:23.569Z"
   },
   {
    "duration": 1427,
    "start_time": "2023-02-24T08:34:28.967Z"
   },
   {
    "duration": 765,
    "start_time": "2023-02-24T08:35:50.412Z"
   },
   {
    "duration": 736,
    "start_time": "2023-02-24T08:35:56.184Z"
   },
   {
    "duration": 782,
    "start_time": "2023-02-24T08:36:25.598Z"
   },
   {
    "duration": 772,
    "start_time": "2023-02-24T08:36:32.333Z"
   },
   {
    "duration": 885,
    "start_time": "2023-02-24T08:36:58.378Z"
   },
   {
    "duration": 699,
    "start_time": "2023-02-24T08:37:12.577Z"
   },
   {
    "duration": 802,
    "start_time": "2023-02-24T08:37:47.918Z"
   },
   {
    "duration": 720,
    "start_time": "2023-02-24T08:37:54.859Z"
   },
   {
    "duration": 717,
    "start_time": "2023-02-24T08:38:27.968Z"
   },
   {
    "duration": 870,
    "start_time": "2023-02-24T08:38:50.312Z"
   },
   {
    "duration": 1254,
    "start_time": "2023-02-24T08:39:23.906Z"
   },
   {
    "duration": 1394,
    "start_time": "2023-02-24T08:39:59.551Z"
   },
   {
    "duration": 1123,
    "start_time": "2023-02-24T08:40:13.876Z"
   },
   {
    "duration": 1165,
    "start_time": "2023-02-24T08:40:56.592Z"
   },
   {
    "duration": 1138,
    "start_time": "2023-02-24T08:41:39.528Z"
   },
   {
    "duration": 1170,
    "start_time": "2023-02-24T08:42:10.509Z"
   },
   {
    "duration": 1181,
    "start_time": "2023-02-24T08:42:59.174Z"
   },
   {
    "duration": 110,
    "start_time": "2023-02-24T08:44:26.963Z"
   },
   {
    "duration": 109,
    "start_time": "2023-02-24T08:44:51.666Z"
   },
   {
    "duration": 19,
    "start_time": "2023-02-24T08:45:00.703Z"
   },
   {
    "duration": 2674,
    "start_time": "2023-02-24T08:46:07.086Z"
   },
   {
    "duration": 2631,
    "start_time": "2023-02-24T08:46:36.513Z"
   },
   {
    "duration": 2688,
    "start_time": "2023-02-24T08:46:58.803Z"
   },
   {
    "duration": 2702,
    "start_time": "2023-02-24T08:47:45.159Z"
   },
   {
    "duration": 1150,
    "start_time": "2023-02-24T08:48:33.949Z"
   },
   {
    "duration": 1171,
    "start_time": "2023-02-24T08:48:42.582Z"
   },
   {
    "duration": 1219,
    "start_time": "2023-02-24T08:48:48.109Z"
   },
   {
    "duration": 1148,
    "start_time": "2023-02-24T08:50:53.508Z"
   },
   {
    "duration": 99,
    "start_time": "2023-02-24T08:55:33.512Z"
   },
   {
    "duration": 1157,
    "start_time": "2023-02-24T08:56:07.397Z"
   },
   {
    "duration": 1076,
    "start_time": "2023-02-24T08:56:14.714Z"
   },
   {
    "duration": 1444,
    "start_time": "2023-02-24T08:56:27.667Z"
   },
   {
    "duration": 2768,
    "start_time": "2023-02-24T08:56:49.393Z"
   },
   {
    "duration": 1161,
    "start_time": "2023-02-24T08:57:28.607Z"
   },
   {
    "duration": 1402,
    "start_time": "2023-02-24T08:59:25.463Z"
   },
   {
    "duration": 1214,
    "start_time": "2023-02-24T08:59:36.239Z"
   },
   {
    "duration": 1379,
    "start_time": "2023-02-24T09:00:10.479Z"
   },
   {
    "duration": 21,
    "start_time": "2023-02-24T09:00:55.446Z"
   },
   {
    "duration": 17,
    "start_time": "2023-02-24T09:01:31.792Z"
   },
   {
    "duration": 1380,
    "start_time": "2023-02-24T09:01:40.287Z"
   },
   {
    "duration": 1612,
    "start_time": "2023-02-24T09:03:55.748Z"
   },
   {
    "duration": 1668,
    "start_time": "2023-02-24T09:06:10.611Z"
   },
   {
    "duration": 100,
    "start_time": "2023-02-24T09:06:32.303Z"
   },
   {
    "duration": 1566,
    "start_time": "2023-02-24T09:06:36.876Z"
   },
   {
    "duration": 1682,
    "start_time": "2023-02-24T09:07:56.408Z"
   },
   {
    "duration": 1533,
    "start_time": "2023-02-24T09:08:12.971Z"
   },
   {
    "duration": 1093,
    "start_time": "2023-02-24T09:10:02.269Z"
   },
   {
    "duration": 1147,
    "start_time": "2023-02-24T09:10:12.762Z"
   },
   {
    "duration": 1143,
    "start_time": "2023-02-24T09:10:28.000Z"
   },
   {
    "duration": 1110,
    "start_time": "2023-02-24T09:14:44.932Z"
   },
   {
    "duration": 1096,
    "start_time": "2023-02-24T09:15:23.644Z"
   },
   {
    "duration": 1088,
    "start_time": "2023-02-24T09:16:14.895Z"
   },
   {
    "duration": 1106,
    "start_time": "2023-02-24T09:18:15.237Z"
   },
   {
    "duration": 1094,
    "start_time": "2023-02-24T09:19:25.770Z"
   },
   {
    "duration": 1128,
    "start_time": "2023-02-24T09:19:57.087Z"
   },
   {
    "duration": 1121,
    "start_time": "2023-02-24T09:21:49.968Z"
   },
   {
    "duration": 1126,
    "start_time": "2023-02-24T09:23:26.454Z"
   },
   {
    "duration": 9,
    "start_time": "2023-02-24T09:26:28.766Z"
   },
   {
    "duration": 14,
    "start_time": "2023-02-24T09:26:47.435Z"
   },
   {
    "duration": 11,
    "start_time": "2023-02-24T09:27:33.724Z"
   },
   {
    "duration": 20,
    "start_time": "2023-02-24T09:27:51.434Z"
   },
   {
    "duration": 1249,
    "start_time": "2023-02-24T09:45:50.004Z"
   },
   {
    "duration": 1112,
    "start_time": "2023-02-24T09:46:05.468Z"
   },
   {
    "duration": 1144,
    "start_time": "2023-02-24T09:46:15.796Z"
   },
   {
    "duration": 116,
    "start_time": "2023-02-24T09:46:38.022Z"
   },
   {
    "duration": 20,
    "start_time": "2023-02-24T09:46:38.492Z"
   },
   {
    "duration": 2317,
    "start_time": "2023-02-24T09:46:38.932Z"
   },
   {
    "duration": 10,
    "start_time": "2023-02-24T09:46:41.251Z"
   },
   {
    "duration": 13,
    "start_time": "2023-02-24T09:46:41.262Z"
   },
   {
    "duration": 16,
    "start_time": "2023-02-24T09:46:41.277Z"
   },
   {
    "duration": 14,
    "start_time": "2023-02-24T09:46:41.803Z"
   },
   {
    "duration": 21,
    "start_time": "2023-02-24T09:46:42.241Z"
   },
   {
    "duration": 18,
    "start_time": "2023-02-24T09:46:42.707Z"
   },
   {
    "duration": 9,
    "start_time": "2023-02-24T09:46:43.123Z"
   },
   {
    "duration": 10,
    "start_time": "2023-02-24T09:46:43.545Z"
   },
   {
    "duration": 5,
    "start_time": "2023-02-24T09:46:43.949Z"
   },
   {
    "duration": 8,
    "start_time": "2023-02-24T09:46:44.515Z"
   },
   {
    "duration": 7,
    "start_time": "2023-02-24T09:46:44.828Z"
   },
   {
    "duration": 6,
    "start_time": "2023-02-24T09:46:45.110Z"
   },
   {
    "duration": 6,
    "start_time": "2023-02-24T09:46:45.335Z"
   },
   {
    "duration": 6,
    "start_time": "2023-02-24T09:46:45.597Z"
   },
   {
    "duration": 7,
    "start_time": "2023-02-24T09:46:46.405Z"
   },
   {
    "duration": 7,
    "start_time": "2023-02-24T09:46:46.663Z"
   },
   {
    "duration": 9,
    "start_time": "2023-02-24T09:46:46.912Z"
   },
   {
    "duration": 13837,
    "start_time": "2023-02-24T09:46:47.150Z"
   },
   {
    "duration": 5,
    "start_time": "2023-02-24T09:47:00.990Z"
   },
   {
    "duration": 182,
    "start_time": "2023-02-24T09:47:00.996Z"
   },
   {
    "duration": 177,
    "start_time": "2023-02-24T09:47:01.181Z"
   },
   {
    "duration": 171,
    "start_time": "2023-02-24T09:47:01.360Z"
   },
   {
    "duration": 169,
    "start_time": "2023-02-24T09:47:01.532Z"
   },
   {
    "duration": 190,
    "start_time": "2023-02-24T09:47:01.703Z"
   },
   {
    "duration": 192,
    "start_time": "2023-02-24T09:47:01.895Z"
   },
   {
    "duration": 350,
    "start_time": "2023-02-24T09:47:02.090Z"
   },
   {
    "duration": 170,
    "start_time": "2023-02-24T09:47:02.442Z"
   },
   {
    "duration": 164,
    "start_time": "2023-02-24T09:47:02.614Z"
   },
   {
    "duration": 137,
    "start_time": "2023-02-24T09:47:02.779Z"
   },
   {
    "duration": 197,
    "start_time": "2023-02-24T09:47:02.919Z"
   },
   {
    "duration": 170,
    "start_time": "2023-02-24T09:47:03.118Z"
   },
   {
    "duration": 165,
    "start_time": "2023-02-24T09:47:03.290Z"
   },
   {
    "duration": 190,
    "start_time": "2023-02-24T09:47:03.457Z"
   },
   {
    "duration": 181,
    "start_time": "2023-02-24T09:47:03.649Z"
   },
   {
    "duration": 159,
    "start_time": "2023-02-24T09:47:03.840Z"
   },
   {
    "duration": 173,
    "start_time": "2023-02-24T09:47:04.000Z"
   },
   {
    "duration": 216,
    "start_time": "2023-02-24T09:47:04.174Z"
   },
   {
    "duration": 218,
    "start_time": "2023-02-24T09:47:04.392Z"
   },
   {
    "duration": 232,
    "start_time": "2023-02-24T09:47:04.612Z"
   },
   {
    "duration": 219,
    "start_time": "2023-02-24T09:47:04.846Z"
   },
   {
    "duration": 229,
    "start_time": "2023-02-24T09:47:05.067Z"
   },
   {
    "duration": 238,
    "start_time": "2023-02-24T09:47:05.298Z"
   },
   {
    "duration": 220,
    "start_time": "2023-02-24T09:47:05.537Z"
   },
   {
    "duration": 226,
    "start_time": "2023-02-24T09:47:05.759Z"
   },
   {
    "duration": 1231,
    "start_time": "2023-02-24T09:47:05.988Z"
   },
   {
    "duration": 0,
    "start_time": "2023-02-24T09:47:07.221Z"
   },
   {
    "duration": 1230,
    "start_time": "2023-02-24T09:47:26.589Z"
   },
   {
    "duration": 1219,
    "start_time": "2023-02-24T09:47:43.880Z"
   },
   {
    "duration": 1220,
    "start_time": "2023-02-24T09:47:59.184Z"
   },
   {
    "duration": 2479,
    "start_time": "2023-02-24T09:49:59.636Z"
   },
   {
    "duration": 2569,
    "start_time": "2023-02-24T09:50:26.914Z"
   },
   {
    "duration": 2399,
    "start_time": "2023-02-24T09:50:49.273Z"
   },
   {
    "duration": 2380,
    "start_time": "2023-02-24T09:51:12.684Z"
   },
   {
    "duration": 2527,
    "start_time": "2023-02-24T09:51:48.944Z"
   },
   {
    "duration": 2490,
    "start_time": "2023-02-24T09:52:05.209Z"
   },
   {
    "duration": 2477,
    "start_time": "2023-02-24T09:52:16.432Z"
   },
   {
    "duration": 9,
    "start_time": "2023-02-24T09:52:49.557Z"
   },
   {
    "duration": 1300,
    "start_time": "2023-02-24T09:53:44.644Z"
   },
   {
    "duration": 1449,
    "start_time": "2023-02-24T09:55:54.721Z"
   },
   {
    "duration": 0,
    "start_time": "2023-02-24T09:55:56.171Z"
   },
   {
    "duration": 1361,
    "start_time": "2023-02-24T09:56:13.012Z"
   },
   {
    "duration": 1429,
    "start_time": "2023-02-24T09:56:25.637Z"
   },
   {
    "duration": 1312,
    "start_time": "2023-02-24T09:57:21.256Z"
   },
   {
    "duration": 1238,
    "start_time": "2023-02-24T09:57:51.260Z"
   },
   {
    "duration": 1288,
    "start_time": "2023-02-24T09:58:41.266Z"
   },
   {
    "duration": 1343,
    "start_time": "2023-02-24T09:58:48.528Z"
   },
   {
    "duration": 10,
    "start_time": "2023-02-24T09:58:54.490Z"
   },
   {
    "duration": 31,
    "start_time": "2023-02-24T09:59:15.472Z"
   },
   {
    "duration": 27,
    "start_time": "2023-02-24T10:00:42.138Z"
   },
   {
    "duration": 11,
    "start_time": "2023-02-24T10:01:09.945Z"
   },
   {
    "duration": 28,
    "start_time": "2023-02-24T10:01:25.979Z"
   },
   {
    "duration": 17,
    "start_time": "2023-02-24T10:02:23.711Z"
   },
   {
    "duration": 32,
    "start_time": "2023-02-24T10:02:30.613Z"
   },
   {
    "duration": 28,
    "start_time": "2023-02-24T10:03:28.593Z"
   },
   {
    "duration": 14,
    "start_time": "2023-02-24T10:03:54.189Z"
   },
   {
    "duration": 10,
    "start_time": "2023-02-24T10:05:36.966Z"
   },
   {
    "duration": 27,
    "start_time": "2023-02-24T10:06:11.977Z"
   },
   {
    "duration": 27,
    "start_time": "2023-02-24T10:07:18.795Z"
   },
   {
    "duration": 17,
    "start_time": "2023-02-24T10:08:24.568Z"
   },
   {
    "duration": 61,
    "start_time": "2023-02-24T12:32:53.756Z"
   },
   {
    "duration": 776,
    "start_time": "2023-02-24T12:33:19.984Z"
   },
   {
    "duration": 17,
    "start_time": "2023-02-24T12:33:20.763Z"
   },
   {
    "duration": 2706,
    "start_time": "2023-02-24T12:33:20.782Z"
   },
   {
    "duration": 10,
    "start_time": "2023-02-24T12:33:23.490Z"
   },
   {
    "duration": 12,
    "start_time": "2023-02-24T12:33:23.502Z"
   },
   {
    "duration": 7,
    "start_time": "2023-02-24T12:33:25.017Z"
   },
   {
    "duration": 10,
    "start_time": "2023-02-24T12:35:43.125Z"
   },
   {
    "duration": 54,
    "start_time": "2023-02-24T12:36:22.072Z"
   },
   {
    "duration": 17,
    "start_time": "2023-02-24T12:36:30.436Z"
   },
   {
    "duration": 10,
    "start_time": "2023-02-24T12:38:15.690Z"
   },
   {
    "duration": 10,
    "start_time": "2023-02-24T12:38:24.784Z"
   },
   {
    "duration": 9,
    "start_time": "2023-02-24T12:38:33.167Z"
   },
   {
    "duration": 14,
    "start_time": "2023-02-24T12:38:48.683Z"
   },
   {
    "duration": 83,
    "start_time": "2023-02-24T12:39:50.624Z"
   },
   {
    "duration": 87,
    "start_time": "2023-02-24T12:41:31.501Z"
   },
   {
    "duration": 92,
    "start_time": "2023-02-24T12:41:48.942Z"
   },
   {
    "duration": 90,
    "start_time": "2023-02-24T12:42:19.473Z"
   },
   {
    "duration": 11,
    "start_time": "2023-02-24T12:42:29.777Z"
   },
   {
    "duration": 94,
    "start_time": "2023-02-24T12:42:51.300Z"
   },
   {
    "duration": 90,
    "start_time": "2023-02-24T12:45:20.673Z"
   },
   {
    "duration": 206,
    "start_time": "2023-02-24T12:48:30.151Z"
   },
   {
    "duration": 109,
    "start_time": "2023-02-24T12:49:10.332Z"
   },
   {
    "duration": 202,
    "start_time": "2023-02-24T12:49:21.030Z"
   },
   {
    "duration": 167,
    "start_time": "2023-02-24T12:49:39.146Z"
   },
   {
    "duration": 116,
    "start_time": "2023-02-24T12:52:00.223Z"
   },
   {
    "duration": 168,
    "start_time": "2023-02-24T12:52:10.575Z"
   },
   {
    "duration": 204,
    "start_time": "2023-02-24T12:53:53.943Z"
   },
   {
    "duration": 253,
    "start_time": "2023-02-24T12:54:01.067Z"
   },
   {
    "duration": 170,
    "start_time": "2023-02-24T12:54:08.098Z"
   },
   {
    "duration": 200,
    "start_time": "2023-02-24T12:54:14.545Z"
   },
   {
    "duration": 170,
    "start_time": "2023-02-24T12:54:21.581Z"
   },
   {
    "duration": 164,
    "start_time": "2023-02-24T12:54:31.678Z"
   },
   {
    "duration": 161,
    "start_time": "2023-02-24T12:54:41.448Z"
   },
   {
    "duration": 150,
    "start_time": "2023-02-24T12:54:48.238Z"
   },
   {
    "duration": 1483,
    "start_time": "2023-02-24T12:55:09.874Z"
   },
   {
    "duration": 110,
    "start_time": "2023-02-24T12:55:28.350Z"
   },
   {
    "duration": 21,
    "start_time": "2023-02-24T12:55:28.832Z"
   },
   {
    "duration": 2122,
    "start_time": "2023-02-24T12:55:29.108Z"
   },
   {
    "duration": 13,
    "start_time": "2023-02-24T12:55:31.236Z"
   },
   {
    "duration": 18,
    "start_time": "2023-02-24T12:55:31.250Z"
   },
   {
    "duration": 11,
    "start_time": "2023-02-24T12:55:31.270Z"
   },
   {
    "duration": 12,
    "start_time": "2023-02-24T12:55:32.033Z"
   },
   {
    "duration": 13,
    "start_time": "2023-02-24T12:55:33.436Z"
   },
   {
    "duration": 23,
    "start_time": "2023-02-24T12:55:33.649Z"
   },
   {
    "duration": 14,
    "start_time": "2023-02-24T12:55:34.224Z"
   },
   {
    "duration": 18,
    "start_time": "2023-02-24T12:55:34.622Z"
   },
   {
    "duration": 7,
    "start_time": "2023-02-24T12:55:34.780Z"
   },
   {
    "duration": 16,
    "start_time": "2023-02-24T12:55:34.995Z"
   },
   {
    "duration": 4,
    "start_time": "2023-02-24T12:55:35.274Z"
   },
   {
    "duration": 15,
    "start_time": "2023-02-24T12:55:35.502Z"
   },
   {
    "duration": 7,
    "start_time": "2023-02-24T12:55:35.723Z"
   },
   {
    "duration": 5,
    "start_time": "2023-02-24T12:55:35.931Z"
   },
   {
    "duration": 4,
    "start_time": "2023-02-24T12:55:36.088Z"
   },
   {
    "duration": 5,
    "start_time": "2023-02-24T12:55:36.260Z"
   },
   {
    "duration": 4,
    "start_time": "2023-02-24T12:55:36.990Z"
   },
   {
    "duration": 6,
    "start_time": "2023-02-24T12:55:37.183Z"
   },
   {
    "duration": 8,
    "start_time": "2023-02-24T12:55:37.376Z"
   },
   {
    "duration": 13379,
    "start_time": "2023-02-24T12:55:37.550Z"
   },
   {
    "duration": 7,
    "start_time": "2023-02-24T12:55:50.931Z"
   },
   {
    "duration": 177,
    "start_time": "2023-02-24T12:55:50.939Z"
   },
   {
    "duration": 177,
    "start_time": "2023-02-24T12:55:51.119Z"
   },
   {
    "duration": 170,
    "start_time": "2023-02-24T12:55:51.298Z"
   },
   {
    "duration": 178,
    "start_time": "2023-02-24T12:55:51.470Z"
   },
   {
    "duration": 169,
    "start_time": "2023-02-24T12:55:51.650Z"
   },
   {
    "duration": 165,
    "start_time": "2023-02-24T12:55:51.820Z"
   },
   {
    "duration": 282,
    "start_time": "2023-02-24T12:55:51.987Z"
   },
   {
    "duration": 156,
    "start_time": "2023-02-24T12:55:52.272Z"
   },
   {
    "duration": 155,
    "start_time": "2023-02-24T12:55:52.437Z"
   },
   {
    "duration": 159,
    "start_time": "2023-02-24T12:55:52.594Z"
   },
   {
    "duration": 147,
    "start_time": "2023-02-24T12:55:52.755Z"
   },
   {
    "duration": 179,
    "start_time": "2023-02-24T12:55:52.903Z"
   },
   {
    "duration": 192,
    "start_time": "2023-02-24T12:55:53.083Z"
   },
   {
    "duration": 155,
    "start_time": "2023-02-24T12:55:53.277Z"
   },
   {
    "duration": 165,
    "start_time": "2023-02-24T12:56:11.735Z"
   },
   {
    "duration": 165,
    "start_time": "2023-02-24T12:56:21.178Z"
   },
   {
    "duration": 161,
    "start_time": "2023-02-24T12:56:27.780Z"
   },
   {
    "duration": 199,
    "start_time": "2023-02-24T12:56:33.841Z"
   },
   {
    "duration": 150,
    "start_time": "2023-02-24T12:56:41.626Z"
   },
   {
    "duration": 164,
    "start_time": "2023-02-24T12:56:48.396Z"
   },
   {
    "duration": 118,
    "start_time": "2023-02-24T15:38:11.800Z"
   },
   {
    "duration": 46,
    "start_time": "2023-02-24T15:39:00.366Z"
   },
   {
    "duration": 1123,
    "start_time": "2023-02-24T15:39:11.144Z"
   },
   {
    "duration": 24,
    "start_time": "2023-02-24T15:39:12.520Z"
   },
   {
    "duration": 2219,
    "start_time": "2023-02-24T15:39:13.180Z"
   },
   {
    "duration": 9,
    "start_time": "2023-02-24T15:39:15.402Z"
   },
   {
    "duration": 11,
    "start_time": "2023-02-24T15:39:15.413Z"
   },
   {
    "duration": 17,
    "start_time": "2023-02-24T15:39:15.426Z"
   },
   {
    "duration": 20,
    "start_time": "2023-02-24T15:39:15.919Z"
   },
   {
    "duration": 11,
    "start_time": "2023-02-24T15:39:16.487Z"
   },
   {
    "duration": 14,
    "start_time": "2023-02-24T15:39:16.707Z"
   },
   {
    "duration": 12,
    "start_time": "2023-02-24T15:39:17.563Z"
   },
   {
    "duration": 15,
    "start_time": "2023-02-24T15:39:17.958Z"
   },
   {
    "duration": 7,
    "start_time": "2023-02-24T15:39:18.174Z"
   },
   {
    "duration": 9,
    "start_time": "2023-02-24T15:39:18.360Z"
   },
   {
    "duration": 5,
    "start_time": "2023-02-24T15:39:18.551Z"
   },
   {
    "duration": 5,
    "start_time": "2023-02-24T15:39:18.731Z"
   },
   {
    "duration": 5,
    "start_time": "2023-02-24T15:39:18.948Z"
   },
   {
    "duration": 5,
    "start_time": "2023-02-24T15:39:19.108Z"
   },
   {
    "duration": 4,
    "start_time": "2023-02-24T15:39:19.287Z"
   },
   {
    "duration": 6,
    "start_time": "2023-02-24T15:39:19.474Z"
   },
   {
    "duration": 5,
    "start_time": "2023-02-24T15:39:20.272Z"
   },
   {
    "duration": 6,
    "start_time": "2023-02-24T15:39:20.479Z"
   },
   {
    "duration": 10,
    "start_time": "2023-02-24T15:39:20.689Z"
   },
   {
    "duration": 13341,
    "start_time": "2023-02-24T15:39:20.917Z"
   },
   {
    "duration": 4,
    "start_time": "2023-02-24T15:39:34.260Z"
   },
   {
    "duration": 192,
    "start_time": "2023-02-24T15:39:34.266Z"
   },
   {
    "duration": 179,
    "start_time": "2023-02-24T15:39:34.461Z"
   },
   {
    "duration": 174,
    "start_time": "2023-02-24T15:39:34.642Z"
   },
   {
    "duration": 177,
    "start_time": "2023-02-24T15:39:34.817Z"
   },
   {
    "duration": 184,
    "start_time": "2023-02-24T15:39:34.996Z"
   },
   {
    "duration": 262,
    "start_time": "2023-02-24T15:39:35.181Z"
   },
   {
    "duration": 181,
    "start_time": "2023-02-24T15:39:35.447Z"
   },
   {
    "duration": 138,
    "start_time": "2023-02-24T15:39:35.633Z"
   },
   {
    "duration": 168,
    "start_time": "2023-02-24T15:39:35.773Z"
   },
   {
    "duration": 166,
    "start_time": "2023-02-24T15:39:35.943Z"
   },
   {
    "duration": 165,
    "start_time": "2023-02-24T15:39:36.110Z"
   },
   {
    "duration": 211,
    "start_time": "2023-02-24T15:39:36.276Z"
   },
   {
    "duration": 161,
    "start_time": "2023-02-24T15:39:36.489Z"
   },
   {
    "duration": 165,
    "start_time": "2023-02-24T15:39:36.652Z"
   },
   {
    "duration": 173,
    "start_time": "2023-02-24T15:39:36.818Z"
   },
   {
    "duration": 207,
    "start_time": "2023-02-24T15:39:36.993Z"
   },
   {
    "duration": 208,
    "start_time": "2023-02-24T15:39:37.201Z"
   },
   {
    "duration": 347,
    "start_time": "2023-02-24T15:39:37.411Z"
   },
   {
    "duration": 234,
    "start_time": "2023-02-24T15:39:37.760Z"
   },
   {
    "duration": 616,
    "start_time": "2023-02-24T15:39:37.996Z"
   },
   {
    "duration": 0,
    "start_time": "2023-02-24T15:39:38.614Z"
   },
   {
    "duration": 0,
    "start_time": "2023-02-24T15:39:38.616Z"
   },
   {
    "duration": 0,
    "start_time": "2023-02-24T15:39:38.619Z"
   },
   {
    "duration": 194,
    "start_time": "2023-02-24T15:43:18.174Z"
   },
   {
    "duration": 121,
    "start_time": "2023-02-24T15:48:13.057Z"
   },
   {
    "duration": 15,
    "start_time": "2023-02-24T15:50:39.098Z"
   },
   {
    "duration": 22,
    "start_time": "2023-02-24T15:52:16.617Z"
   },
   {
    "duration": 20,
    "start_time": "2023-02-24T15:52:24.840Z"
   },
   {
    "duration": 18,
    "start_time": "2023-02-24T15:52:43.876Z"
   },
   {
    "duration": 57,
    "start_time": "2023-02-24T15:52:54.340Z"
   },
   {
    "duration": 13,
    "start_time": "2023-02-24T15:54:14.193Z"
   },
   {
    "duration": 19,
    "start_time": "2023-02-24T15:54:23.906Z"
   },
   {
    "duration": 22,
    "start_time": "2023-02-24T15:55:15.172Z"
   },
   {
    "duration": 20,
    "start_time": "2023-02-24T15:55:25.176Z"
   },
   {
    "duration": 22,
    "start_time": "2023-02-24T15:58:07.441Z"
   },
   {
    "duration": 111,
    "start_time": "2023-02-24T16:00:14.308Z"
   },
   {
    "duration": 735,
    "start_time": "2023-02-24T21:42:04.579Z"
   },
   {
    "duration": 15,
    "start_time": "2023-02-24T21:42:05.316Z"
   },
   {
    "duration": 2002,
    "start_time": "2023-02-24T21:42:05.333Z"
   },
   {
    "duration": 9,
    "start_time": "2023-02-24T21:42:07.339Z"
   },
   {
    "duration": 7,
    "start_time": "2023-02-24T21:42:07.350Z"
   },
   {
    "duration": 9,
    "start_time": "2023-02-24T21:42:07.358Z"
   },
   {
    "duration": 10,
    "start_time": "2023-02-24T21:42:07.369Z"
   },
   {
    "duration": 8,
    "start_time": "2023-02-24T21:42:07.381Z"
   },
   {
    "duration": 40,
    "start_time": "2023-02-24T21:42:07.390Z"
   },
   {
    "duration": 11,
    "start_time": "2023-02-24T21:42:07.433Z"
   },
   {
    "duration": 16,
    "start_time": "2023-02-24T21:42:07.446Z"
   },
   {
    "duration": 6,
    "start_time": "2023-02-24T21:42:07.464Z"
   },
   {
    "duration": 16,
    "start_time": "2023-02-24T21:42:07.472Z"
   },
   {
    "duration": 22,
    "start_time": "2023-02-24T21:42:07.489Z"
   },
   {
    "duration": 17,
    "start_time": "2023-02-24T21:42:07.512Z"
   },
   {
    "duration": 5,
    "start_time": "2023-02-24T21:42:07.531Z"
   },
   {
    "duration": 6,
    "start_time": "2023-02-24T21:42:07.537Z"
   },
   {
    "duration": 5,
    "start_time": "2023-02-24T21:42:07.544Z"
   },
   {
    "duration": 9,
    "start_time": "2023-02-24T21:42:07.550Z"
   },
   {
    "duration": 5,
    "start_time": "2023-02-24T21:42:07.560Z"
   },
   {
    "duration": 10,
    "start_time": "2023-02-24T21:42:07.566Z"
   },
   {
    "duration": 8,
    "start_time": "2023-02-24T21:42:07.578Z"
   },
   {
    "duration": 12083,
    "start_time": "2023-02-24T21:42:07.587Z"
   },
   {
    "duration": 5,
    "start_time": "2023-02-24T21:42:19.671Z"
   },
   {
    "duration": 173,
    "start_time": "2023-02-24T21:42:19.677Z"
   },
   {
    "duration": 175,
    "start_time": "2023-02-24T21:42:19.852Z"
   },
   {
    "duration": 154,
    "start_time": "2023-02-24T21:42:20.028Z"
   },
   {
    "duration": 215,
    "start_time": "2023-02-24T21:42:20.185Z"
   },
   {
    "duration": 167,
    "start_time": "2023-02-24T21:42:20.402Z"
   },
   {
    "duration": 245,
    "start_time": "2023-02-24T21:42:20.570Z"
   },
   {
    "duration": 158,
    "start_time": "2023-02-24T21:42:20.817Z"
   },
   {
    "duration": 126,
    "start_time": "2023-02-24T21:42:20.977Z"
   },
   {
    "duration": 155,
    "start_time": "2023-02-24T21:42:21.104Z"
   },
   {
    "duration": 156,
    "start_time": "2023-02-24T21:42:21.260Z"
   },
   {
    "duration": 154,
    "start_time": "2023-02-24T21:42:21.417Z"
   },
   {
    "duration": 173,
    "start_time": "2023-02-24T21:42:21.573Z"
   },
   {
    "duration": 157,
    "start_time": "2023-02-24T21:42:21.748Z"
   },
   {
    "duration": 158,
    "start_time": "2023-02-24T21:42:21.907Z"
   },
   {
    "duration": 158,
    "start_time": "2023-02-24T21:42:22.066Z"
   },
   {
    "duration": 204,
    "start_time": "2023-02-24T21:42:22.227Z"
   },
   {
    "duration": 210,
    "start_time": "2023-02-24T21:42:22.432Z"
   },
   {
    "duration": 314,
    "start_time": "2023-02-24T21:42:22.644Z"
   },
   {
    "duration": 206,
    "start_time": "2023-02-24T21:42:22.959Z"
   },
   {
    "duration": 194,
    "start_time": "2023-02-24T21:42:23.167Z"
   },
   {
    "duration": 207,
    "start_time": "2023-02-24T21:42:23.363Z"
   },
   {
    "duration": 215,
    "start_time": "2023-02-24T21:42:23.572Z"
   },
   {
    "duration": 208,
    "start_time": "2023-02-24T21:42:23.789Z"
   },
   {
    "duration": 1099,
    "start_time": "2023-02-24T21:42:23.999Z"
   },
   {
    "duration": 18,
    "start_time": "2023-02-24T21:42:25.099Z"
   },
   {
    "duration": 23,
    "start_time": "2023-02-24T21:42:25.127Z"
   },
   {
    "duration": 1170,
    "start_time": "2023-02-25T06:01:45.224Z"
   },
   {
    "duration": 16,
    "start_time": "2023-02-25T06:01:46.396Z"
   },
   {
    "duration": 1990,
    "start_time": "2023-02-25T06:01:46.414Z"
   },
   {
    "duration": 9,
    "start_time": "2023-02-25T06:01:48.407Z"
   },
   {
    "duration": 7,
    "start_time": "2023-02-25T06:01:48.418Z"
   },
   {
    "duration": 9,
    "start_time": "2023-02-25T06:01:48.427Z"
   },
   {
    "duration": 181,
    "start_time": "2023-02-25T06:01:48.438Z"
   },
   {
    "duration": 9,
    "start_time": "2023-02-25T06:01:48.956Z"
   },
   {
    "duration": 15,
    "start_time": "2023-02-25T06:01:49.306Z"
   },
   {
    "duration": 11,
    "start_time": "2023-02-25T06:01:49.964Z"
   },
   {
    "duration": 15,
    "start_time": "2023-02-25T06:01:50.376Z"
   },
   {
    "duration": 7,
    "start_time": "2023-02-25T06:01:50.582Z"
   },
   {
    "duration": 9,
    "start_time": "2023-02-25T06:01:50.764Z"
   },
   {
    "duration": 4,
    "start_time": "2023-02-25T06:01:50.939Z"
   },
   {
    "duration": 4,
    "start_time": "2023-02-25T06:01:51.120Z"
   },
   {
    "duration": 5,
    "start_time": "2023-02-25T06:01:51.288Z"
   },
   {
    "duration": 4,
    "start_time": "2023-02-25T06:01:51.456Z"
   },
   {
    "duration": 4,
    "start_time": "2023-02-25T06:01:51.630Z"
   },
   {
    "duration": 6,
    "start_time": "2023-02-25T06:01:51.816Z"
   },
   {
    "duration": 4,
    "start_time": "2023-02-25T06:01:52.518Z"
   },
   {
    "duration": 7,
    "start_time": "2023-02-25T06:01:52.703Z"
   },
   {
    "duration": 8,
    "start_time": "2023-02-25T06:01:52.896Z"
   },
   {
    "duration": 12560,
    "start_time": "2023-02-25T06:01:53.037Z"
   },
   {
    "duration": 6,
    "start_time": "2023-02-25T06:02:05.599Z"
   },
   {
    "duration": 186,
    "start_time": "2023-02-25T06:02:05.607Z"
   },
   {
    "duration": 169,
    "start_time": "2023-02-25T06:02:05.795Z"
   },
   {
    "duration": 163,
    "start_time": "2023-02-25T06:02:05.966Z"
   },
   {
    "duration": 162,
    "start_time": "2023-02-25T06:02:06.131Z"
   },
   {
    "duration": 209,
    "start_time": "2023-02-25T06:02:06.296Z"
   },
   {
    "duration": 178,
    "start_time": "2023-02-25T06:02:06.506Z"
   },
   {
    "duration": 241,
    "start_time": "2023-02-25T06:02:06.686Z"
   },
   {
    "duration": 127,
    "start_time": "2023-02-25T06:02:06.930Z"
   },
   {
    "duration": 163,
    "start_time": "2023-02-25T06:02:07.058Z"
   },
   {
    "duration": 146,
    "start_time": "2023-02-25T06:02:07.222Z"
   },
   {
    "duration": 152,
    "start_time": "2023-02-25T06:02:07.370Z"
   },
   {
    "duration": 175,
    "start_time": "2023-02-25T06:02:07.523Z"
   },
   {
    "duration": 150,
    "start_time": "2023-02-25T06:02:07.700Z"
   },
   {
    "duration": 152,
    "start_time": "2023-02-25T06:02:07.852Z"
   },
   {
    "duration": 156,
    "start_time": "2023-02-25T06:02:08.005Z"
   },
   {
    "duration": 198,
    "start_time": "2023-02-25T06:02:08.162Z"
   },
   {
    "duration": 195,
    "start_time": "2023-02-25T06:02:08.362Z"
   },
   {
    "duration": 210,
    "start_time": "2023-02-25T06:02:08.558Z"
   },
   {
    "duration": 205,
    "start_time": "2023-02-25T06:02:08.769Z"
   },
   {
    "duration": 284,
    "start_time": "2023-02-25T06:02:08.976Z"
   },
   {
    "duration": 196,
    "start_time": "2023-02-25T06:02:09.262Z"
   },
   {
    "duration": 189,
    "start_time": "2023-02-25T06:02:09.459Z"
   },
   {
    "duration": 203,
    "start_time": "2023-02-25T06:02:09.650Z"
   },
   {
    "duration": 1129,
    "start_time": "2023-02-25T06:02:09.855Z"
   },
   {
    "duration": 17,
    "start_time": "2023-02-25T06:02:10.985Z"
   },
   {
    "duration": 1250,
    "start_time": "2023-02-25T06:02:11.005Z"
   },
   {
    "duration": 186,
    "start_time": "2023-02-25T06:03:07.311Z"
   },
   {
    "duration": 1089,
    "start_time": "2023-02-25T06:03:09.765Z"
   },
   {
    "duration": 13,
    "start_time": "2023-02-25T06:03:10.857Z"
   },
   {
    "duration": 142,
    "start_time": "2023-02-25T06:03:27.362Z"
   },
   {
    "duration": 25,
    "start_time": "2023-02-25T06:03:45.987Z"
   },
   {
    "duration": 149,
    "start_time": "2023-02-25T06:04:00.132Z"
   },
   {
    "duration": 143,
    "start_time": "2023-02-25T06:04:58.567Z"
   },
   {
    "duration": 396,
    "start_time": "2023-02-25T06:05:08.182Z"
   },
   {
    "duration": 377,
    "start_time": "2023-02-25T06:05:27.797Z"
   },
   {
    "duration": 465,
    "start_time": "2023-02-25T06:05:53.988Z"
   },
   {
    "duration": 313,
    "start_time": "2023-02-25T06:06:06.921Z"
   },
   {
    "duration": 82,
    "start_time": "2023-02-25T06:11:17.026Z"
   },
   {
    "duration": 321,
    "start_time": "2023-02-25T06:11:41.472Z"
   },
   {
    "duration": 81,
    "start_time": "2023-02-25T06:20:02.133Z"
   },
   {
    "duration": 1021,
    "start_time": "2023-02-27T11:12:53.018Z"
   },
   {
    "duration": 20,
    "start_time": "2023-02-27T11:12:54.043Z"
   },
   {
    "duration": 2054,
    "start_time": "2023-02-27T11:12:54.065Z"
   },
   {
    "duration": 9,
    "start_time": "2023-02-27T11:12:56.122Z"
   },
   {
    "duration": 7,
    "start_time": "2023-02-27T11:12:56.133Z"
   },
   {
    "duration": 10,
    "start_time": "2023-02-27T11:12:56.142Z"
   },
   {
    "duration": 12,
    "start_time": "2023-02-27T11:12:56.153Z"
   },
   {
    "duration": 9,
    "start_time": "2023-02-27T11:12:56.167Z"
   },
   {
    "duration": 51,
    "start_time": "2023-02-27T11:12:56.178Z"
   },
   {
    "duration": 13,
    "start_time": "2023-02-27T11:12:56.535Z"
   },
   {
    "duration": 16,
    "start_time": "2023-02-27T11:12:56.869Z"
   },
   {
    "duration": 8,
    "start_time": "2023-02-27T11:12:57.039Z"
   },
   {
    "duration": 9,
    "start_time": "2023-02-27T11:12:57.232Z"
   },
   {
    "duration": 4,
    "start_time": "2023-02-27T11:12:57.403Z"
   },
   {
    "duration": 4,
    "start_time": "2023-02-27T11:12:57.587Z"
   },
   {
    "duration": 6,
    "start_time": "2023-02-27T11:12:57.792Z"
   },
   {
    "duration": 5,
    "start_time": "2023-02-27T11:12:57.971Z"
   },
   {
    "duration": 4,
    "start_time": "2023-02-27T11:12:58.127Z"
   },
   {
    "duration": 5,
    "start_time": "2023-02-27T11:12:58.318Z"
   },
   {
    "duration": 5,
    "start_time": "2023-02-27T11:12:59.043Z"
   },
   {
    "duration": 6,
    "start_time": "2023-02-27T11:12:59.266Z"
   },
   {
    "duration": 9,
    "start_time": "2023-02-27T11:12:59.521Z"
   },
   {
    "duration": 12734,
    "start_time": "2023-02-27T11:12:59.783Z"
   },
   {
    "duration": 8,
    "start_time": "2023-02-27T11:13:12.519Z"
   },
   {
    "duration": 89,
    "start_time": "2023-02-27T11:13:42.994Z"
   },
   {
    "duration": 1750,
    "start_time": "2023-02-27T11:14:02.579Z"
   },
   {
    "duration": 7,
    "start_time": "2023-02-27T11:14:19.287Z"
   },
   {
    "duration": 6,
    "start_time": "2023-02-27T11:14:31.275Z"
   },
   {
    "duration": 8,
    "start_time": "2023-02-27T11:16:57.132Z"
   }
  ],
  "kernelspec": {
   "display_name": "Python 3 (ipykernel)",
   "language": "python",
   "name": "python3"
  },
  "language_info": {
   "codemirror_mode": {
    "name": "ipython",
    "version": 3
   },
   "file_extension": ".py",
   "mimetype": "text/x-python",
   "name": "python",
   "nbconvert_exporter": "python",
   "pygments_lexer": "ipython3",
   "version": "3.10.1"
  },
  "toc": {
   "base_numbering": 1,
   "nav_menu": {},
   "number_sections": true,
   "sideBar": true,
   "skip_h1_title": true,
   "title_cell": "Table of Contents",
   "title_sidebar": "Contents",
   "toc_cell": false,
   "toc_position": {},
   "toc_section_display": true,
   "toc_window_display": false
  }
 },
 "nbformat": 4,
 "nbformat_minor": 2
}
